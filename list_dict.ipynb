{
 "cells": [
  {
   "cell_type": "markdown",
   "metadata": {},
   "source": [
    "Performing mathematical operations on the entire list"
   ]
  },
  {
   "cell_type": "code",
   "execution_count": 8,
   "metadata": {},
   "outputs": [
    {
     "name": "stdout",
     "output_type": "stream",
     "text": [
      "[4, 9, 25, 49, 121]\n",
      "{2: 4, 3: 9, 5: 25, 7: 49, 11: 121}\n"
     ]
    }
   ],
   "source": [
    "my_list = [2, 3, 5, 7, 11]\n",
    "squared_list = [x**2 for x in my_list]    # list comprehension\n",
    "print(squared_list)\n",
    "squared_dict = {x:x**2 for x in my_list}    # dict comprehension\n",
    "print(squared_dict)\n"
   ]
  },
  {
   "cell_type": "markdown",
   "metadata": {},
   "source": [
    "Performing conditional filtering operations on the entire list"
   ]
  },
  {
   "cell_type": "code",
   "execution_count": 9,
   "metadata": {},
   "outputs": [
    {
     "name": "stdout",
     "output_type": "stream",
     "text": [
      "[9, 25, 49, 121]\n",
      "{3: 9, 5: 25, 7: 49, 11: 121}\n"
     ]
    }
   ],
   "source": [
    "my_list = [2, 3, 5, 7, 11]\n",
    "squared_list = [x**2 for x in my_list if x%2 != 0]    # list comprehension\n",
    "print(squared_list)\n",
    "squared_dict = {x:x**2 for x in my_list if x%2 != 0}    # dict comprehension\n",
    "print(squared_dict)\n",
    "# output => {11: 121, 3: 9 , 5: 25 , 7: 49}"
   ]
  },
  {
   "cell_type": "markdown",
   "metadata": {},
   "source": [
    "Combining multiple lists into one"
   ]
  },
  {
   "cell_type": "code",
   "execution_count": 10,
   "metadata": {},
   "outputs": [
    {
     "name": "stdout",
     "output_type": "stream",
     "text": [
      "[8, 10, 12]\n",
      "[(1, 7), (1, 8), (1, 9), (2, 7), (2, 8), (2, 9), (3, 7), (3, 8), (3, 9)]\n"
     ]
    }
   ],
   "source": [
    "a = [1, 2, 3]\n",
    "b = [7, 8, 9]\n",
    "lst = [(x + y) for (x,y) in zip(a,b)]  # parallel iterators\n",
    "print(lst)\n",
    "dic = [(x,y) for x in a for y in b]    # nested iterators\n",
    "print(dic)"
   ]
  },
  {
   "cell_type": "markdown",
   "metadata": {},
   "source": [
    "Flattening a multi-dimensional list"
   ]
  },
  {
   "cell_type": "code",
   "execution_count": 11,
   "metadata": {},
   "outputs": [
    {
     "name": "stdout",
     "output_type": "stream",
     "text": [
      "[10, 20, 30, 40, 50, 60, 70, 80, 90]\n"
     ]
    }
   ],
   "source": [
    "my_list = [[10, 20, 30], [40, 50, 60], [70, 80, 90]]\n",
    "flattened = [x for temp in my_list for x in temp]\n",
    "print(flattened)"
   ]
  },
  {
   "cell_type": "code",
   "execution_count": 13,
   "metadata": {},
   "outputs": [
    {
     "name": "stdout",
     "output_type": "stream",
     "text": [
      "[1, 2, [3, 5, 6], 7]\n",
      "[1, 2, [3, 5, 6], 4]\n",
      "[1, 2, [3, 5, 6, 7], 8]\n",
      "[1, 2, [3, 5, 6], 4]\n"
     ]
    }
   ],
   "source": [
    "from copy import copy, deepcopy\n",
    "list_1 = [1, 2, [3, 5], 4]\n",
    "# shallow copy\n",
    "list_2 = copy(list_1)\n",
    "list_2[3] = 7\n",
    "list_2[2].append(6)\n",
    "print(list_2)    # output => [1, 2, [3, 5, 6], 7]\n",
    "print(list_1)    # output => [1, 2, [3, 5, 6], 4]\n",
    "# deep copy\n",
    "list_3 = deepcopy(list_1)\n",
    "list_3[3] = 8\n",
    "list_3[2].append(7)\n",
    "print(list_3)    # output => [1, 2, [3, 5, 6, 7], 8]\n",
    "print(list_1)    # output => [1, 2, [3, 5, 6], 4]"
   ]
  },
  {
   "cell_type": "code",
   "execution_count": 15,
   "metadata": {},
   "outputs": [
    {
     "name": "stdout",
     "output_type": "stream",
     "text": [
      "[1, 2, [3, 5, 6, 7, 9], 9]\n",
      "[1, 2, [3, 5, 6, 7, 9], 9]\n"
     ]
    }
   ],
   "source": [
    "list_3 = list_1\n",
    "list_3[3] = 9\n",
    "list_3[2].append(9)\n",
    "print(list_3)    # output => [1, 2, [3, 5, 6, 7], 8]\n",
    "print(list_1)"
   ]
  },
  {
   "cell_type": "code",
   "execution_count": 1,
   "metadata": {},
   "outputs": [
    {
     "name": "stdout",
     "output_type": "stream",
     "text": [
      "[1, 2, 3, 4, 5, 6]\n"
     ]
    }
   ],
   "source": [
    "a = [1, 2, 3]\n",
    "b = [4, 5, 6]\n",
    "print(a + b)"
   ]
  }
 ],
 "metadata": {
  "kernelspec": {
   "display_name": "base",
   "language": "python",
   "name": "python3"
  },
  "language_info": {
   "codemirror_mode": {
    "name": "ipython",
    "version": 3
   },
   "file_extension": ".py",
   "mimetype": "text/x-python",
   "name": "python",
   "nbconvert_exporter": "python",
   "pygments_lexer": "ipython3",
   "version": "2022.10.undefined"
  }
 },
 "nbformat": 4,
 "nbformat_minor": 2
}
