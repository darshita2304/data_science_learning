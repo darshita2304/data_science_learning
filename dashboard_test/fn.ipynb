{
 "cells": [
  {
   "cell_type": "code",
   "execution_count": 1,
   "metadata": {},
   "outputs": [
    {
     "name": "stdout",
     "output_type": "stream",
     "text": [
      "['Jan-2024', 'Feb-2024', 'Mar-2024', 'Apr-2024', 'May-2024', 'Jun-2024']\n"
     ]
    }
   ],
   "source": [
    "from datetime import datetime, timedelta\n",
    "\n",
    "def generate_monthly_labels(start_date, end_date):\n",
    "    monthly_labels = []\n",
    "    current_date = start_date\n",
    "\n",
    "    while current_date <= end_date:\n",
    "        monthly_labels.append(current_date.strftime(\"%b-%Y\"))\n",
    "        # Move to the next month\n",
    "        next_month = current_date.month + 1 if current_date.month < 12 else 1\n",
    "        next_year = current_date.year if current_date.month < 12 else current_date.year + 1\n",
    "        current_date = current_date.replace(year=next_year, month=next_month)\n",
    "\n",
    "    return monthly_labels\n",
    "\n",
    "# Define the date range\n",
    "start_date = datetime(2024, 1, 1)\n",
    "end_date = datetime(2024, 6, 30)\n",
    "\n",
    "# Generate monthly labels\n",
    "monthly_labels = generate_monthly_labels(start_date, end_date)\n",
    "print(monthly_labels)"
   ]
  },
  {
   "cell_type": "code",
   "execution_count": 2,
   "metadata": {},
   "outputs": [
    {
     "name": "stdout",
     "output_type": "stream",
     "text": [
      "False\n",
      "['Feb-2024', 'Jan-2024', 'Dec-2023', 'Nov-2023', 'Oct-2023', 'Sep-2023']\n",
      "[datetime.datetime(2024, 2, 23, 0, 0), datetime.datetime(2024, 1, 23, 0, 0), datetime.datetime(2023, 12, 23, 0, 0), datetime.datetime(2023, 11, 23, 0, 0), datetime.datetime(2023, 10, 23, 0, 0), datetime.datetime(2023, 9, 23, 0, 0)]\n"
     ]
    }
   ],
   "source": [
    "############Monthly label generation#########\n",
    "import calendar\n",
    "from dateutil.relativedelta import relativedelta\n",
    "\n",
    "def generate_last_day(date):\n",
    "    return calendar.monthrange(date.year, date.month)[1]\n",
    "\n",
    "def generate_month_labels(business_date, period_start, length):\n",
    "\n",
    "    is_monthend = (generate_last_day(business_date) == business_date.day)\n",
    "    print(is_monthend)\n",
    "    labels = []\n",
    "    dates = []\n",
    "    if period_start == \"T\":\n",
    "        current_date = business_date        \n",
    "    else:\n",
    "        arg = period_start.split(\"-\")\n",
    "        mon = arg[1]\n",
    "        current_date = business_date - relativedelta(months=int(mon))\n",
    "    \n",
    "    # for i in range(length, 0, -1):\n",
    "    #     labels.append(current_date.strftime(\"%b-%Y\"))\n",
    "    #     prev_month = 12 if current_date.month == 1 else current_date.month - 1\n",
    "    #     # print(f\"month - {prev_month}\")\n",
    "    #     prev_year = current_date.year -1 if current_date.month == 1 else current_date.year\n",
    "    #     # print(f\"year - {prev_year}\")\n",
    "    #     current_date = current_date.replace(year=prev_year, month = prev_month)\n",
    "    #     dates.append(current_date)        \n",
    "    for i in range(length, 0, -1):\n",
    "        if is_monthend:\n",
    "             current_date = current_date.replace(day = generate_last_day(current_date))\n",
    "        dates.append(current_date)\n",
    "        labels.append(current_date.strftime(\"%b-%Y\"))\n",
    "        current_date = current_date - relativedelta(months=1)  \n",
    "           \n",
    "    return labels, dates\n",
    "\n",
    "business_date = datetime(2024, 3, 23)\n",
    "period_start = \"T-1\"\n",
    "# interval = \"M\"\n",
    "length = 6\n",
    "\n",
    "lbls, dates = generate_month_labels(business_date,period_start, length)\n",
    "print(lbls)\n",
    "\n",
    "print(dates)"
   ]
  },
  {
   "cell_type": "code",
   "execution_count": 3,
   "metadata": {},
   "outputs": [
    {
     "ename": "TypeError",
     "evalue": "cannot unpack non-iterable bool object",
     "output_type": "error",
     "traceback": [
      "\u001b[1;31m---------------------------------------------------------------------------\u001b[0m",
      "\u001b[1;31mTypeError\u001b[0m                                 Traceback (most recent call last)",
      "Cell \u001b[1;32mIn[3], line 16\u001b[0m\n\u001b[0;32m     14\u001b[0m date_str \u001b[38;5;241m=\u001b[39m \u001b[38;5;124m\"\u001b[39m\u001b[38;5;124m2024-03-31\u001b[39m\u001b[38;5;124m\"\u001b[39m\n\u001b[0;32m     15\u001b[0m date \u001b[38;5;241m=\u001b[39m datetime\u001b[38;5;241m.\u001b[39mstrptime(date_str, \u001b[38;5;124m\"\u001b[39m\u001b[38;5;124m%\u001b[39m\u001b[38;5;124mY-\u001b[39m\u001b[38;5;124m%\u001b[39m\u001b[38;5;124mm-\u001b[39m\u001b[38;5;132;01m%d\u001b[39;00m\u001b[38;5;124m\"\u001b[39m)\n\u001b[1;32m---> 16\u001b[0m is_end, last_day \u001b[38;5;241m=\u001b[39m is_end_of_month(date)\n\u001b[0;32m     17\u001b[0m \u001b[38;5;28;01mif\u001b[39;00m is_end:\n\u001b[0;32m     18\u001b[0m     \u001b[38;5;28mprint\u001b[39m(\u001b[38;5;124mf\u001b[39m\u001b[38;5;124m\"\u001b[39m\u001b[38;5;132;01m{\u001b[39;00mdate_str\u001b[38;5;132;01m}\u001b[39;00m\u001b[38;5;124m is the end of the month.\u001b[39m\u001b[38;5;124m\"\u001b[39m)\n",
      "\u001b[1;31mTypeError\u001b[0m: cannot unpack non-iterable bool object"
     ]
    }
   ],
   "source": [
    "import calendar\n",
    "from datetime import datetime\n",
    "\n",
    "def is_end_of_month(date):\n",
    "    \"\"\"Checks if a given date is the last day of the month.\"\"\"\n",
    "\n",
    "    # Get the last day of the month for the given date\n",
    "    last_day = calendar.monthrange(date.year, date.month)[1]\n",
    "\n",
    "    # Check if the given date is the last day of the month\n",
    "    return date.day == last_day\n",
    "\n",
    "# Example usage\n",
    "date_str = \"2024-03-31\"\n",
    "date = datetime.strptime(date_str, \"%Y-%m-%d\")\n",
    "is_end, last_day = is_end_of_month(date)\n",
    "if is_end:\n",
    "    print(f\"{date_str} is the end of the month.\")\n",
    "    print(f\"last day is {last_day}\")\n",
    "else:\n",
    "    print(f\"{date_str} is not the end of the month.\")"
   ]
  },
  {
   "cell_type": "code",
   "execution_count": 18,
   "metadata": {},
   "outputs": [
    {
     "name": "stdout",
     "output_type": "stream",
     "text": [
      "['2023', '2022', '2021', '2020', '2019', '2018']\n",
      "[datetime.datetime(2023, 4, 15, 0, 0), datetime.datetime(2022, 4, 15, 0, 0), datetime.datetime(2021, 4, 15, 0, 0), datetime.datetime(2020, 4, 15, 0, 0), datetime.datetime(2019, 4, 15, 0, 0), datetime.datetime(2018, 4, 15, 0, 0), datetime.datetime(2017, 4, 15, 0, 0)]\n"
     ]
    }
   ],
   "source": [
    "############### Yearly LAbles generation ##########\n",
    "from dateutil.relativedelta import relativedelta\n",
    "\n",
    "def generate_year_labels(business_date, period_start, length):\n",
    "    \n",
    "    labels = []\n",
    "    dates = []\n",
    "    if period_start == \"T\":\n",
    "        current_date = business_date        \n",
    "    else:\n",
    "        arg = period_start.split(\"-\")\n",
    "        yy = arg[1]\n",
    "        current_date = business_date - relativedelta(years=int(yy))\n",
    "        \n",
    "    dates.append(current_date)\n",
    "    \n",
    "    for i in range(length, 0, -1):\n",
    "        labels.append(current_date.strftime(\"%Y\"))\n",
    "        # print(current_date.year)\n",
    "        # prev_year = current_date.year - 1\n",
    "        # current_date = current_date.replace(year=prev_year)\n",
    "        current_date = current_date - relativedelta(years=1)\n",
    "        dates.append(current_date)        \n",
    "        \n",
    "    return labels, dates\n",
    "\n",
    "business_date = datetime(2024, 4, 15)\n",
    "period_start = \"T-1\"\n",
    "# interval = \"M\"\n",
    "length = 6\n",
    "\n",
    "lbls, dates = generate_year_labels(business_date,period_start, length)\n",
    "print(lbls)\n",
    "\n",
    "print(dates)"
   ]
  },
  {
   "cell_type": "code",
   "execution_count": 23,
   "metadata": {},
   "outputs": [
    {
     "name": "stdout",
     "output_type": "stream",
     "text": [
      "['week 6 (20 Sep 2024)', 'week 5 (13 Sep 2024)', 'week 4 (06 Sep 2024)', 'week 3 (30 Aug 2024)', 'week 2 (23 Aug 2024)', 'week 1 (16 Aug 2024)']\n",
      "[datetime.datetime(2024, 9, 20, 0, 0), datetime.datetime(2024, 9, 13, 0, 0), datetime.datetime(2024, 9, 6, 0, 0), datetime.datetime(2024, 8, 30, 0, 0), datetime.datetime(2024, 8, 23, 0, 0), datetime.datetime(2024, 8, 16, 0, 0), datetime.datetime(2024, 8, 9, 0, 0)]\n"
     ]
    }
   ],
   "source": [
    "############# Weekly labels generations..##############\n",
    "from dateutil.relativedelta import relativedelta\n",
    "\n",
    "def generate_week_labels(business_date, period_start, length):\n",
    "    \n",
    "    labels = []\n",
    "    dates = []\n",
    "    if period_start == \"T\":\n",
    "        current_date = business_date        \n",
    "    else:\n",
    "        arg = period_start.split(\"-\")\n",
    "        ww = arg[1]\n",
    "        current_date = business_date - relativedelta(weeks=int(ww))\n",
    "        \n",
    "    dates.append(current_date)\n",
    "    \n",
    "    for i in range(length, 0, -1):        \n",
    "        week_label = f\"week {i} ({current_date.strftime('%d %b %Y')})\"\n",
    "        labels.append(week_label)\n",
    "        # print(current_date.year)\n",
    "        # prev_year = current_date.year - 1\n",
    "        # current_date = current_date.replace(year=prev_year)\n",
    "        current_date = current_date - relativedelta(weeks=1)\n",
    "        dates.append(current_date)        \n",
    "        \n",
    "    return labels, dates\n",
    "\n",
    "business_date = datetime(2024, 9, 20)\n",
    "period_start = \"T\"\n",
    "# interval = \"M\"\n",
    "length = 6\n",
    "\n",
    "lbls, dates = generate_week_labels(business_date,period_start, length)\n",
    "print(lbls)\n",
    "\n",
    "print(dates)"
   ]
  },
  {
   "cell_type": "code",
   "execution_count": 27,
   "metadata": {},
   "outputs": [
    {
     "name": "stdout",
     "output_type": "stream",
     "text": [
      "['01-Jan-2024', '31-Dec-2023', '30-Dec-2023', '29-Dec-2023', '28-Dec-2023', '27-Dec-2023']\n",
      "[datetime.datetime(2024, 1, 1, 0, 0), datetime.datetime(2023, 12, 31, 0, 0), datetime.datetime(2023, 12, 30, 0, 0), datetime.datetime(2023, 12, 29, 0, 0), datetime.datetime(2023, 12, 28, 0, 0), datetime.datetime(2023, 12, 27, 0, 0), datetime.datetime(2023, 12, 26, 0, 0)]\n"
     ]
    }
   ],
   "source": [
    "############# Weekly labels generations..##############\n",
    "from dateutil.relativedelta import relativedelta\n",
    "\n",
    "def generate_daily_labels(business_date, period_start, length):\n",
    "    \n",
    "    labels = []\n",
    "    dates = []\n",
    "    if period_start == \"T\":\n",
    "        current_date = business_date        \n",
    "    else:\n",
    "        arg = period_start.split(\"-\")\n",
    "        dd = arg[1]\n",
    "        current_date = business_date - relativedelta(days=int(dd))\n",
    "        \n",
    "    dates.append(current_date)\n",
    "    \n",
    "    for i in range(length, 0, -1):        \n",
    "        labels.append(current_date.strftime(\"%d-%b-%Y\"))\n",
    "        # print(current_date.year)\n",
    "        # prev_year = current_date.year - 1\n",
    "        # current_date = current_date.replace(year=prev_year)\n",
    "        current_date = current_date - relativedelta(days=1)\n",
    "        dates.append(current_date)        \n",
    "        \n",
    "    return labels, dates\n",
    "\n",
    "business_date = datetime(2024, 1, 1)\n",
    "period_start = \"T\"\n",
    "# interval = \"M\"\n",
    "length = 6\n",
    "\n",
    "lbls, dates = generate_daily_labels(business_date,period_start, length)\n",
    "print(lbls)\n",
    "\n",
    "print(dates)"
   ]
  },
  {
   "cell_type": "code",
   "execution_count": 1,
   "metadata": {},
   "outputs": [
    {
     "name": "stdout",
     "output_type": "stream",
     "text": [
      "Monthly Labels: ['sep-2024', 'aug-2024', 'jul-2024']\n",
      "Weekly Labels: ['week 4 (31 Aug 2024)', 'week 3 (24 Aug 2024)', 'week 2 (17 Aug 2024)', 'week 1 (10 Aug 2024)']\n",
      "Daily Labels: ['31-Aug-2024', '30-Aug-2024', '29-Aug-2024', '28-Aug-2024', '27-Aug-2024', '26-Aug-2024', '25-Aug-2024']\n",
      "Yearly Labels: ['2022', '2023', '2024']\n"
     ]
    }
   ],
   "source": [
    "from datetime import datetime, timedelta\n",
    "\n",
    "def generate_monthly_labels(start_date_str, length):\n",
    "    start_date = datetime.strptime(start_date_str, \"%d %b %Y\")\n",
    "    monthly_labels = []\n",
    "    \n",
    "    for i in range(length):\n",
    "        month_label = (start_date.replace(day=1) - timedelta(days=i * 30))\n",
    "        monthly_labels.append(month_label.strftime(\"%b-%Y\").lower())\n",
    "    \n",
    "    return monthly_labels\n",
    "\n",
    "def generate_weekly_labels(start_date_str, length):\n",
    "    start_date = datetime.strptime(start_date_str, \"%d %b %Y\")\n",
    "    weekly_labels = []\n",
    "    \n",
    "    for i in range(length):\n",
    "        week_number = length - i\n",
    "        week_start_date = start_date - timedelta(weeks=i)\n",
    "        week_label = f\"week {week_number} ({week_start_date.strftime('%d %b %Y')})\"\n",
    "        weekly_labels.append(week_label)\n",
    "    \n",
    "    return weekly_labels\n",
    "\n",
    "def generate_daily_labels(start_date_str, length):\n",
    "    start_date = datetime.strptime(start_date_str, \"%d %b %Y\")\n",
    "    daily_labels = []\n",
    "    \n",
    "    for i in range(length):\n",
    "        day_label = (start_date - timedelta(days=i)).strftime(\"%d-%b-%Y\")\n",
    "        daily_labels.append(day_label)\n",
    "    \n",
    "    return daily_labels\n",
    "\n",
    "def generate_yearly_labels(start_date_str, length=3):\n",
    "    start_date = datetime.strptime(start_date_str, \"%d %b %Y\")\n",
    "    yearly_labels = []\n",
    "    \n",
    "    for i in range(length):\n",
    "        year_label = (start_date.replace(month=1, day=1) - timedelta(days=i * 365))\n",
    "        yearly_labels.append(year_label.strftime(\"%Y\"))\n",
    "    \n",
    "    return yearly_labels[::-1]  # Reverse to get latest year first\n",
    "\n",
    "# Example usage\n",
    "monthly_labels = generate_monthly_labels(\"20 sep 2024\", length=3)\n",
    "weekly_labels = generate_weekly_labels(\"31 aug 2024\", length=4)\n",
    "daily_labels = generate_daily_labels(\"31 aug 2024\", length=7)\n",
    "yearly_labels = generate_yearly_labels(\"20 sep 2024\", length=3)\n",
    "\n",
    "# Print results\n",
    "print(\"Monthly Labels:\", monthly_labels)\n",
    "print(\"Weekly Labels:\", weekly_labels)\n",
    "print(\"Daily Labels:\", daily_labels)\n",
    "print(\"Yearly Labels:\", yearly_labels)"
   ]
  },
  {
   "cell_type": "code",
   "execution_count": 9,
   "metadata": {},
   "outputs": [],
   "source": [
    "def get_last_day(date):\n",
    "    print(\"get_last\")\n",
    "    return calendar.monthrange(date.year, date.month)[1]\n",
    "\n",
    "\n",
    "def get_datelist_labels_by_periodrange(business_date, period_start, length, interval):\n",
    "    labels = []\n",
    "    dates = []\n",
    "    is_monthend = False\n",
    "    \n",
    "    period_start = str(period_start[0])\n",
    "    interval = str(interval[0])\n",
    "    is_monthend = (get_last_day(business_date) == business_date.day)\n",
    "            \n",
    "    if period_start == \"T\":\n",
    "        current_date = business_date\n",
    "    else:\n",
    "        arg = period_start.split(\"-\")\n",
    "        delta = int(arg[1])\n",
    "        if interval == \"W\":\n",
    "            current_date = business_date - relativedelta(weeks=delta)\n",
    "        elif interval == \"D\":\n",
    "            current_date = business_date - relativedelta(days=delta)\n",
    "        elif interval == \"Y\":\n",
    "            current_date = business_date - relativedelta(years=delta)\n",
    "        elif interval == \"M\":\n",
    "           \n",
    "            current_date = business_date - relativedelta(months=delta)\n",
    "    print(\"hellll\")\n",
    "    for i in range(length, 0, -1):\n",
    "        if is_monthend:\n",
    "            current_date = current_date.replace(day = get_last_day(current_date))\n",
    "            print(\"date end changes..\")\n",
    "        dates.append(current_date)\n",
    "        if interval == \"W\":\n",
    "            label = f\"week {i} ({current_date.strftime('%d %b %Y')})\"\n",
    "            current_date -= relativedelta(weeks=1)\n",
    "        elif interval == \"D\":\n",
    "            label = current_date.strftime(\"%d-%b-%Y\")\n",
    "            current_date -= relativedelta(days=1)\n",
    "        elif interval == \"Y\":\n",
    "            label = current_date.strftime(\"%Y\")\n",
    "            current_date -= relativedelta(years=1)\n",
    "        elif interval == \"M\":\n",
    "            label = current_date.strftime(\"%b-%Y\")\n",
    "            current_date -= relativedelta(months=1)\n",
    "        else:\n",
    "            label = \"\"\n",
    "        labels.append(label)  \n",
    "    print(labels)\n",
    "    print(dates)  \n",
    "    return labels, dates\n"
   ]
  },
  {
   "cell_type": "code",
   "execution_count": 11,
   "metadata": {},
   "outputs": [
    {
     "name": "stdout",
     "output_type": "stream",
     "text": [
      "get_last\n",
      "True\n",
      "hellll\n",
      "get_last\n",
      "date end changes..\n",
      "get_last\n",
      "date end changes..\n",
      "get_last\n",
      "date end changes..\n",
      "get_last\n",
      "date end changes..\n",
      "get_last\n",
      "date end changes..\n",
      "get_last\n",
      "date end changes..\n",
      "['Jul-2024', 'Jun-2024', 'May-2024', 'Apr-2024', 'Mar-2024', 'Feb-2024']\n",
      "[datetime.datetime(2024, 7, 31, 0, 0), datetime.datetime(2024, 6, 30, 0, 0), datetime.datetime(2024, 5, 31, 0, 0), datetime.datetime(2024, 4, 30, 0, 0), datetime.datetime(2024, 3, 31, 0, 0), datetime.datetime(2024, 2, 29, 0, 0)]\n"
     ]
    },
    {
     "data": {
      "text/plain": [
       "(['Jul-2024', 'Jun-2024', 'May-2024', 'Apr-2024', 'Mar-2024', 'Feb-2024'],\n",
       " [datetime.datetime(2024, 7, 31, 0, 0),\n",
       "  datetime.datetime(2024, 6, 30, 0, 0),\n",
       "  datetime.datetime(2024, 5, 31, 0, 0),\n",
       "  datetime.datetime(2024, 4, 30, 0, 0),\n",
       "  datetime.datetime(2024, 3, 31, 0, 0),\n",
       "  datetime.datetime(2024, 2, 29, 0, 0)])"
      ]
     },
     "execution_count": 11,
     "metadata": {},
     "output_type": "execute_result"
    }
   ],
   "source": [
    "\n",
    "business_date = datetime(2024, 7, 31)\n",
    "period_start = \"T\"\n",
    "interval = \"M\"\n",
    "length = 6\n",
    "\n",
    "get_datelist_labels_by_periodrange(business_date,period_start, length, interval)"
   ]
  },
  {
   "cell_type": "code",
   "execution_count": null,
   "metadata": {},
   "outputs": [],
   "source": []
  }
 ],
 "metadata": {
  "kernelspec": {
   "display_name": "base",
   "language": "python",
   "name": "python3"
  },
  "language_info": {
   "codemirror_mode": {
    "name": "ipython",
    "version": 3
   },
   "file_extension": ".py",
   "mimetype": "text/x-python",
   "name": "python",
   "nbconvert_exporter": "python",
   "pygments_lexer": "ipython3",
   "version": "3.11.7"
  }
 },
 "nbformat": 4,
 "nbformat_minor": 2
}
