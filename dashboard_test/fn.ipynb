{
 "cells": [
  {
   "cell_type": "code",
   "execution_count": 1,
   "metadata": {},
   "outputs": [
    {
     "name": "stdout",
     "output_type": "stream",
     "text": [
      "['Jan-2024', 'Feb-2024', 'Mar-2024', 'Apr-2024', 'May-2024', 'Jun-2024']\n"
     ]
    }
   ],
   "source": [
    "from datetime import datetime, timedelta\n",
    "\n",
    "def generate_monthly_labels(start_date, end_date):\n",
    "    monthly_labels = []\n",
    "    current_date = start_date\n",
    "\n",
    "    while current_date <= end_date:\n",
    "        monthly_labels.append(current_date.strftime(\"%b-%Y\"))\n",
    "        # Move to the next month\n",
    "        next_month = current_date.month + 1 if current_date.month < 12 else 1\n",
    "        next_year = current_date.year if current_date.month < 12 else current_date.year + 1\n",
    "        current_date = current_date.replace(year=next_year, month=next_month)\n",
    "\n",
    "    return monthly_labels\n",
    "\n",
    "# Define the date range\n",
    "start_date = datetime(2024, 1, 1)\n",
    "end_date = datetime(2024, 6, 30)\n",
    "\n",
    "# Generate monthly labels\n",
    "monthly_labels = generate_monthly_labels(start_date, end_date)\n",
    "print(monthly_labels)"
   ]
  },
  {
   "cell_type": "code",
   "execution_count": 19,
   "metadata": {},
   "outputs": [
    {
     "name": "stdout",
     "output_type": "stream",
     "text": [
      "month - 12\n",
      "year - 2023\n",
      "6\n",
      "month - 11\n",
      "year - 2023\n",
      "5\n",
      "month - 10\n",
      "year - 2023\n",
      "4\n",
      "month - 9\n",
      "year - 2023\n",
      "3\n",
      "month - 8\n",
      "year - 2023\n",
      "2\n",
      "month - 7\n",
      "year - 2023\n",
      "1\n",
      "['Jan-2024', 'Dec-2023', 'Nov-2023', 'Oct-2023', 'Sep-2023', 'Aug-2023']\n"
     ]
    }
   ],
   "source": [
    "def generate_month_labels(business_date, interval, length):\n",
    "    \n",
    "    labels = []\n",
    "    current_date = business_date\n",
    "    \n",
    "    for i in range(length, 0, -1):\n",
    "        if interval == \"M\":\n",
    "            labels.append(current_date.strftime(\"%b-%Y\"))\n",
    "            prev_month = 12 if current_date.month == 1 else current_date.month - 1\n",
    "            # print(f\"month - {prev_month}\")\n",
    "            prev_year = current_date.year -1 if current_date.month == 1 else current_date.year\n",
    "            # print(f\"year - {prev_year}\")\n",
    "            current_date = current_date.replace(year=prev_year, month = prev_month)\n",
    "        \n",
    "        \n",
    "    return labels\n",
    "\n",
    "business_date = datetime(2024, 1, 1)\n",
    "interval = \"M\"\n",
    "length = 6\n",
    "\n",
    "lbls = generate_month_labels(business_date, interval, length)\n",
    "print(lbls)"
   ]
  },
  {
   "cell_type": "code",
   "execution_count": null,
   "metadata": {},
   "outputs": [],
   "source": []
  }
 ],
 "metadata": {
  "kernelspec": {
   "display_name": "base",
   "language": "python",
   "name": "python3"
  },
  "language_info": {
   "codemirror_mode": {
    "name": "ipython",
    "version": 3
   },
   "file_extension": ".py",
   "mimetype": "text/x-python",
   "name": "python",
   "nbconvert_exporter": "python",
   "pygments_lexer": "ipython3",
   "version": "3.11.7"
  }
 },
 "nbformat": 4,
 "nbformat_minor": 2
}
