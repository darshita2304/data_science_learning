{
 "cells": [
  {
   "cell_type": "code",
   "execution_count": 1,
   "metadata": {},
   "outputs": [
    {
     "name": "stdout",
     "output_type": "stream",
     "text": [
      "{'a': [{'name': 'Alice'}, {'name': 'Charlie'}], 'b': {'name': 'Bob'}}\n"
     ]
    }
   ],
   "source": [
    "def update_parent_dict(parent_dict, key, new_dict):\n",
    "    if key in parent_dict:\n",
    "        # If the key exists, append the new dict to the existing value\n",
    "        if isinstance(parent_dict[key], list):\n",
    "            parent_dict[key].append(new_dict)\n",
    "        else:\n",
    "            parent_dict[key] = [parent_dict[key], new_dict]\n",
    "    else:\n",
    "        # If the key is new, add it to the parent dict\n",
    "        parent_dict[key] = new_dict\n",
    "\n",
    "# Example usage\n",
    "parent = {}\n",
    "update_parent_dict(parent, 'a', {'name': 'Alice'})\n",
    "update_parent_dict(parent, 'b', {'name': 'Bob'})\n",
    "update_parent_dict(parent, 'a', {'name': 'Charlie'})\n",
    "\n",
    "print(parent)"
   ]
  },
  {
   "cell_type": "code",
   "execution_count": 7,
   "metadata": {},
   "outputs": [
    {
     "name": "stdout",
     "output_type": "stream",
     "text": [
      "2024-09-26\n"
     ]
    }
   ],
   "source": [
    "from datetime import datetime, timedelta\n",
    "import dateutil.relativedelta as REL\n",
    "\n",
    "def get_last_weekday(date, weekday1):\n",
    "    if date is None:\n",
    "        date = datetime.today()\n",
    "\n",
    "    # Get the day of the week (0 = Monday, 6 = Sunday)\n",
    "    day_of_week = date.weekday()\n",
    "\n",
    "    # Calculate the number of days to go back to the previous Monday\n",
    "    days_to_subtract = (day_of_week + 7 - weekday1) % 7 \n",
    "\n",
    "    # Subtract the days to get last Monday\n",
    "    last_monday = date - timedelta(days=days_to_subtract)\n",
    "\n",
    "    return last_monday\n",
    "\n",
    "# Example usage\n",
    "last_monday = get_last_weekday(datetime.today(), 3)\n",
    "print(last_monday.strftime(\"%Y-%m-%d\"))"
   ]
  },
  {
   "cell_type": "code",
   "execution_count": 15,
   "metadata": {},
   "outputs": [
    {
     "name": "stdout",
     "output_type": "stream",
     "text": [
      "2024-09-30 00:00:00\n"
     ]
    }
   ],
   "source": [
    "from datetime import datetime\n",
    "from dateutil.relativedelta import relativedelta, FR, SA, MO\n",
    "\n",
    "# Assume 'date' is your starting date\n",
    "date = datetime(2024, 9, 23)  # Example starting date\n",
    "offset = 1  # Example offset\n",
    "\n",
    "# Calculate the new date\n",
    "new_date = date + relativedelta(weekday=MO, days=offset * 7)\n",
    "print(new_date)"
   ]
  },
  {
   "cell_type": "code",
   "execution_count": 2,
   "metadata": {},
   "outputs": [
    {
     "data": {
      "text/plain": [
       "[7, 8, 10]"
      ]
     },
     "execution_count": 2,
     "metadata": {},
     "output_type": "execute_result"
    }
   ],
   "source": [
    "import ast\n",
    "l = ast.literal_eval('[7, 8, 10]')\n",
    "l"
   ]
  },
  {
   "cell_type": "code",
   "execution_count": 3,
   "metadata": {},
   "outputs": [
    {
     "data": {
      "text/plain": [
       "list"
      ]
     },
     "execution_count": 3,
     "metadata": {},
     "output_type": "execute_result"
    }
   ],
   "source": [
    "type(l)"
   ]
  },
  {
   "cell_type": "code",
   "execution_count": null,
   "metadata": {},
   "outputs": [],
   "source": [
    "{\"chart_id\": 8, \"page_number\": 2, \"chart_title\": \"Column Chart 2\", \"chart_desc\": \"demo2\", \"chart_coordinates\": {\"x_origin\": 0, \"y_origin\": 0, \"width_x\": 401, \"height_y\": 250}, \"metrics\": [{\"metrics_object\": [\"DR:1028609\"], \"alias\": \"Report_18132\", \"metrics_filter\": [], \"dimensions_slice\": null}, {\"metrics_object\": [\"DR:1011390\"], \"alias\": \"Report_18102\", \"metrics_filter\": [], \"dimensions_slice\": null}, {\"metrics_object\": [\"DR:1028849\"], \"alias\": \"2222\", \"metrics_filter\": [], \"dimensions_slice\": null}], \"period_range\": {\"period_start\": [\"Month\", \"-0\"], \"interval\": [\"Monthly\", \"-1\"], \"length\": 6}, \"chart_type\": 1, \"switch_ind\": true}"
   ]
  },
  {
   "cell_type": "code",
   "execution_count": null,
   "metadata": {},
   "outputs": [],
   "source": [
    "import json\n",
    "import boto3\n",
    "from concurrent.futures import ThreadPoolExecutor\n",
    "import pandas as pd\n",
    "import io\n",
    "\n",
    "# Initialize S3 client outside of handler to reuse across Lambda invocations\n",
    "s3_client = boto3.client('s3')\n",
    "\n",
    "# Function to read a single file from S3\n",
    "def read_s3_file(bucket_name, key):\n",
    "    try:\n",
    "        response = s3_client.get_object(Bucket=bucket_name, Key=key)\n",
    "        file_content = response['Body'].read().decode('utf-8')\n",
    "        # Read the CSV content into a DataFrame\n",
    "        df = pd.read_csv(io.StringIO(file_content))\n",
    "        return df\n",
    "    except Exception as e:\n",
    "        print(f\"Error reading {key}: {str(e)}\")\n",
    "        return None\n",
    "\n",
    "# Lambda handler\n",
    "def lambda_handler(event, context):\n",
    "    # List of file keys in your S3 bucket (could be passed in through the event)\n",
    "    s3_files = [\n",
    "        'file1.csv',\n",
    "        'file2.csv',\n",
    "        'file3.csv'\n",
    "    ]\n",
    "    \n",
    "    bucket_name = 'your-s3-bucket'\n",
    "\n",
    "    # Use ThreadPoolExecutor to read files in parallel\n",
    "    with ThreadPoolExecutor(max_workers=5) as executor:\n",
    "        # Launch parallel S3 read operations\n",
    "        futures = [executor.submit(read_s3_file, bucket_name, file) for file in s3_files]\n",
    "\n",
    "        # Collect the results\n",
    "        dataframes = [future.result() for future in futures if future.result() is not None]\n",
    "\n",
    "    # Combine DataFrames (if applicable)\n",
    "    if dataframes:\n",
    "        combined_df = pd.concat(dataframes, ignore_index=True)\n",
    "        print(\"Combined DataFrame:\")\n",
    "        print(combined_df)\n",
    "\n",
    "    return {\n",
    "        'statusCode': 200,\n",
    "        'body': json.dumps(\"Files processed successfully!\")\n",
    "    }\n"
   ]
  }
 ],
 "metadata": {
  "kernelspec": {
   "display_name": "base",
   "language": "python",
   "name": "python3"
  },
  "language_info": {
   "codemirror_mode": {
    "name": "ipython",
    "version": 3
   },
   "file_extension": ".py",
   "mimetype": "text/x-python",
   "name": "python",
   "nbconvert_exporter": "python",
   "pygments_lexer": "ipython3",
   "version": "3.11.7"
  }
 },
 "nbformat": 4,
 "nbformat_minor": 2
}
