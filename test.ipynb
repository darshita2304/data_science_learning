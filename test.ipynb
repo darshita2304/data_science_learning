{
 "cells": [
  {
   "cell_type": "code",
   "execution_count": 3,
   "metadata": {},
   "outputs": [
    {
     "data": {
      "text/plain": [
       "63"
      ]
     },
     "execution_count": 3,
     "metadata": {},
     "output_type": "execute_result"
    }
   ],
   "source": [
    "import math\n",
    "\n",
    "\n",
    "class Solution:\n",
    "    # @param A : list of integers\n",
    "    # @return an integer\n",
    "    def solve(self, A):\n",
    "        # for sum of all\n",
    "        s = 0\n",
    "        for i in A:\n",
    "            s = s + i\n",
    "        # for max of all\n",
    "        m = A[0]\n",
    "        for i in range(1, len(A)):\n",
    "            if m < i:\n",
    "                m = i\n",
    "\n",
    "        cc = math.ceil(s/2) * m\n",
    "\n",
    "        return cc\n",
    "        \n",
    "    \n",
    "c = Solution()\n",
    "c.solve([9,3,1,1])"
   ]
  },
  {
   "cell_type": "code",
   "execution_count": null,
   "metadata": {},
   "outputs": [],
   "source": []
  }
 ],
 "metadata": {
  "kernelspec": {
   "display_name": "base",
   "language": "python",
   "name": "python3"
  },
  "language_info": {
   "codemirror_mode": {
    "name": "ipython",
    "version": 3
   },
   "file_extension": ".py",
   "mimetype": "text/x-python",
   "name": "python",
   "nbconvert_exporter": "python",
   "pygments_lexer": "ipython3",
   "version": "3.9.13"
  }
 },
 "nbformat": 4,
 "nbformat_minor": 2
}
