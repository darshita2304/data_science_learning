{
 "cells": [
  {
   "cell_type": "code",
   "execution_count": 34,
   "metadata": {},
   "outputs": [
    {
     "name": "stdout",
     "output_type": "stream",
     "text": [
      "Duplicated rows with indices:\n",
      "Empty DataFrame\n",
      "Columns: [A, B, C]\n",
      "Index: []\n"
     ]
    }
   ],
   "source": [
    "import pandas as pd\n",
    "\n",
    "import numpy as np\n",
    "\n",
    "# Sample data\n",
    "data = {\n",
    "    'A': [1, 2, 2, 4, 5, 2],\n",
    "    'B': ['a', 6, np.nan, 8, 9, 7],\n",
    "    'C': [9, 'as', np.nan, 12, '13', np.nan]\n",
    "}\n",
    "\n",
    "# Create DataFrame\n",
    "df = pd.DataFrame(data)\n",
    "\n",
    "# Find duplicated rows\n",
    "duplicated_rows = df[df.duplicated(keep=False)]\n",
    "\n",
    "print(\"Duplicated rows with indices:\")\n",
    "print(duplicated_rows)\n"
   ]
  },
  {
   "cell_type": "code",
   "execution_count": 18,
   "metadata": {},
   "outputs": [
    {
     "name": "stdout",
     "output_type": "stream",
     "text": [
      "Duplicated rows with original indices:\n",
      "Empty DataFrame\n",
      "Columns: [index, A, B, C]\n",
      "Index: []\n"
     ]
    }
   ],
   "source": [
    "# Find duplicated rows and include row index\n",
    "duplicated_rows_with_index = df[df.duplicated(keep=False)].reset_index()\n",
    "\n",
    "print(\"Duplicated rows with original indices:\")\n",
    "print(duplicated_rows_with_index)\n"
   ]
  },
  {
   "cell_type": "code",
   "execution_count": 43,
   "metadata": {},
   "outputs": [
    {
     "name": "stdout",
     "output_type": "stream",
     "text": [
      "Duplicated rows based on columns 'A' and 'B' with original indices:\n",
      "[1, 2, 5]\n",
      "[]\n",
      "[2, 5]\n"
     ]
    }
   ],
   "source": [
    "# Find duplicated rows based on columns 'A' and 'B'\n",
    "duplicated_rows_specific_a = list(df[df.duplicated(subset=['A'], keep=False)].index)\n",
    "\n",
    "duplicated_rows_specific_b = list(df[df.duplicated(subset=['B'], keep=False)]['B'].index)\n",
    "\n",
    "duplicated_rows_specific_c = list(df[df.duplicated(subset=['C'], keep=False)]['C'].index)\n",
    "\n",
    "print(\"Duplicated rows based on columns 'A' and 'B' with original indices:\")\n",
    "print(duplicated_rows_specific_a)\n",
    "print(duplicated_rows_specific_b)\n",
    "print(duplicated_rows_specific_c)\n",
    "\n"
   ]
  },
  {
   "cell_type": "code",
   "execution_count": 36,
   "metadata": {},
   "outputs": [
    {
     "name": "stdout",
     "output_type": "stream",
     "text": [
      "Rows with null values and their original indices:\n",
      "Index([2], dtype='int64')\n",
      "<class 'pandas.core.indexes.base.Index'>\n",
      "Index([2, 5], dtype='int64')\n"
     ]
    }
   ],
   "source": [
    "\n",
    "rows_with_nulls_with_index_b = df[df['B'].isnull()]['B'].index\n",
    "rows_with_nulls_with_index_c = df[df['C'].isnull()]['C'].index\n",
    "\n",
    "print(\"Rows with null values and their original indices:\")\n",
    "print(rows_with_nulls_with_index_b)\n",
    "\n",
    "print(type(rows_with_nulls_with_index_b))\n",
    "\n",
    "print(rows_with_nulls_with_index_c)"
   ]
  },
  {
   "cell_type": "code",
   "execution_count": 4,
   "metadata": {},
   "outputs": [
    {
     "name": "stdout",
     "output_type": "stream",
     "text": [
      "Data types of each column:\n",
      "A             int64\n",
      "B           float64\n",
      "C            object\n",
      "D            object\n",
      "E    datetime64[ns]\n",
      "dtype: object\n"
     ]
    }
   ],
   "source": [
    "import pandas as pd\n",
    "\n",
    "# Sample data\n",
    "data = {\n",
    "    'A': [1, 2, 3, 4, 5],\n",
    "    'B': [1.1, 2, 3.3, 4.4, 0],\n",
    "    'C': ['a', 'b', 'c', 0, 'e'],\n",
    "    'D': [True, False, True, 1, True],\n",
    "    'E': pd.to_datetime(['2021-01-01', '2021-01-02', '2021-01-03', '2021-01-04', '2021-01-05'])\n",
    "}\n",
    "\n",
    "# Create DataFrame\n",
    "df = pd.DataFrame(data)\n",
    "\n",
    "# Get data types of columns\n",
    "column_dtypes = df.dtypes\n",
    "\n",
    "print(\"Data types of each column:\")\n",
    "print(column_dtypes)\n"
   ]
  },
  {
   "cell_type": "code",
   "execution_count": 2,
   "metadata": {},
   "outputs": [
    {
     "name": "stdout",
     "output_type": "stream",
     "text": [
      "{'a': 1, 'b': 3, 'd': 4}\n"
     ]
    }
   ],
   "source": [
    "# Existing dictionary\n",
    "existing_dict = {'a': 1, 'b': 2}\n",
    "\n",
    "# New key-value pairs dictionary\n",
    "new_dict = {'b': 3, 'd': 4}\n",
    "\n",
    "# Using update method to merge dictionaries\n",
    "existing_dict.update(new_dict)\n",
    "\n",
    "print(existing_dict)\n"
   ]
  },
  {
   "cell_type": "code",
   "execution_count": 10,
   "metadata": {},
   "outputs": [
    {
     "name": "stdout",
     "output_type": "stream",
     "text": [
      "[['date(dd-mm-yyyy)', 'date(mm-dd-yyyy)']]\n"
     ]
    }
   ],
   "source": [
    "dt = ['date(dd-mm-yyyy)','date(mm-dd-yyyy)']\n",
    "\n",
    "new_list = []\n",
    "\n",
    "new_list.append([i for i in dt])\n",
    "    \n",
    "print(new_list)"
   ]
  },
  {
   "cell_type": "code",
   "execution_count": 13,
   "metadata": {},
   "outputs": [
    {
     "name": "stdout",
     "output_type": "stream",
     "text": [
      "['date(dd-mm-yyyy)', 'date(mm-dd-yyyy)']\n"
     ]
    }
   ],
   "source": [
    "dt = ['date(dd-mm-yyyy)','date(mm-dd-yyyy)']\n",
    "\n",
    "new_list = []\n",
    "\n",
    "new_list.extend(dt)\n",
    "    \n",
    "print(new_list)"
   ]
  },
  {
   "cell_type": "code",
   "execution_count": null,
   "metadata": {},
   "outputs": [],
   "source": []
  }
 ],
 "metadata": {
  "kernelspec": {
   "display_name": "Python 3",
   "language": "python",
   "name": "python3"
  },
  "language_info": {
   "codemirror_mode": {
    "name": "ipython",
    "version": 3
   },
   "file_extension": ".py",
   "mimetype": "text/x-python",
   "name": "python",
   "nbconvert_exporter": "python",
   "pygments_lexer": "ipython3",
   "version": "3.11.7"
  }
 },
 "nbformat": 4,
 "nbformat_minor": 2
}
