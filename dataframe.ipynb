{
 "cells": [
  {
   "cell_type": "code",
   "execution_count": 34,
   "metadata": {},
   "outputs": [
    {
     "name": "stdout",
     "output_type": "stream",
     "text": [
      "Duplicated rows with indices:\n",
      "Empty DataFrame\n",
      "Columns: [A, B, C]\n",
      "Index: []\n"
     ]
    }
   ],
   "source": [
    "import pandas as pd\n",
    "\n",
    "import numpy as np\n",
    "\n",
    "# Sample data\n",
    "data = {\n",
    "    'A': [1, 2, 2, 4, 5, 2],\n",
    "    'B': ['a', 6, np.nan, 8, 9, 7],\n",
    "    'C': [9, 'as', np.nan, 12, '13', np.nan]\n",
    "}\n",
    "\n",
    "# Create DataFrame\n",
    "df = pd.DataFrame(data)\n",
    "\n",
    "# Find duplicated rows\n",
    "duplicated_rows = df[df.duplicated(keep=False)]\n",
    "\n",
    "print(\"Duplicated rows with indices:\")\n",
    "print(duplicated_rows)\n"
   ]
  },
  {
   "cell_type": "code",
   "execution_count": 18,
   "metadata": {},
   "outputs": [
    {
     "name": "stdout",
     "output_type": "stream",
     "text": [
      "Duplicated rows with original indices:\n",
      "Empty DataFrame\n",
      "Columns: [index, A, B, C]\n",
      "Index: []\n"
     ]
    }
   ],
   "source": [
    "# Find duplicated rows and include row index\n",
    "duplicated_rows_with_index = df[df.duplicated(keep=False)].reset_index()\n",
    "\n",
    "print(\"Duplicated rows with original indices:\")\n",
    "print(duplicated_rows_with_index)\n"
   ]
  },
  {
   "cell_type": "code",
   "execution_count": 43,
   "metadata": {},
   "outputs": [
    {
     "name": "stdout",
     "output_type": "stream",
     "text": [
      "Duplicated rows based on columns 'A' and 'B' with original indices:\n",
      "[1, 2, 5]\n",
      "[]\n",
      "[2, 5]\n"
     ]
    }
   ],
   "source": [
    "# Find duplicated rows based on columns 'A' and 'B'\n",
    "duplicated_rows_specific_a = list(df[df.duplicated(subset=['A'], keep=False)].index)\n",
    "\n",
    "duplicated_rows_specific_b = list(df[df.duplicated(subset=['B'], keep=False)]['B'].index)\n",
    "\n",
    "duplicated_rows_specific_c = list(df[df.duplicated(subset=['C'], keep=False)]['C'].index)\n",
    "\n",
    "print(\"Duplicated rows based on columns 'A' and 'B' with original indices:\")\n",
    "print(duplicated_rows_specific_a)\n",
    "print(duplicated_rows_specific_b)\n",
    "print(duplicated_rows_specific_c)\n",
    "\n"
   ]
  },
  {
   "cell_type": "code",
   "execution_count": 36,
   "metadata": {},
   "outputs": [
    {
     "name": "stdout",
     "output_type": "stream",
     "text": [
      "Rows with null values and their original indices:\n",
      "Index([2], dtype='int64')\n",
      "<class 'pandas.core.indexes.base.Index'>\n",
      "Index([2, 5], dtype='int64')\n"
     ]
    }
   ],
   "source": [
    "\n",
    "rows_with_nulls_with_index_b = df[df['B'].isnull()]['B'].index\n",
    "rows_with_nulls_with_index_c = df[df['C'].isnull()]['C'].index\n",
    "\n",
    "print(\"Rows with null values and their original indices:\")\n",
    "print(rows_with_nulls_with_index_b)\n",
    "\n",
    "print(type(rows_with_nulls_with_index_b))\n",
    "\n",
    "print(rows_with_nulls_with_index_c)"
   ]
  },
  {
   "cell_type": "code",
   "execution_count": 5,
   "metadata": {},
   "outputs": [
    {
     "name": "stdout",
     "output_type": "stream",
     "text": [
      "Data types of each column:\n",
      "A             int64\n",
      "B            object\n",
      "C            object\n",
      "D            object\n",
      "E    datetime64[ns]\n",
      "dtype: object\n"
     ]
    }
   ],
   "source": [
    "import pandas as pd\n",
    "\n",
    "# Sample data\n",
    "data = {\n",
    "    'A': [1, 2, 3, 4, 5],\n",
    "    'B': [[1.1], [2], [3.3], [4.4], 0],\n",
    "    'C': ['a', 'b', 'c', 0, 'e'],\n",
    "    'D': [True, False, True, 1, True],\n",
    "    'E': pd.to_datetime(['2021-01-01', '2021-01-02', '2021-01-03', '2021-01-04', '2021-01-05'])\n",
    "}\n",
    "\n",
    "# Create DataFrame\n",
    "df = pd.DataFrame(data)\n",
    "\n",
    "# Get data types of columns\n",
    "column_dtypes = df.dtypes\n",
    "\n",
    "print(\"Data types of each column:\")\n",
    "print(column_dtypes)\n"
   ]
  },
  {
   "cell_type": "code",
   "execution_count": 7,
   "metadata": {},
   "outputs": [
    {
     "data": {
      "text/html": [
       "<div>\n",
       "<style scoped>\n",
       "    .dataframe tbody tr th:only-of-type {\n",
       "        vertical-align: middle;\n",
       "    }\n",
       "\n",
       "    .dataframe tbody tr th {\n",
       "        vertical-align: top;\n",
       "    }\n",
       "\n",
       "    .dataframe thead th {\n",
       "        text-align: right;\n",
       "    }\n",
       "</style>\n",
       "<table border=\"1\" class=\"dataframe\">\n",
       "  <thead>\n",
       "    <tr style=\"text-align: right;\">\n",
       "      <th></th>\n",
       "      <th>A</th>\n",
       "      <th>B</th>\n",
       "      <th>C</th>\n",
       "      <th>D</th>\n",
       "      <th>E</th>\n",
       "    </tr>\n",
       "  </thead>\n",
       "  <tbody>\n",
       "    <tr>\n",
       "      <th>0</th>\n",
       "      <td>1</td>\n",
       "      <td>[1.1]</td>\n",
       "      <td>a</td>\n",
       "      <td>True</td>\n",
       "      <td>2021-01-01</td>\n",
       "    </tr>\n",
       "    <tr>\n",
       "      <th>1</th>\n",
       "      <td>2</td>\n",
       "      <td>[2]</td>\n",
       "      <td>b</td>\n",
       "      <td>False</td>\n",
       "      <td>2021-01-02</td>\n",
       "    </tr>\n",
       "    <tr>\n",
       "      <th>2</th>\n",
       "      <td>3</td>\n",
       "      <td>[3.3]</td>\n",
       "      <td>c</td>\n",
       "      <td>True</td>\n",
       "      <td>2021-01-03</td>\n",
       "    </tr>\n",
       "    <tr>\n",
       "      <th>3</th>\n",
       "      <td>4</td>\n",
       "      <td>[4.4]</td>\n",
       "      <td>0</td>\n",
       "      <td>1</td>\n",
       "      <td>2021-01-04</td>\n",
       "    </tr>\n",
       "    <tr>\n",
       "      <th>4</th>\n",
       "      <td>5</td>\n",
       "      <td>0</td>\n",
       "      <td>e</td>\n",
       "      <td>True</td>\n",
       "      <td>2021-01-05</td>\n",
       "    </tr>\n",
       "  </tbody>\n",
       "</table>\n",
       "</div>"
      ],
      "text/plain": [
       "   A      B  C      D          E\n",
       "0  1  [1.1]  a   True 2021-01-01\n",
       "1  2    [2]  b  False 2021-01-02\n",
       "2  3  [3.3]  c   True 2021-01-03\n",
       "3  4  [4.4]  0      1 2021-01-04\n",
       "4  5      0  e   True 2021-01-05"
      ]
     },
     "execution_count": 7,
     "metadata": {},
     "output_type": "execute_result"
    }
   ],
   "source": [
    "df"
   ]
  },
  {
   "cell_type": "code",
   "execution_count": 8,
   "metadata": {},
   "outputs": [],
   "source": [
    "abc = df.set_index('A')['B'].to_dict()"
   ]
  },
  {
   "cell_type": "code",
   "execution_count": 12,
   "metadata": {},
   "outputs": [
    {
     "data": {
      "text/plain": [
       "1"
      ]
     },
     "execution_count": 12,
     "metadata": {},
     "output_type": "execute_result"
    }
   ],
   "source": [
    "len(abc.get(1,0))"
   ]
  },
  {
   "cell_type": "code",
   "execution_count": 2,
   "metadata": {},
   "outputs": [
    {
     "name": "stdout",
     "output_type": "stream",
     "text": [
      "{'a': 1, 'b': 3, 'd': 4}\n"
     ]
    }
   ],
   "source": [
    "# Existing dictionary\n",
    "existing_dict = {'a': 1, 'b': 2}\n",
    "\n",
    "# New key-value pairs dictionary\n",
    "new_dict = {'b': 3, 'd': 4}\n",
    "\n",
    "# Using update method to merge dictionaries\n",
    "existing_dict.update(new_dict)\n",
    "\n",
    "print(existing_dict)\n"
   ]
  },
  {
   "cell_type": "code",
   "execution_count": 10,
   "metadata": {},
   "outputs": [
    {
     "name": "stdout",
     "output_type": "stream",
     "text": [
      "[['date(dd-mm-yyyy)', 'date(mm-dd-yyyy)']]\n"
     ]
    }
   ],
   "source": [
    "dt = ['date(dd-mm-yyyy)','date(mm-dd-yyyy)']\n",
    "\n",
    "new_list = []\n",
    "\n",
    "new_list.append([i for i in dt])\n",
    "    \n",
    "print(new_list)"
   ]
  },
  {
   "cell_type": "code",
   "execution_count": 13,
   "metadata": {},
   "outputs": [
    {
     "name": "stdout",
     "output_type": "stream",
     "text": [
      "['date(dd-mm-yyyy)', 'date(mm-dd-yyyy)']\n"
     ]
    }
   ],
   "source": [
    "dt = ['date(dd-mm-yyyy)','date(mm-dd-yyyy)']\n",
    "\n",
    "new_list = []\n",
    "\n",
    "new_list.extend(dt)\n",
    "    \n",
    "print(new_list)"
   ]
  },
  {
   "cell_type": "code",
   "execution_count": 13,
   "metadata": {},
   "outputs": [],
   "source": [
    "import pandas as pd\n",
    "df = pd.read_csv(\"stats.csv\")"
   ]
  },
  {
   "cell_type": "code",
   "execution_count": 14,
   "metadata": {},
   "outputs": [
    {
     "data": {
      "text/html": [
       "<div>\n",
       "<style scoped>\n",
       "    .dataframe tbody tr th:only-of-type {\n",
       "        vertical-align: middle;\n",
       "    }\n",
       "\n",
       "    .dataframe tbody tr th {\n",
       "        vertical-align: top;\n",
       "    }\n",
       "\n",
       "    .dataframe thead th {\n",
       "        text-align: right;\n",
       "    }\n",
       "</style>\n",
       "<table border=\"1\" class=\"dataframe\">\n",
       "  <thead>\n",
       "    <tr style=\"text-align: right;\">\n",
       "      <th></th>\n",
       "      <th>version_id</th>\n",
       "      <th>table_id</th>\n",
       "      <th>business_date</th>\n",
       "      <th>total_records</th>\n",
       "      <th>discard_index_list</th>\n",
       "      <th>quality_checks</th>\n",
       "    </tr>\n",
       "  </thead>\n",
       "  <tbody>\n",
       "    <tr>\n",
       "      <th>0</th>\n",
       "      <td>5</td>\n",
       "      <td>9</td>\n",
       "      <td>NaN</td>\n",
       "      <td>2138</td>\n",
       "      <td>[]</td>\n",
       "      <td>NaN</td>\n",
       "    </tr>\n",
       "    <tr>\n",
       "      <th>1</th>\n",
       "      <td>8</td>\n",
       "      <td>20</td>\n",
       "      <td>NaN</td>\n",
       "      <td>13</td>\n",
       "      <td>[]</td>\n",
       "      <td>NaN</td>\n",
       "    </tr>\n",
       "    <tr>\n",
       "      <th>2</th>\n",
       "      <td>7</td>\n",
       "      <td>19</td>\n",
       "      <td>NaN</td>\n",
       "      <td>27</td>\n",
       "      <td>[]</td>\n",
       "      <td>NaN</td>\n",
       "    </tr>\n",
       "    <tr>\n",
       "      <th>3</th>\n",
       "      <td>24</td>\n",
       "      <td>11</td>\n",
       "      <td>NaN</td>\n",
       "      <td>27</td>\n",
       "      <td>[]</td>\n",
       "      <td>NaN</td>\n",
       "    </tr>\n",
       "    <tr>\n",
       "      <th>4</th>\n",
       "      <td>25</td>\n",
       "      <td>18</td>\n",
       "      <td>NaN</td>\n",
       "      <td>1000</td>\n",
       "      <td>[]</td>\n",
       "      <td>NaN</td>\n",
       "    </tr>\n",
       "    <tr>\n",
       "      <th>...</th>\n",
       "      <td>...</td>\n",
       "      <td>...</td>\n",
       "      <td>...</td>\n",
       "      <td>...</td>\n",
       "      <td>...</td>\n",
       "      <td>...</td>\n",
       "    </tr>\n",
       "    <tr>\n",
       "      <th>396</th>\n",
       "      <td>494</td>\n",
       "      <td>99</td>\n",
       "      <td>2024-08-31 00:00:00</td>\n",
       "      <td>3404</td>\n",
       "      <td>[]</td>\n",
       "      <td>{'zero_cnt': {'Vendor': 0, 'Group 1': 0}, 'neg...</td>\n",
       "    </tr>\n",
       "    <tr>\n",
       "      <th>397</th>\n",
       "      <td>495</td>\n",
       "      <td>19</td>\n",
       "      <td>2024-08-31 00:00:00</td>\n",
       "      <td>27</td>\n",
       "      <td>[]</td>\n",
       "      <td>{'zero_cnt': {'Currency Code': 0, 'Rate': 0}, ...</td>\n",
       "    </tr>\n",
       "    <tr>\n",
       "      <th>398</th>\n",
       "      <td>496</td>\n",
       "      <td>19</td>\n",
       "      <td>2024-08-31 00:00:00</td>\n",
       "      <td>27</td>\n",
       "      <td>[]</td>\n",
       "      <td>{'zero_cnt': {'Currency Code': 0, 'Rate': 0}, ...</td>\n",
       "    </tr>\n",
       "    <tr>\n",
       "      <th>399</th>\n",
       "      <td>497</td>\n",
       "      <td>99</td>\n",
       "      <td>2024-09-01 00:00:00</td>\n",
       "      <td>3404</td>\n",
       "      <td>[]</td>\n",
       "      <td>{'zero_cnt': {'Vendor': 0, 'Group 1': 0}, 'neg...</td>\n",
       "    </tr>\n",
       "    <tr>\n",
       "      <th>400</th>\n",
       "      <td>498</td>\n",
       "      <td>120</td>\n",
       "      <td>2024-08-31 00:00:00</td>\n",
       "      <td>27118</td>\n",
       "      <td>[]</td>\n",
       "      <td>{'zero_cnt': {'REGION_NAME': 0, 'PRINCIPAL_TOT...</td>\n",
       "    </tr>\n",
       "  </tbody>\n",
       "</table>\n",
       "<p>401 rows × 6 columns</p>\n",
       "</div>"
      ],
      "text/plain": [
       "     version_id  ...                                     quality_checks\n",
       "0             5  ...                                                NaN\n",
       "1             8  ...                                                NaN\n",
       "2             7  ...                                                NaN\n",
       "3            24  ...                                                NaN\n",
       "4            25  ...                                                NaN\n",
       "..          ...  ...                                                ...\n",
       "396         494  ...  {'zero_cnt': {'Vendor': 0, 'Group 1': 0}, 'neg...\n",
       "397         495  ...  {'zero_cnt': {'Currency Code': 0, 'Rate': 0}, ...\n",
       "398         496  ...  {'zero_cnt': {'Currency Code': 0, 'Rate': 0}, ...\n",
       "399         497  ...  {'zero_cnt': {'Vendor': 0, 'Group 1': 0}, 'neg...\n",
       "400         498  ...  {'zero_cnt': {'REGION_NAME': 0, 'PRINCIPAL_TOT...\n",
       "\n",
       "[401 rows x 6 columns]"
      ]
     },
     "execution_count": 14,
     "metadata": {},
     "output_type": "execute_result"
    }
   ],
   "source": [
    "df"
   ]
  },
  {
   "cell_type": "code",
   "execution_count": 15,
   "metadata": {},
   "outputs": [],
   "source": [
    "import ast\n",
    "df[\"dq_count\"] = df['discard_index_list'].map(lambda x: len(ast.literal_eval(x)))"
   ]
  },
  {
   "cell_type": "code",
   "execution_count": 17,
   "metadata": {},
   "outputs": [
    {
     "data": {
      "text/html": [
       "<div>\n",
       "<style scoped>\n",
       "    .dataframe tbody tr th:only-of-type {\n",
       "        vertical-align: middle;\n",
       "    }\n",
       "\n",
       "    .dataframe tbody tr th {\n",
       "        vertical-align: top;\n",
       "    }\n",
       "\n",
       "    .dataframe thead th {\n",
       "        text-align: right;\n",
       "    }\n",
       "</style>\n",
       "<table border=\"1\" class=\"dataframe\">\n",
       "  <thead>\n",
       "    <tr style=\"text-align: right;\">\n",
       "      <th></th>\n",
       "      <th>version_id</th>\n",
       "      <th>table_id</th>\n",
       "      <th>business_date</th>\n",
       "      <th>total_records</th>\n",
       "      <th>discard_index_list</th>\n",
       "      <th>quality_checks</th>\n",
       "      <th>dq_count</th>\n",
       "    </tr>\n",
       "  </thead>\n",
       "  <tbody>\n",
       "    <tr>\n",
       "      <th>0</th>\n",
       "      <td>5</td>\n",
       "      <td>9</td>\n",
       "      <td>NaN</td>\n",
       "      <td>2138</td>\n",
       "      <td>[]</td>\n",
       "      <td>NaN</td>\n",
       "      <td>0</td>\n",
       "    </tr>\n",
       "    <tr>\n",
       "      <th>1</th>\n",
       "      <td>8</td>\n",
       "      <td>20</td>\n",
       "      <td>NaN</td>\n",
       "      <td>13</td>\n",
       "      <td>[]</td>\n",
       "      <td>NaN</td>\n",
       "      <td>0</td>\n",
       "    </tr>\n",
       "    <tr>\n",
       "      <th>2</th>\n",
       "      <td>7</td>\n",
       "      <td>19</td>\n",
       "      <td>NaN</td>\n",
       "      <td>27</td>\n",
       "      <td>[]</td>\n",
       "      <td>NaN</td>\n",
       "      <td>0</td>\n",
       "    </tr>\n",
       "    <tr>\n",
       "      <th>3</th>\n",
       "      <td>24</td>\n",
       "      <td>11</td>\n",
       "      <td>NaN</td>\n",
       "      <td>27</td>\n",
       "      <td>[]</td>\n",
       "      <td>NaN</td>\n",
       "      <td>0</td>\n",
       "    </tr>\n",
       "    <tr>\n",
       "      <th>4</th>\n",
       "      <td>25</td>\n",
       "      <td>18</td>\n",
       "      <td>NaN</td>\n",
       "      <td>1000</td>\n",
       "      <td>[]</td>\n",
       "      <td>NaN</td>\n",
       "      <td>0</td>\n",
       "    </tr>\n",
       "    <tr>\n",
       "      <th>...</th>\n",
       "      <td>...</td>\n",
       "      <td>...</td>\n",
       "      <td>...</td>\n",
       "      <td>...</td>\n",
       "      <td>...</td>\n",
       "      <td>...</td>\n",
       "      <td>...</td>\n",
       "    </tr>\n",
       "    <tr>\n",
       "      <th>396</th>\n",
       "      <td>494</td>\n",
       "      <td>99</td>\n",
       "      <td>2024-08-31 00:00:00</td>\n",
       "      <td>3404</td>\n",
       "      <td>[]</td>\n",
       "      <td>{'zero_cnt': {'Vendor': 0, 'Group 1': 0}, 'neg...</td>\n",
       "      <td>0</td>\n",
       "    </tr>\n",
       "    <tr>\n",
       "      <th>397</th>\n",
       "      <td>495</td>\n",
       "      <td>19</td>\n",
       "      <td>2024-08-31 00:00:00</td>\n",
       "      <td>27</td>\n",
       "      <td>[]</td>\n",
       "      <td>{'zero_cnt': {'Currency Code': 0, 'Rate': 0}, ...</td>\n",
       "      <td>0</td>\n",
       "    </tr>\n",
       "    <tr>\n",
       "      <th>398</th>\n",
       "      <td>496</td>\n",
       "      <td>19</td>\n",
       "      <td>2024-08-31 00:00:00</td>\n",
       "      <td>27</td>\n",
       "      <td>[]</td>\n",
       "      <td>{'zero_cnt': {'Currency Code': 0, 'Rate': 0}, ...</td>\n",
       "      <td>0</td>\n",
       "    </tr>\n",
       "    <tr>\n",
       "      <th>399</th>\n",
       "      <td>497</td>\n",
       "      <td>99</td>\n",
       "      <td>2024-09-01 00:00:00</td>\n",
       "      <td>3404</td>\n",
       "      <td>[]</td>\n",
       "      <td>{'zero_cnt': {'Vendor': 0, 'Group 1': 0}, 'neg...</td>\n",
       "      <td>0</td>\n",
       "    </tr>\n",
       "    <tr>\n",
       "      <th>400</th>\n",
       "      <td>498</td>\n",
       "      <td>120</td>\n",
       "      <td>2024-08-31 00:00:00</td>\n",
       "      <td>27118</td>\n",
       "      <td>[]</td>\n",
       "      <td>{'zero_cnt': {'REGION_NAME': 0, 'PRINCIPAL_TOT...</td>\n",
       "      <td>0</td>\n",
       "    </tr>\n",
       "  </tbody>\n",
       "</table>\n",
       "<p>401 rows × 7 columns</p>\n",
       "</div>"
      ],
      "text/plain": [
       "     version_id  ...  dq_count\n",
       "0             5  ...         0\n",
       "1             8  ...         0\n",
       "2             7  ...         0\n",
       "3            24  ...         0\n",
       "4            25  ...         0\n",
       "..          ...  ...       ...\n",
       "396         494  ...         0\n",
       "397         495  ...         0\n",
       "398         496  ...         0\n",
       "399         497  ...         0\n",
       "400         498  ...         0\n",
       "\n",
       "[401 rows x 7 columns]"
      ]
     },
     "execution_count": 17,
     "metadata": {},
     "output_type": "execute_result"
    }
   ],
   "source": [
    "df"
   ]
  },
  {
   "cell_type": "code",
   "execution_count": 16,
   "metadata": {},
   "outputs": [],
   "source": [
    "df.to_csv(\"stats1.csv\", index=False)"
   ]
  },
  {
   "cell_type": "code",
   "execution_count": null,
   "metadata": {},
   "outputs": [],
   "source": []
  }
 ],
 "metadata": {
  "kernelspec": {
   "display_name": "base",
   "language": "python",
   "name": "python3"
  },
  "language_info": {
   "codemirror_mode": {
    "name": "ipython",
    "version": 3
   },
   "file_extension": ".py",
   "mimetype": "text/x-python",
   "name": "python",
   "nbconvert_exporter": "python",
   "pygments_lexer": "ipython3",
   "version": "3.11.7"
  }
 },
 "nbformat": 4,
 "nbformat_minor": 2
}
