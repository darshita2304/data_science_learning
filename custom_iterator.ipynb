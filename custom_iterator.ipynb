{
 "cells": [
  {
   "cell_type": "code",
   "execution_count": 1,
   "metadata": {},
   "outputs": [
    {
     "name": "stdout",
     "output_type": "stream",
     "text": [
      "1\n",
      "2\n",
      "3\n",
      "4\n",
      "5\n"
     ]
    }
   ],
   "source": [
    "# What is the purpose of the `__iter__` and `__next__` methods in Python?\n",
    "# The `__iter__` method is used to make an object iterable. It should return an iterator object.\n",
    "# The `__next__` method is used to implement iterator behavior. It should return the next item\n",
    "# from the iterator or raise the `StopIteration` exception if there are no more items.\n",
    "\n",
    "\n",
    "class MyIterator:   \n",
    "    def __init__(self, start, end):\n",
    "        self.start = start\n",
    "        self.end = end\n",
    "\n",
    "    def __iter__(self):\n",
    "        return self\n",
    "\n",
    "    def __next__(self):\n",
    "        if self.start > self.end:\n",
    "            raise StopIteration\n",
    "        value = self.start\n",
    "        self.start += 1\n",
    "        return value\n",
    "\n",
    "my_iterator = MyIterator(1, 5)\n",
    "for item in my_iterator:\n",
    "    print(item) # Output: 1, 2, 3, 4, 5"
   ]
  },
  {
   "cell_type": "code",
   "execution_count": 2,
   "metadata": {},
   "outputs": [
    {
     "name": "stdout",
     "output_type": "stream",
     "text": [
      "3\n",
      "10\n"
     ]
    }
   ],
   "source": [
    "# What is the purpose of the `__len__` method in Python classes?\n",
    "# The `__len__` method is used to define the behavior when the `len()` function is called on an\n",
    "# object. It should return the number of elements in the object.\n",
    "\n",
    "\n",
    "class MyList:\n",
    "    def __init__(self):\n",
    "        self.items = []\n",
    "\n",
    "    def __getitem__(self, index):\n",
    "        return self.items[index]\n",
    "\n",
    "    def __setitem__(self, index, value):\n",
    "        self.items[index] = value\n",
    "\n",
    "my_list = MyList()\n",
    "my_list.items = [1, 2, 3, 4, 5]\n",
    "print(my_list[2]) # Output: 3\n",
    "\n",
    "my_list[2] = 10\n",
    "print(my_list[2]) # Output: 10"
   ]
  },
  {
   "cell_type": "code",
   "execution_count": 5,
   "metadata": {},
   "outputs": [
    {
     "name": "stdout",
     "output_type": "stream",
     "text": [
      "5\n"
     ]
    }
   ],
   "source": [
    "# What is the purpose of the `__call__` method in Python classes?\n",
    "# The `__call__` method is used to make an object callable like a function. It allows you to define\n",
    "# the behavior when the object is called as a function.\n",
    "\n",
    "class MyCallable:\n",
    "    def __call__(self, x, y):\n",
    "        return x + y\n",
    "\n",
    "my_callable = MyCallable()\n",
    "result = my_callable(2, 3)\n",
    "print(result) # Output:\n",
    "# 5\n"
   ]
  },
  {
   "cell_type": "code",
   "execution_count": 3,
   "metadata": {},
   "outputs": [
    {
     "name": "stdout",
     "output_type": "stream",
     "text": [
      "5\n"
     ]
    }
   ],
   "source": [
    "# What is the purpose of the `__len__` method in Python classes?\n",
    "# The `__len__` method is used to define the behavior when the `len()` function is called on an\n",
    "# object. It should return the number of elements in the object.\n",
    "\n",
    "class MyList:\n",
    "    def __init__(self):\n",
    "        self.items = []\n",
    "\n",
    "    def __len__(self):\n",
    "        return len(self.items)\n",
    "\n",
    "my_list = MyList()\n",
    "my_list.items = [1, 2, 3, 4, 5]\n",
    "print(len(my_list)) # Output: 5"
   ]
  },
  {
   "cell_type": "code",
   "execution_count": 6,
   "metadata": {},
   "outputs": [
    {
     "name": "stdout",
     "output_type": "stream",
     "text": [
      "5\n"
     ]
    }
   ],
   "source": [
    "# What is the purpose of the `__call__` method in Python classes?\n",
    "# The `__call__` method is used to make an object callable like a function. It allows you to define\n",
    "# the behavior when the object is called as a function.\n",
    "\n",
    "class MyCallable:\n",
    "    def __call__(self, x, y):\n",
    "        return x + y\n",
    "\n",
    "my_callable = MyCallable()\n",
    "result = my_callable(2, 3)\n",
    "print(result) # Output:"
   ]
  },
  {
   "cell_type": "code",
   "execution_count": null,
   "metadata": {},
   "outputs": [],
   "source": []
  }
 ],
 "metadata": {
  "kernelspec": {
   "display_name": "base",
   "language": "python",
   "name": "python3"
  },
  "language_info": {
   "codemirror_mode": {
    "name": "ipython",
    "version": 3
   },
   "file_extension": ".py",
   "mimetype": "text/x-python",
   "name": "python",
   "nbconvert_exporter": "python",
   "pygments_lexer": "ipython3",
   "version": "3.9.13"
  }
 },
 "nbformat": 4,
 "nbformat_minor": 2
}
