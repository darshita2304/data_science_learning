{
 "cells": [
  {
   "cell_type": "code",
   "execution_count": 19,
   "metadata": {},
   "outputs": [],
   "source": [
    "import pandas as pd"
   ]
  },
  {
   "cell_type": "code",
   "execution_count": 20,
   "metadata": {},
   "outputs": [],
   "source": [
    "df = pd.read_csv(\"Comp1 - Loans.csv\")"
   ]
  },
  {
   "cell_type": "code",
   "execution_count": 21,
   "metadata": {},
   "outputs": [
    {
     "data": {
      "text/html": [
       "<div>\n",
       "<style scoped>\n",
       "    .dataframe tbody tr th:only-of-type {\n",
       "        vertical-align: middle;\n",
       "    }\n",
       "\n",
       "    .dataframe tbody tr th {\n",
       "        vertical-align: top;\n",
       "    }\n",
       "\n",
       "    .dataframe thead th {\n",
       "        text-align: right;\n",
       "    }\n",
       "</style>\n",
       "<table border=\"1\" class=\"dataframe\">\n",
       "  <thead>\n",
       "    <tr style=\"text-align: right;\">\n",
       "      <th></th>\n",
       "      <th>Currency</th>\n",
       "      <th>Balance Amount</th>\n",
       "      <th>Actual Outstanding in SGD</th>\n",
       "      <th>Maturity Date</th>\n",
       "      <th>Account Number</th>\n",
       "      <th>Interest Recievable</th>\n",
       "      <th>Bucket</th>\n",
       "      <th>IP/IR bucket</th>\n",
       "      <th>Exchange Rate</th>\n",
       "      <th>Base Ccy</th>\n",
       "      <th>Interest flow</th>\n",
       "      <th>IR Amount</th>\n",
       "      <th>Principal + Interest</th>\n",
       "      <th>Bucket (Principal + Interest)</th>\n",
       "      <th>Bucket IR</th>\n",
       "    </tr>\n",
       "  </thead>\n",
       "  <tbody>\n",
       "    <tr>\n",
       "      <th>0</th>\n",
       "      <td>USD</td>\n",
       "      <td>4,83,587.87</td>\n",
       "      <td>15,08,363.34</td>\n",
       "      <td>31-Jan-17</td>\n",
       "      <td>88160000082</td>\n",
       "      <td>25343.9472</td>\n",
       "      <td>8 days to 14 days</td>\n",
       "      <td>Over 3 wks to 1 mth</td>\n",
       "      <td>1.44655</td>\n",
       "      <td>6,99,534.04</td>\n",
       "      <td>2,681.30</td>\n",
       "      <td>36,661.29</td>\n",
       "      <td>7,02,215.34</td>\n",
       "      <td>Over 3 wks to 1 mth</td>\n",
       "      <td>Over 3 wks to 1 mth</td>\n",
       "    </tr>\n",
       "    <tr>\n",
       "      <th>1</th>\n",
       "      <td>USD</td>\n",
       "      <td>5,59,143.68</td>\n",
       "      <td>8,08,829.30</td>\n",
       "      <td>17-Feb-18</td>\n",
       "      <td>88160000082</td>\n",
       "      <td>25343.9472</td>\n",
       "      <td>Up to 1 Year</td>\n",
       "      <td>Over 3 wks to 1 mth</td>\n",
       "      <td>1.44655</td>\n",
       "      <td>8,08,829.30</td>\n",
       "      <td>23,396.80</td>\n",
       "      <td>0</td>\n",
       "      <td>8,32,226.10</td>\n",
       "      <td>Over 3 wks to 1 mth</td>\n",
       "      <td>Over 1 yr to 2 yrs</td>\n",
       "    </tr>\n",
       "    <tr>\n",
       "      <th>2</th>\n",
       "      <td>USD</td>\n",
       "      <td>1,83,000.00</td>\n",
       "      <td>50,47,012.91</td>\n",
       "      <td>05-Jan-17</td>\n",
       "      <td>88160000183</td>\n",
       "      <td>1598.2692</td>\n",
       "      <td>Up to 3 Months</td>\n",
       "      <td>Over 1 mth to 3 mths</td>\n",
       "      <td>1.44655</td>\n",
       "      <td>2,64,718.65</td>\n",
       "      <td>67,831.71</td>\n",
       "      <td>2,311.98</td>\n",
       "      <td>3,32,550.36</td>\n",
       "      <td>Over 1 mth to 3 mths</td>\n",
       "      <td>Up to 1 week</td>\n",
       "    </tr>\n",
       "    <tr>\n",
       "      <th>3</th>\n",
       "      <td>USD</td>\n",
       "      <td>1,83,000.00</td>\n",
       "      <td>2,64,718.65</td>\n",
       "      <td>16-Aug-17</td>\n",
       "      <td>88160000183</td>\n",
       "      <td>1598.2692</td>\n",
       "      <td>Up to 6 Months</td>\n",
       "      <td>Over 1 mth to 3 mths</td>\n",
       "      <td>1.44655</td>\n",
       "      <td>2,64,718.65</td>\n",
       "      <td>66,465.05</td>\n",
       "      <td>0</td>\n",
       "      <td>3,31,183.70</td>\n",
       "      <td>Over 1 mth to 3 mths</td>\n",
       "      <td>Over 6 mths to 1 yr</td>\n",
       "    </tr>\n",
       "    <tr>\n",
       "      <th>4</th>\n",
       "      <td>USD</td>\n",
       "      <td>1,83,000.00</td>\n",
       "      <td>2,64,718.65</td>\n",
       "      <td>27-Jan-18</td>\n",
       "      <td>88160000183</td>\n",
       "      <td>1598.2692</td>\n",
       "      <td>Up to 1 Year</td>\n",
       "      <td>Over 1 mth to 3 mths</td>\n",
       "      <td>1.44655</td>\n",
       "      <td>2,64,718.65</td>\n",
       "      <td>62,785.95</td>\n",
       "      <td>0</td>\n",
       "      <td>3,27,504.60</td>\n",
       "      <td>Over 1 mth to 3 mths</td>\n",
       "      <td>Over 1 yr to 2 yrs</td>\n",
       "    </tr>\n",
       "  </tbody>\n",
       "</table>\n",
       "</div>"
      ],
      "text/plain": [
       "  Currency Balance Amount  Actual Outstanding in SGD  Maturity Date  \\\n",
       "0      USD     4,83,587.87               15,08,363.34     31-Jan-17   \n",
       "1      USD     5,59,143.68                8,08,829.30     17-Feb-18   \n",
       "2      USD     1,83,000.00               50,47,012.91     05-Jan-17   \n",
       "3      USD     1,83,000.00                2,64,718.65     16-Aug-17   \n",
       "4      USD     1,83,000.00                2,64,718.65     27-Jan-18   \n",
       "\n",
       "   Account Number  Interest Recievable             Bucket  \\\n",
       "0     88160000082           25343.9472  8 days to 14 days   \n",
       "1     88160000082           25343.9472       Up to 1 Year   \n",
       "2     88160000183            1598.2692     Up to 3 Months   \n",
       "3     88160000183            1598.2692     Up to 6 Months   \n",
       "4     88160000183            1598.2692       Up to 1 Year   \n",
       "\n",
       "           IP/IR bucket  Exchange Rate     Base Ccy Interest flow  IR Amount  \\\n",
       "0   Over 3 wks to 1 mth        1.44655  6,99,534.04      2,681.30  36,661.29   \n",
       "1   Over 3 wks to 1 mth        1.44655  8,08,829.30     23,396.80          0   \n",
       "2  Over 1 mth to 3 mths        1.44655  2,64,718.65     67,831.71   2,311.98   \n",
       "3  Over 1 mth to 3 mths        1.44655  2,64,718.65     66,465.05          0   \n",
       "4  Over 1 mth to 3 mths        1.44655  2,64,718.65     62,785.95          0   \n",
       "\n",
       "  Principal + Interest Bucket (Principal + Interest)            Bucket IR  \n",
       "0          7,02,215.34           Over 3 wks to 1 mth  Over 3 wks to 1 mth  \n",
       "1          8,32,226.10           Over 3 wks to 1 mth  Over 1 yr to 2 yrs   \n",
       "2          3,32,550.36          Over 1 mth to 3 mths         Up to 1 week  \n",
       "3          3,31,183.70          Over 1 mth to 3 mths  Over 6 mths to 1 yr  \n",
       "4          3,27,504.60          Over 1 mth to 3 mths  Over 1 yr to 2 yrs   "
      ]
     },
     "execution_count": 21,
     "metadata": {},
     "output_type": "execute_result"
    }
   ],
   "source": [
    "df.head()"
   ]
  },
  {
   "cell_type": "code",
   "execution_count": 22,
   "metadata": {},
   "outputs": [
    {
     "name": "stdout",
     "output_type": "stream",
     "text": [
      "<class 'pandas.core.frame.DataFrame'>\n",
      "RangeIndex: 968 entries, 0 to 967\n",
      "Data columns (total 15 columns):\n",
      " #   Column                         Non-Null Count  Dtype  \n",
      "---  ------                         --------------  -----  \n",
      " 0   Currency                       968 non-null    object \n",
      " 1   Balance Amount                 968 non-null    object \n",
      " 2   Actual Outstanding in SGD      968 non-null    object \n",
      " 3   Maturity Date                  968 non-null    object \n",
      " 4   Account Number                 968 non-null    int64  \n",
      " 5   Interest Recievable            968 non-null    float64\n",
      " 6   Bucket                         968 non-null    object \n",
      " 7   IP/IR bucket                   968 non-null    object \n",
      " 8   Exchange Rate                  968 non-null    float64\n",
      " 9   Base Ccy                       968 non-null    object \n",
      " 10  Interest flow                  968 non-null    object \n",
      " 11  IR Amount                      968 non-null    object \n",
      " 12  Principal + Interest           968 non-null    object \n",
      " 13  Bucket (Principal + Interest)  968 non-null    object \n",
      " 14  Bucket IR                      968 non-null    object \n",
      "dtypes: float64(2), int64(1), object(12)\n",
      "memory usage: 113.6+ KB\n"
     ]
    }
   ],
   "source": [
    "df.info()"
   ]
  },
  {
   "cell_type": "code",
   "execution_count": 23,
   "metadata": {},
   "outputs": [
    {
     "data": {
      "text/html": [
       "<div>\n",
       "<style scoped>\n",
       "    .dataframe tbody tr th:only-of-type {\n",
       "        vertical-align: middle;\n",
       "    }\n",
       "\n",
       "    .dataframe tbody tr th {\n",
       "        vertical-align: top;\n",
       "    }\n",
       "\n",
       "    .dataframe thead th {\n",
       "        text-align: right;\n",
       "    }\n",
       "</style>\n",
       "<table border=\"1\" class=\"dataframe\">\n",
       "  <thead>\n",
       "    <tr style=\"text-align: right;\">\n",
       "      <th></th>\n",
       "      <th>Account Number</th>\n",
       "      <th>Interest Recievable</th>\n",
       "      <th>Exchange Rate</th>\n",
       "    </tr>\n",
       "  </thead>\n",
       "  <tbody>\n",
       "    <tr>\n",
       "      <th>count</th>\n",
       "      <td>9.680000e+02</td>\n",
       "      <td>968.000000</td>\n",
       "      <td>968.000000</td>\n",
       "    </tr>\n",
       "    <tr>\n",
       "      <th>mean</th>\n",
       "      <td>8.821931e+10</td>\n",
       "      <td>25315.145475</td>\n",
       "      <td>1.397651</td>\n",
       "    </tr>\n",
       "    <tr>\n",
       "      <th>std</th>\n",
       "      <td>4.916098e+07</td>\n",
       "      <td>77594.658664</td>\n",
       "      <td>0.139517</td>\n",
       "    </tr>\n",
       "    <tr>\n",
       "      <th>min</th>\n",
       "      <td>8.816000e+10</td>\n",
       "      <td>22.301400</td>\n",
       "      <td>1.000000</td>\n",
       "    </tr>\n",
       "    <tr>\n",
       "      <th>25%</th>\n",
       "      <td>8.816000e+10</td>\n",
       "      <td>552.004200</td>\n",
       "      <td>1.446550</td>\n",
       "    </tr>\n",
       "    <tr>\n",
       "      <th>50%</th>\n",
       "      <td>8.826001e+10</td>\n",
       "      <td>1524.824400</td>\n",
       "      <td>1.446550</td>\n",
       "    </tr>\n",
       "    <tr>\n",
       "      <th>75%</th>\n",
       "      <td>8.826002e+10</td>\n",
       "      <td>9529.741650</td>\n",
       "      <td>1.446550</td>\n",
       "    </tr>\n",
       "    <tr>\n",
       "      <th>max</th>\n",
       "      <td>8.826002e+10</td>\n",
       "      <td>481727.129400</td>\n",
       "      <td>1.446550</td>\n",
       "    </tr>\n",
       "  </tbody>\n",
       "</table>\n",
       "</div>"
      ],
      "text/plain": [
       "       Account Number  Interest Recievable  Exchange Rate\n",
       "count    9.680000e+02           968.000000     968.000000\n",
       "mean     8.821931e+10         25315.145475       1.397651\n",
       "std      4.916098e+07         77594.658664       0.139517\n",
       "min      8.816000e+10            22.301400       1.000000\n",
       "25%      8.816000e+10           552.004200       1.446550\n",
       "50%      8.826001e+10          1524.824400       1.446550\n",
       "75%      8.826002e+10          9529.741650       1.446550\n",
       "max      8.826002e+10        481727.129400       1.446550"
      ]
     },
     "execution_count": 23,
     "metadata": {},
     "output_type": "execute_result"
    }
   ],
   "source": [
    "df.describe()"
   ]
  },
  {
   "cell_type": "code",
   "execution_count": 24,
   "metadata": {},
   "outputs": [
    {
     "data": {
      "text/html": [
       "<div>\n",
       "<style scoped>\n",
       "    .dataframe tbody tr th:only-of-type {\n",
       "        vertical-align: middle;\n",
       "    }\n",
       "\n",
       "    .dataframe tbody tr th {\n",
       "        vertical-align: top;\n",
       "    }\n",
       "\n",
       "    .dataframe thead th {\n",
       "        text-align: right;\n",
       "    }\n",
       "</style>\n",
       "<table border=\"1\" class=\"dataframe\">\n",
       "  <thead>\n",
       "    <tr style=\"text-align: right;\">\n",
       "      <th></th>\n",
       "      <th>Currency</th>\n",
       "      <th>Balance Amount</th>\n",
       "      <th>Actual Outstanding in SGD</th>\n",
       "      <th>Maturity Date</th>\n",
       "      <th>Account Number</th>\n",
       "      <th>Interest Recievable</th>\n",
       "      <th>Bucket</th>\n",
       "      <th>IP/IR bucket</th>\n",
       "      <th>Exchange Rate</th>\n",
       "      <th>Base Ccy</th>\n",
       "      <th>Interest flow</th>\n",
       "      <th>IR Amount</th>\n",
       "      <th>Principal + Interest</th>\n",
       "      <th>Bucket (Principal + Interest)</th>\n",
       "      <th>Bucket IR</th>\n",
       "    </tr>\n",
       "  </thead>\n",
       "  <tbody>\n",
       "    <tr>\n",
       "      <th>0</th>\n",
       "      <td>USD</td>\n",
       "      <td>4,83,587.87</td>\n",
       "      <td>15,08,363.34</td>\n",
       "      <td>31-Jan-17</td>\n",
       "      <td>88160000082</td>\n",
       "      <td>25343.9472</td>\n",
       "      <td>8 days to 14 days</td>\n",
       "      <td>Over 3 wks to 1 mth</td>\n",
       "      <td>1.44655</td>\n",
       "      <td>6,99,534.04</td>\n",
       "      <td>2,681.30</td>\n",
       "      <td>36,661.29</td>\n",
       "      <td>7,02,215.34</td>\n",
       "      <td>Over 3 wks to 1 mth</td>\n",
       "      <td>Over 3 wks to 1 mth</td>\n",
       "    </tr>\n",
       "    <tr>\n",
       "      <th>1</th>\n",
       "      <td>USD</td>\n",
       "      <td>5,59,143.68</td>\n",
       "      <td>8,08,829.30</td>\n",
       "      <td>17-Feb-18</td>\n",
       "      <td>88160000082</td>\n",
       "      <td>25343.9472</td>\n",
       "      <td>Up to 1 Year</td>\n",
       "      <td>Over 3 wks to 1 mth</td>\n",
       "      <td>1.44655</td>\n",
       "      <td>8,08,829.30</td>\n",
       "      <td>23,396.80</td>\n",
       "      <td>0</td>\n",
       "      <td>8,32,226.10</td>\n",
       "      <td>Over 3 wks to 1 mth</td>\n",
       "      <td>Over 1 yr to 2 yrs</td>\n",
       "    </tr>\n",
       "    <tr>\n",
       "      <th>2</th>\n",
       "      <td>USD</td>\n",
       "      <td>1,83,000.00</td>\n",
       "      <td>50,47,012.91</td>\n",
       "      <td>05-Jan-17</td>\n",
       "      <td>88160000183</td>\n",
       "      <td>1598.2692</td>\n",
       "      <td>Up to 3 Months</td>\n",
       "      <td>Over 1 mth to 3 mths</td>\n",
       "      <td>1.44655</td>\n",
       "      <td>2,64,718.65</td>\n",
       "      <td>67,831.71</td>\n",
       "      <td>2,311.98</td>\n",
       "      <td>3,32,550.36</td>\n",
       "      <td>Over 1 mth to 3 mths</td>\n",
       "      <td>Up to 1 week</td>\n",
       "    </tr>\n",
       "    <tr>\n",
       "      <th>3</th>\n",
       "      <td>USD</td>\n",
       "      <td>1,83,000.00</td>\n",
       "      <td>2,64,718.65</td>\n",
       "      <td>16-Aug-17</td>\n",
       "      <td>88160000183</td>\n",
       "      <td>1598.2692</td>\n",
       "      <td>Up to 6 Months</td>\n",
       "      <td>Over 1 mth to 3 mths</td>\n",
       "      <td>1.44655</td>\n",
       "      <td>2,64,718.65</td>\n",
       "      <td>66,465.05</td>\n",
       "      <td>0</td>\n",
       "      <td>3,31,183.70</td>\n",
       "      <td>Over 1 mth to 3 mths</td>\n",
       "      <td>Over 6 mths to 1 yr</td>\n",
       "    </tr>\n",
       "    <tr>\n",
       "      <th>4</th>\n",
       "      <td>USD</td>\n",
       "      <td>1,83,000.00</td>\n",
       "      <td>2,64,718.65</td>\n",
       "      <td>27-Jan-18</td>\n",
       "      <td>88160000183</td>\n",
       "      <td>1598.2692</td>\n",
       "      <td>Up to 1 Year</td>\n",
       "      <td>Over 1 mth to 3 mths</td>\n",
       "      <td>1.44655</td>\n",
       "      <td>2,64,718.65</td>\n",
       "      <td>62,785.95</td>\n",
       "      <td>0</td>\n",
       "      <td>3,27,504.60</td>\n",
       "      <td>Over 1 mth to 3 mths</td>\n",
       "      <td>Over 1 yr to 2 yrs</td>\n",
       "    </tr>\n",
       "  </tbody>\n",
       "</table>\n",
       "</div>"
      ],
      "text/plain": [
       "  Currency Balance Amount  Actual Outstanding in SGD  Maturity Date  \\\n",
       "0      USD     4,83,587.87               15,08,363.34     31-Jan-17   \n",
       "1      USD     5,59,143.68                8,08,829.30     17-Feb-18   \n",
       "2      USD     1,83,000.00               50,47,012.91     05-Jan-17   \n",
       "3      USD     1,83,000.00                2,64,718.65     16-Aug-17   \n",
       "4      USD     1,83,000.00                2,64,718.65     27-Jan-18   \n",
       "\n",
       "   Account Number  Interest Recievable             Bucket  \\\n",
       "0     88160000082           25343.9472  8 days to 14 days   \n",
       "1     88160000082           25343.9472       Up to 1 Year   \n",
       "2     88160000183            1598.2692     Up to 3 Months   \n",
       "3     88160000183            1598.2692     Up to 6 Months   \n",
       "4     88160000183            1598.2692       Up to 1 Year   \n",
       "\n",
       "           IP/IR bucket  Exchange Rate     Base Ccy Interest flow  IR Amount  \\\n",
       "0   Over 3 wks to 1 mth        1.44655  6,99,534.04      2,681.30  36,661.29   \n",
       "1   Over 3 wks to 1 mth        1.44655  8,08,829.30     23,396.80          0   \n",
       "2  Over 1 mth to 3 mths        1.44655  2,64,718.65     67,831.71   2,311.98   \n",
       "3  Over 1 mth to 3 mths        1.44655  2,64,718.65     66,465.05          0   \n",
       "4  Over 1 mth to 3 mths        1.44655  2,64,718.65     62,785.95          0   \n",
       "\n",
       "  Principal + Interest Bucket (Principal + Interest)            Bucket IR  \n",
       "0          7,02,215.34           Over 3 wks to 1 mth  Over 3 wks to 1 mth  \n",
       "1          8,32,226.10           Over 3 wks to 1 mth  Over 1 yr to 2 yrs   \n",
       "2          3,32,550.36          Over 1 mth to 3 mths         Up to 1 week  \n",
       "3          3,31,183.70          Over 1 mth to 3 mths  Over 6 mths to 1 yr  \n",
       "4          3,27,504.60          Over 1 mth to 3 mths  Over 1 yr to 2 yrs   "
      ]
     },
     "execution_count": 24,
     "metadata": {},
     "output_type": "execute_result"
    }
   ],
   "source": [
    "df.head()"
   ]
  },
  {
   "cell_type": "code",
   "execution_count": 25,
   "metadata": {},
   "outputs": [],
   "source": [
    "df.columns = df.columns.str.strip() # some column names have blank space need to remove it to read easier"
   ]
  },
  {
   "cell_type": "code",
   "execution_count": 47,
   "metadata": {},
   "outputs": [],
   "source": [
    "def define_datatype(df):\n",
    "    dict_type = dict()\n",
    "    for key in df.keys():\n",
    "        print(key)\n",
    "        \n",
    "        is_int = all(set(df[key].astype(str).str.match('^[0-9]+$')))\n",
    "        # print(is_int)\n",
    "        if (is_int):           \n",
    "            dict_type[key] = \"Integer\"\n",
    "            continue\n",
    "            \n",
    "        is_float = all(set(df[key].astype(str).str.match(('^[0-9]+(\\.[0-9]+)?$'))))\n",
    "        print(is_float)\n",
    "        if (is_float):\n",
    "            dict_type[key] = \"Float\"\n",
    "            continue\n",
    "        \n",
    "        # string only...\n",
    "        is_string = all(set(df[key].astype(str).str.match('^[a-zA-Z0-9]+$')))\n",
    "        # print(is_string)\n",
    "        if(is_string):\n",
    "            is_str_category = set(df[key].duplicated())\n",
    "            print(is_str_category)\n",
    "            if(len(is_str_category)>1):\n",
    "                dict_type[key] =\"String-Categorical\"\n",
    "            else:\n",
    "                dict_type[key] = \"String\"\n",
    "            \n",
    "        # is_number = any(set(df[key].astype(str).str.match('^[0-9]+$')))  # numbers only...\n",
    "        # if(is_number):\n",
    "        #     df[key] = \"Number\"\n",
    "            \n",
    "        # is_float = any(set(df[key].astype(str).str.match('^[0-9]+(\\.[0-9]+)?$'))) # floats only...\n",
    "        # if(is_float):\n",
    "        #     df[key] = \"Float\"\n",
    "            \n",
    "        # is_alphanum = any(set(df[key].astype(str).str.match('^[0-9a-zA-z]+$'))) # is alphanumeric only...\n",
    "        # if (is_alphanum):\n",
    "        #     df[key] = \"AlphaNumeric\"\n",
    "    print(dict_type)\n",
    "    return (dict_type)\n",
    "        \n",
    "        "
   ]
  },
  {
   "cell_type": "code",
   "execution_count": 48,
   "metadata": {},
   "outputs": [
    {
     "name": "stdout",
     "output_type": "stream",
     "text": [
      "Currency\n",
      "False\n",
      "{False, True}\n",
      "Balance Amount\n",
      "False\n",
      "Actual Outstanding in SGD\n",
      "False\n",
      "Maturity Date\n",
      "False\n",
      "Account Number\n",
      "Interest Recievable\n",
      "True\n",
      "Bucket\n",
      "False\n",
      "IP/IR bucket\n",
      "False\n",
      "Exchange Rate\n",
      "True\n",
      "Base Ccy\n",
      "False\n",
      "Interest flow\n",
      "False\n",
      "IR Amount\n",
      "False\n",
      "Principal + Interest\n",
      "False\n",
      "Bucket (Principal + Interest)\n",
      "False\n",
      "Bucket IR\n",
      "False\n",
      "{'Currency': 'String-Categorical', 'Account Number': 'Integer', 'Interest Recievable': 'Float', 'Exchange Rate': 'Float'}\n",
      "---\n"
     ]
    },
    {
     "data": {
      "text/plain": [
       "{'Currency': 'String-Categorical',\n",
       " 'Account Number': 'Integer',\n",
       " 'Interest Recievable': 'Float',\n",
       " 'Exchange Rate': 'Float'}"
      ]
     },
     "execution_count": 48,
     "metadata": {},
     "output_type": "execute_result"
    }
   ],
   "source": [
    "dd = define_datatype(df)\n",
    "print(\"---\")\n",
    "dd"
   ]
  },
  {
   "cell_type": "code",
   "execution_count": 28,
   "metadata": {},
   "outputs": [],
   "source": [
    "df.columns = df.columns.str.strip()"
   ]
  },
  {
   "cell_type": "code",
   "execution_count": 51,
   "metadata": {},
   "outputs": [
    {
     "data": {
      "text/plain": [
       "0      False\n",
       "1      False\n",
       "2      False\n",
       "3      False\n",
       "4       True\n",
       "       ...  \n",
       "963     True\n",
       "964     True\n",
       "965     True\n",
       "966     True\n",
       "967     True\n",
       "Name: Bucket, Length: 968, dtype: bool"
      ]
     },
     "execution_count": 51,
     "metadata": {},
     "output_type": "execute_result"
    }
   ],
   "source": [
    "df[\"Bucket\"].duplicated()"
   ]
  },
  {
   "cell_type": "code",
   "execution_count": 29,
   "metadata": {},
   "outputs": [
    {
     "data": {
      "text/html": [
       "<div>\n",
       "<style scoped>\n",
       "    .dataframe tbody tr th:only-of-type {\n",
       "        vertical-align: middle;\n",
       "    }\n",
       "\n",
       "    .dataframe tbody tr th {\n",
       "        vertical-align: top;\n",
       "    }\n",
       "\n",
       "    .dataframe thead th {\n",
       "        text-align: right;\n",
       "    }\n",
       "</style>\n",
       "<table border=\"1\" class=\"dataframe\">\n",
       "  <thead>\n",
       "    <tr style=\"text-align: right;\">\n",
       "      <th></th>\n",
       "      <th>Currency</th>\n",
       "      <th>Balance Amount</th>\n",
       "      <th>Actual Outstanding in SGD</th>\n",
       "      <th>Maturity Date</th>\n",
       "      <th>Account Number</th>\n",
       "      <th>Interest Recievable</th>\n",
       "      <th>Bucket</th>\n",
       "      <th>IP/IR bucket</th>\n",
       "      <th>Exchange Rate</th>\n",
       "      <th>Base Ccy</th>\n",
       "      <th>Interest flow</th>\n",
       "      <th>IR Amount</th>\n",
       "      <th>Principal + Interest</th>\n",
       "      <th>Bucket (Principal + Interest)</th>\n",
       "      <th>Bucket IR</th>\n",
       "    </tr>\n",
       "  </thead>\n",
       "  <tbody>\n",
       "    <tr>\n",
       "      <th>0</th>\n",
       "      <td>USD</td>\n",
       "      <td>4,83,587.87</td>\n",
       "      <td>15,08,363.34</td>\n",
       "      <td>31-Jan-17</td>\n",
       "      <td>88160000082</td>\n",
       "      <td>25343.9472</td>\n",
       "      <td>8 days to 14 days</td>\n",
       "      <td>Over 3 wks to 1 mth</td>\n",
       "      <td>1.44655</td>\n",
       "      <td>6,99,534.04</td>\n",
       "      <td>2,681.30</td>\n",
       "      <td>36,661.29</td>\n",
       "      <td>7,02,215.34</td>\n",
       "      <td>Over 3 wks to 1 mth</td>\n",
       "      <td>Over 3 wks to 1 mth</td>\n",
       "    </tr>\n",
       "    <tr>\n",
       "      <th>1</th>\n",
       "      <td>USD</td>\n",
       "      <td>5,59,143.68</td>\n",
       "      <td>8,08,829.30</td>\n",
       "      <td>17-Feb-18</td>\n",
       "      <td>88160000082</td>\n",
       "      <td>25343.9472</td>\n",
       "      <td>Up to 1 Year</td>\n",
       "      <td>Over 3 wks to 1 mth</td>\n",
       "      <td>1.44655</td>\n",
       "      <td>8,08,829.30</td>\n",
       "      <td>23,396.80</td>\n",
       "      <td>0</td>\n",
       "      <td>8,32,226.10</td>\n",
       "      <td>Over 3 wks to 1 mth</td>\n",
       "      <td>Over 1 yr to 2 yrs</td>\n",
       "    </tr>\n",
       "    <tr>\n",
       "      <th>2</th>\n",
       "      <td>USD</td>\n",
       "      <td>1,83,000.00</td>\n",
       "      <td>50,47,012.91</td>\n",
       "      <td>05-Jan-17</td>\n",
       "      <td>88160000183</td>\n",
       "      <td>1598.2692</td>\n",
       "      <td>Up to 3 Months</td>\n",
       "      <td>Over 1 mth to 3 mths</td>\n",
       "      <td>1.44655</td>\n",
       "      <td>2,64,718.65</td>\n",
       "      <td>67,831.71</td>\n",
       "      <td>2,311.98</td>\n",
       "      <td>3,32,550.36</td>\n",
       "      <td>Over 1 mth to 3 mths</td>\n",
       "      <td>Up to 1 week</td>\n",
       "    </tr>\n",
       "    <tr>\n",
       "      <th>3</th>\n",
       "      <td>USD</td>\n",
       "      <td>1,83,000.00</td>\n",
       "      <td>2,64,718.65</td>\n",
       "      <td>16-Aug-17</td>\n",
       "      <td>88160000183</td>\n",
       "      <td>1598.2692</td>\n",
       "      <td>Up to 6 Months</td>\n",
       "      <td>Over 1 mth to 3 mths</td>\n",
       "      <td>1.44655</td>\n",
       "      <td>2,64,718.65</td>\n",
       "      <td>66,465.05</td>\n",
       "      <td>0</td>\n",
       "      <td>3,31,183.70</td>\n",
       "      <td>Over 1 mth to 3 mths</td>\n",
       "      <td>Over 6 mths to 1 yr</td>\n",
       "    </tr>\n",
       "    <tr>\n",
       "      <th>4</th>\n",
       "      <td>USD</td>\n",
       "      <td>1,83,000.00</td>\n",
       "      <td>2,64,718.65</td>\n",
       "      <td>27-Jan-18</td>\n",
       "      <td>88160000183</td>\n",
       "      <td>1598.2692</td>\n",
       "      <td>Up to 1 Year</td>\n",
       "      <td>Over 1 mth to 3 mths</td>\n",
       "      <td>1.44655</td>\n",
       "      <td>2,64,718.65</td>\n",
       "      <td>62,785.95</td>\n",
       "      <td>0</td>\n",
       "      <td>3,27,504.60</td>\n",
       "      <td>Over 1 mth to 3 mths</td>\n",
       "      <td>Over 1 yr to 2 yrs</td>\n",
       "    </tr>\n",
       "  </tbody>\n",
       "</table>\n",
       "</div>"
      ],
      "text/plain": [
       "  Currency Balance Amount Actual Outstanding in SGD Maturity Date  \\\n",
       "0      USD    4,83,587.87              15,08,363.34     31-Jan-17   \n",
       "1      USD    5,59,143.68               8,08,829.30     17-Feb-18   \n",
       "2      USD    1,83,000.00              50,47,012.91     05-Jan-17   \n",
       "3      USD    1,83,000.00               2,64,718.65     16-Aug-17   \n",
       "4      USD    1,83,000.00               2,64,718.65     27-Jan-18   \n",
       "\n",
       "   Account Number  Interest Recievable             Bucket  \\\n",
       "0     88160000082           25343.9472  8 days to 14 days   \n",
       "1     88160000082           25343.9472       Up to 1 Year   \n",
       "2     88160000183            1598.2692     Up to 3 Months   \n",
       "3     88160000183            1598.2692     Up to 6 Months   \n",
       "4     88160000183            1598.2692       Up to 1 Year   \n",
       "\n",
       "           IP/IR bucket  Exchange Rate     Base Ccy Interest flow  IR Amount  \\\n",
       "0   Over 3 wks to 1 mth        1.44655  6,99,534.04      2,681.30  36,661.29   \n",
       "1   Over 3 wks to 1 mth        1.44655  8,08,829.30     23,396.80          0   \n",
       "2  Over 1 mth to 3 mths        1.44655  2,64,718.65     67,831.71   2,311.98   \n",
       "3  Over 1 mth to 3 mths        1.44655  2,64,718.65     66,465.05          0   \n",
       "4  Over 1 mth to 3 mths        1.44655  2,64,718.65     62,785.95          0   \n",
       "\n",
       "  Principal + Interest Bucket (Principal + Interest)            Bucket IR  \n",
       "0          7,02,215.34           Over 3 wks to 1 mth  Over 3 wks to 1 mth  \n",
       "1          8,32,226.10           Over 3 wks to 1 mth  Over 1 yr to 2 yrs   \n",
       "2          3,32,550.36          Over 1 mth to 3 mths         Up to 1 week  \n",
       "3          3,31,183.70          Over 1 mth to 3 mths  Over 6 mths to 1 yr  \n",
       "4          3,27,504.60          Over 1 mth to 3 mths  Over 1 yr to 2 yrs   "
      ]
     },
     "execution_count": 29,
     "metadata": {},
     "output_type": "execute_result"
    }
   ],
   "source": [
    "df.head()"
   ]
  },
  {
   "cell_type": "code",
   "execution_count": 46,
   "metadata": {},
   "outputs": [
    {
     "data": {
      "text/plain": [
       "{True}"
      ]
     },
     "execution_count": 46,
     "metadata": {},
     "output_type": "execute_result"
    }
   ],
   "source": [
    "set(df['Currency'].astype(str).str.match('^[a-zA-Z]+$')) # string only..."
   ]
  },
  {
   "cell_type": "code",
   "execution_count": 45,
   "metadata": {},
   "outputs": [
    {
     "data": {
      "text/plain": [
       "{False}"
      ]
     },
     "execution_count": 45,
     "metadata": {},
     "output_type": "execute_result"
    }
   ],
   "source": [
    "# df[\"Account Number\"].astype(str).str.match('^[0-9]+$') # numbers only...\n",
    "\n",
    "set(df[\"Balance Amount\"].astype(str).str.match(('^[0-9]+(\\.[0-9]+)?$')))"
   ]
  },
  {
   "cell_type": "code",
   "execution_count": 35,
   "metadata": {},
   "outputs": [
    {
     "data": {
      "text/plain": [
       "array(['4,83,587.87', '5,59,143.68', '1,83,000.00', '1,94,999.94',\n",
       "       '1,09,800.00', '1,16,999.91', '64,050.00', '68,250.11',\n",
       "       '7,92,396.00', '7,86,456.00', '1,65,000.00', '2,31,000.00',\n",
       "       '8,58,000.00', '90,104.18', '1,26,145.85', '4,68,541.70',\n",
       "       '4,68,541.61', '31,96,572.87', '56,766.88', '56,766.77',\n",
       "       '1,58,40,000.00', '39,60,000.00', '4,95,000.00', '7,92,000.00',\n",
       "       '6,24,577.54', '5,72,529.44', '10,93,922.65', '16,40,883.98',\n",
       "       '39,10,773.48', '1,09,392.27', '1,64,088.40', '3,91,077.34',\n",
       "       '5,35,251.39', '3,59,734.13', '6,16,687.07', '1,68,56,113.32',\n",
       "       '2,40,594.78', '1,61,700.00', '2,77,200.00', '75,76,800.00',\n",
       "       '3,300.00', '16,500.00', '65,60,400.00', '455.68', '2,278.38',\n",
       "       '9,05,883.14', '438.21', '2,191.07', '8,71,167.83', '9,810.62',\n",
       "       '9,810.72', '66,000.00', '9,90,000.00', '6,60,000.00',\n",
       "       '8,25,000.00', '23,10,000.00', '4,48,432.06', '4,48,432.04',\n",
       "       '9,24,000.00', '13,20,000.00', '26,40,000.00', '1,49,477.35',\n",
       "       '1,49,477.31', '2,24,216.03', '2,24,216.08', '3,458.48',\n",
       "       '3,468.01', '3,593.48', '3,346.00', '3,466.67', '3,476.13',\n",
       "       '4,063.24', '4,212.05', '4,089.58', '12,55,645.31', '1,45,968.39',\n",
       "       '2,18,952.58', '3,40,592.89', '9,48,794.50', '15,56,996.09',\n",
       "       '48,65,612.80', '9,49,007.40', '41,538.88', '62,308.31',\n",
       "       '96,924.04', '2,70,002.69', '4,43,081.34', '13,84,629.18',\n",
       "       '6,491.89', '7,00,673.36', '18,125.72', '19,56,318.67',\n",
       "       '11,06,325.00', '8,03,682.00', '9,01,230.00', '1,80,246.00',\n",
       "       '7,25,736.00', '9,07,170.00', '3,62,868.00', '1,37,461.50',\n",
       "       '9,15,882.00', '9,20,461.41', '9,19,710.00', '6,43,797.00',\n",
       "       '2,75,952.60', '9,18,720.00', '9,48,620.97', '10,17,580.08',\n",
       "       '13,27,071.90', '10,00,901.22', '9,18,126.00', '6,24,325.68',\n",
       "       '8,88,145.50', '9,34,890.00', '8,22,703.20', '93,654.00',\n",
       "       '9,36,540.00', '6,08,751.00', '1,90,080.00', '2,24,40,000.00',\n",
       "       '45.72', '33,000.00', '1,38,600.00', '22,628.57', '23,382.86',\n",
       "       '33,942.86', '35,074.29', '45,257.14', '46,765.71', '11,88,000.00',\n",
       "       '13,86,000.00', '17,82,000.00', '19,80,000.00', '23,76,000.00',\n",
       "       '1,23,750.00', '3,30,000.00', '62,228.57', '64,302.86',\n",
       "       '15,84,000.00', '1,48,553.06', '1,85,691.32', '1,89,405.14',\n",
       "       '65,815.86', '65,820.48', '1,51,530.59', '1,57,591.82',\n",
       "       '1,57,591.81', '16,50,000.00', '35,869.57', '43,043.48',\n",
       "       '1,57,826.05', '41,294.80', '49,553.76', '5,739.13', '6,886.95',\n",
       "       '25,252.18', '32,877.57', '39,453.08', '28,380.00', '15,948.17',\n",
       "       '34,984.29', '41,981.15', '1,44,375.00', '1,54,687.50',\n",
       "       '2,37,187.50', '69,81,562.50', '64,077.32', '76,892.79',\n",
       "       '76,892.77', '1,52,291.30', '1,63,169.25', '1,74,047.20',\n",
       "       '2,50,192.85', '73,64,372.06', '38,916.67', '46,700.00',\n",
       "       '36,857.04', '36,855.72', '11,481.47', '13,777.76', '21,221.86',\n",
       "       '26,527.33', '27,057.87', '34,925.72', '43,657.15', '44,530.29',\n",
       "       '1,26,186.19', '2,58,681.68', '2,83,918.92', '2,83,918.91',\n",
       "       '5,08,035.00', '48,024.90', '72,037.35', '81,642.33',\n",
       "       '1,08,056.03', '7,75,602.14', '5,64,465.00', '17,441.42',\n",
       "       '21,801.79', '22,237.82', '15,019.12', '22,528.67', '25,532.50',\n",
       "       '33,793.01', '2,42,558.73', '95,700.00', '12,988.46', '21,082.46',\n",
       "       '31,623.69', '84,329.84', '1,21,224.14', '1,31,765.37',\n",
       "       '1,37,035.98', '1,42,306.60', '99,000.00', '1,66,980.00',\n",
       "       '69,300.00', '33,660.00', '44,220.00', '22,493.78', '36,511.20',\n",
       "       '54,766.80', '1,46,044.80', '2,09,939.40', '2,28,195.00',\n",
       "       '2,37,322.80', '2,46,450.60', '33,103.50', '49,655.24',\n",
       "       '56,275.94', '74,482.86', '5,34,621.45', '1,15,500.00',\n",
       "       '87,780.00', '38,280.00', '59,400.00', '19,800.00', '6,661.04',\n",
       "       '9,991.56', '16,652.59', '33,305.18', '49,957.76', '4,476.68',\n",
       "       '6,715.02', '11,191.70', '22,383.40', '33,575.10', '33,575.13',\n",
       "       '5,287.02', '7,930.53', '13,217.54', '26,435.09', '39,652.62',\n",
       "       '1,732.31', '2,811.82', '4,217.74', '11,247.30', '16,167.99',\n",
       "       '17,573.90', '18,276.86', '18,979.84', '8,709.19', '13,063.78',\n",
       "       '21,772.97', '43,545.94', '65,318.91', '65,318.90', '6,171.30',\n",
       "       '9,256.95', '15,428.25', '30,856.50', '46,284.74', '46,284.77',\n",
       "       '441.21', '2,206.05', '8,77,126.02', '7,928.74', '12,869.67',\n",
       "       '19,304.51', '51,478.68', '74,000.59', '80,435.42', '83,652.86',\n",
       "       '86,870.42', '259.32', '1,296.62', '5,15,534.20', '7,801.67',\n",
       "       '11,702.50', '19,504.16', '39,008.33', '58,512.49', '58,512.50',\n",
       "       '8,154.96', '12,232.44', '20,387.41', '40,774.81', '61,162.21',\n",
       "       '61,162.20', '9,049.60', '13,574.40', '22,623.99', '45,248.00',\n",
       "       '67,872.00', '67,872.04', '6,332.67', '9,499.01', '15,831.68',\n",
       "       '31,663.35', '47,495.04', '47,495.01', '8,809.97', '13,214.96',\n",
       "       '22,024.93', '44,049.87', '66,074.80', '66,074.82'], dtype=object)"
      ]
     },
     "execution_count": 35,
     "metadata": {},
     "output_type": "execute_result"
    }
   ],
   "source": [
    "df[\"Balance Amount\"].unique()"
   ]
  },
  {
   "cell_type": "code",
   "execution_count": 229,
   "metadata": {},
   "outputs": [
    {
     "data": {
      "text/plain": [
       "0      False\n",
       "1      False\n",
       "2      False\n",
       "3      False\n",
       "4      False\n",
       "       ...  \n",
       "963    False\n",
       "964    False\n",
       "965    False\n",
       "966    False\n",
       "967    False\n",
       "Name: Balance Amount, Length: 968, dtype: bool"
      ]
     },
     "execution_count": 229,
     "metadata": {},
     "output_type": "execute_result"
    }
   ],
   "source": [
    "df[\"Balance Amount\"].astype(str).str.match(\n",
    "    '^[-+]?[0-9]*\\.?[0-9]+([eE][-+]?[0-9]+)?$')"
   ]
  },
  {
   "cell_type": "code",
   "execution_count": 89,
   "metadata": {},
   "outputs": [],
   "source": [
    "df.columns = df.columns.str.strip()"
   ]
  },
  {
   "cell_type": "code",
   "execution_count": 90,
   "metadata": {},
   "outputs": [
    {
     "data": {
      "text/plain": [
       "Index(['Currency', 'Balance Amount', 'Actual Outstanding in SGD',\n",
       "       'Maturity Date', 'Account Number', 'Interest Recievable', 'Bucket',\n",
       "       'IP/IR bucket', 'Exchange Rate', 'Base Ccy', 'Interest flow',\n",
       "       'IR Amount', 'Principal + Interest', 'Bucket (Principal + Interest)',\n",
       "       'Bucket IR'],\n",
       "      dtype='object')"
      ]
     },
     "execution_count": 90,
     "metadata": {},
     "output_type": "execute_result"
    }
   ],
   "source": [
    "df.columns.str.strip()"
   ]
  },
  {
   "cell_type": "code",
   "execution_count": 81,
   "metadata": {},
   "outputs": [
    {
     "name": "stdout",
     "output_type": "stream",
     "text": [
      "A\n"
     ]
    },
    {
     "ename": "KeyError",
     "evalue": "'Currency'",
     "output_type": "error",
     "traceback": [
      "\u001b[1;31m---------------------------------------------------------------------------\u001b[0m",
      "\u001b[1;31mKeyError\u001b[0m                                  Traceback (most recent call last)",
      "\u001b[1;32mf:\\anaconda3\\lib\\site-packages\\pandas\\core\\indexes\\base.py\u001b[0m in \u001b[0;36mget_loc\u001b[1;34m(self, key, method, tolerance)\u001b[0m\n\u001b[0;32m   3628\u001b[0m             \u001b[1;32mtry\u001b[0m\u001b[1;33m:\u001b[0m\u001b[1;33m\u001b[0m\u001b[1;33m\u001b[0m\u001b[0m\n\u001b[1;32m-> 3629\u001b[1;33m                 \u001b[1;32mreturn\u001b[0m \u001b[0mself\u001b[0m\u001b[1;33m.\u001b[0m\u001b[0m_engine\u001b[0m\u001b[1;33m.\u001b[0m\u001b[0mget_loc\u001b[0m\u001b[1;33m(\u001b[0m\u001b[0mcasted_key\u001b[0m\u001b[1;33m)\u001b[0m\u001b[1;33m\u001b[0m\u001b[1;33m\u001b[0m\u001b[0m\n\u001b[0m\u001b[0;32m   3630\u001b[0m             \u001b[1;32mexcept\u001b[0m \u001b[0mKeyError\u001b[0m \u001b[1;32mas\u001b[0m \u001b[0merr\u001b[0m\u001b[1;33m:\u001b[0m\u001b[1;33m\u001b[0m\u001b[1;33m\u001b[0m\u001b[0m\n",
      "\u001b[1;32mf:\\anaconda3\\lib\\site-packages\\pandas\\_libs\\index.pyx\u001b[0m in \u001b[0;36mpandas._libs.index.IndexEngine.get_loc\u001b[1;34m()\u001b[0m\n",
      "\u001b[1;32mf:\\anaconda3\\lib\\site-packages\\pandas\\_libs\\index.pyx\u001b[0m in \u001b[0;36mpandas._libs.index.IndexEngine.get_loc\u001b[1;34m()\u001b[0m\n",
      "\u001b[1;32mpandas\\_libs\\hashtable_class_helper.pxi\u001b[0m in \u001b[0;36mpandas._libs.hashtable.PyObjectHashTable.get_item\u001b[1;34m()\u001b[0m\n",
      "\u001b[1;32mpandas\\_libs\\hashtable_class_helper.pxi\u001b[0m in \u001b[0;36mpandas._libs.hashtable.PyObjectHashTable.get_item\u001b[1;34m()\u001b[0m\n",
      "\u001b[1;31mKeyError\u001b[0m: 'Currency'",
      "\nThe above exception was the direct cause of the following exception:\n",
      "\u001b[1;31mKeyError\u001b[0m                                  Traceback (most recent call last)",
      "\u001b[1;32m~\\AppData\\Local\\Temp\\ipykernel_8952\\704798525.py\u001b[0m in \u001b[0;36m<module>\u001b[1;34m\u001b[0m\n\u001b[0;32m      1\u001b[0m \u001b[1;32mfor\u001b[0m \u001b[0mkey\u001b[0m \u001b[1;32min\u001b[0m \u001b[0mdf\u001b[0m\u001b[1;33m.\u001b[0m\u001b[0mkeys\u001b[0m\u001b[1;33m(\u001b[0m\u001b[1;33m)\u001b[0m\u001b[1;33m:\u001b[0m\u001b[1;33m\u001b[0m\u001b[1;33m\u001b[0m\u001b[0m\n\u001b[0;32m      2\u001b[0m     \u001b[0mprint\u001b[0m\u001b[1;33m(\u001b[0m\u001b[0mkey\u001b[0m\u001b[1;33m)\u001b[0m\u001b[1;33m\u001b[0m\u001b[1;33m\u001b[0m\u001b[0m\n\u001b[1;32m----> 3\u001b[1;33m     \u001b[0mss\u001b[0m \u001b[1;33m=\u001b[0m \u001b[0mset\u001b[0m\u001b[1;33m(\u001b[0m\u001b[0mdf\u001b[0m\u001b[1;33m[\u001b[0m\u001b[1;34m'Currency'\u001b[0m\u001b[1;33m]\u001b[0m\u001b[1;33m.\u001b[0m\u001b[0mstr\u001b[0m\u001b[1;33m.\u001b[0m\u001b[0mmatch\u001b[0m\u001b[1;33m(\u001b[0m\u001b[1;34m'^[a-zA-Z]+$'\u001b[0m\u001b[1;33m)\u001b[0m\u001b[1;33m)\u001b[0m \u001b[1;31m#- all strings...\u001b[0m\u001b[1;33m\u001b[0m\u001b[1;33m\u001b[0m\u001b[0m\n\u001b[0m\u001b[0;32m      4\u001b[0m     \u001b[1;31m# if (len(ss) == 1\u001b[0m\u001b[1;33m\u001b[0m\u001b[1;33m\u001b[0m\u001b[0m\n\u001b[0;32m      5\u001b[0m \u001b[1;31m# set(df['Currency'].str.match('^[a-zA-Z]+$')) - all strings...\u001b[0m\u001b[1;33m\u001b[0m\u001b[1;33m\u001b[0m\u001b[0m\n",
      "\u001b[1;32mf:\\anaconda3\\lib\\site-packages\\pandas\\core\\frame.py\u001b[0m in \u001b[0;36m__getitem__\u001b[1;34m(self, key)\u001b[0m\n\u001b[0;32m   3503\u001b[0m             \u001b[1;32mif\u001b[0m \u001b[0mself\u001b[0m\u001b[1;33m.\u001b[0m\u001b[0mcolumns\u001b[0m\u001b[1;33m.\u001b[0m\u001b[0mnlevels\u001b[0m \u001b[1;33m>\u001b[0m \u001b[1;36m1\u001b[0m\u001b[1;33m:\u001b[0m\u001b[1;33m\u001b[0m\u001b[1;33m\u001b[0m\u001b[0m\n\u001b[0;32m   3504\u001b[0m                 \u001b[1;32mreturn\u001b[0m \u001b[0mself\u001b[0m\u001b[1;33m.\u001b[0m\u001b[0m_getitem_multilevel\u001b[0m\u001b[1;33m(\u001b[0m\u001b[0mkey\u001b[0m\u001b[1;33m)\u001b[0m\u001b[1;33m\u001b[0m\u001b[1;33m\u001b[0m\u001b[0m\n\u001b[1;32m-> 3505\u001b[1;33m             \u001b[0mindexer\u001b[0m \u001b[1;33m=\u001b[0m \u001b[0mself\u001b[0m\u001b[1;33m.\u001b[0m\u001b[0mcolumns\u001b[0m\u001b[1;33m.\u001b[0m\u001b[0mget_loc\u001b[0m\u001b[1;33m(\u001b[0m\u001b[0mkey\u001b[0m\u001b[1;33m)\u001b[0m\u001b[1;33m\u001b[0m\u001b[1;33m\u001b[0m\u001b[0m\n\u001b[0m\u001b[0;32m   3506\u001b[0m             \u001b[1;32mif\u001b[0m \u001b[0mis_integer\u001b[0m\u001b[1;33m(\u001b[0m\u001b[0mindexer\u001b[0m\u001b[1;33m)\u001b[0m\u001b[1;33m:\u001b[0m\u001b[1;33m\u001b[0m\u001b[1;33m\u001b[0m\u001b[0m\n\u001b[0;32m   3507\u001b[0m                 \u001b[0mindexer\u001b[0m \u001b[1;33m=\u001b[0m \u001b[1;33m[\u001b[0m\u001b[0mindexer\u001b[0m\u001b[1;33m]\u001b[0m\u001b[1;33m\u001b[0m\u001b[1;33m\u001b[0m\u001b[0m\n",
      "\u001b[1;32mf:\\anaconda3\\lib\\site-packages\\pandas\\core\\indexes\\base.py\u001b[0m in \u001b[0;36mget_loc\u001b[1;34m(self, key, method, tolerance)\u001b[0m\n\u001b[0;32m   3629\u001b[0m                 \u001b[1;32mreturn\u001b[0m \u001b[0mself\u001b[0m\u001b[1;33m.\u001b[0m\u001b[0m_engine\u001b[0m\u001b[1;33m.\u001b[0m\u001b[0mget_loc\u001b[0m\u001b[1;33m(\u001b[0m\u001b[0mcasted_key\u001b[0m\u001b[1;33m)\u001b[0m\u001b[1;33m\u001b[0m\u001b[1;33m\u001b[0m\u001b[0m\n\u001b[0;32m   3630\u001b[0m             \u001b[1;32mexcept\u001b[0m \u001b[0mKeyError\u001b[0m \u001b[1;32mas\u001b[0m \u001b[0merr\u001b[0m\u001b[1;33m:\u001b[0m\u001b[1;33m\u001b[0m\u001b[1;33m\u001b[0m\u001b[0m\n\u001b[1;32m-> 3631\u001b[1;33m                 \u001b[1;32mraise\u001b[0m \u001b[0mKeyError\u001b[0m\u001b[1;33m(\u001b[0m\u001b[0mkey\u001b[0m\u001b[1;33m)\u001b[0m \u001b[1;32mfrom\u001b[0m \u001b[0merr\u001b[0m\u001b[1;33m\u001b[0m\u001b[1;33m\u001b[0m\u001b[0m\n\u001b[0m\u001b[0;32m   3632\u001b[0m             \u001b[1;32mexcept\u001b[0m \u001b[0mTypeError\u001b[0m\u001b[1;33m:\u001b[0m\u001b[1;33m\u001b[0m\u001b[1;33m\u001b[0m\u001b[0m\n\u001b[0;32m   3633\u001b[0m                 \u001b[1;31m# If we have a listlike key, _check_indexing_error will raise\u001b[0m\u001b[1;33m\u001b[0m\u001b[1;33m\u001b[0m\u001b[0m\n",
      "\u001b[1;31mKeyError\u001b[0m: 'Currency'"
     ]
    }
   ],
   "source": [
    "for key in df.keys():\n",
    "    print(key)\n",
    "    ss = set(df['Currency'].str.match('^[a-zA-Z]+$')) #- all strings...\n",
    "    # if (len(ss) == 1\n",
    "# set(df['Currency'].str.match('^[a-zA-Z]+$')) - all strings...\n",
    "# df[\"Balance Amount\"].str.match('^[0-9]+$') - only digits...\n",
    "# set(df['Actual Outstanding in SGD'].str.match('^[a-zA-Z]+$'))\n",
    "# set(df['Maturity Date'].str.match('^[a-zA-Z]+$'))\n",
    "# set(df['Account Number'].str.match('^[a-zA-Z]+$'))\n",
    "# set(df['Account Number'].str.match('^[a-zA-Z]+$'))"
   ]
  },
  {
   "cell_type": "code",
   "execution_count": 68,
   "metadata": {},
   "outputs": [
    {
     "data": {
      "text/plain": [
       "0      True\n",
       "1      True\n",
       "2      True\n",
       "3      True\n",
       "4      True\n",
       "       ... \n",
       "963    True\n",
       "964    True\n",
       "965    True\n",
       "966    True\n",
       "967    True\n",
       "Name: Currency, Length: 968, dtype: bool"
      ]
     },
     "execution_count": 68,
     "metadata": {},
     "output_type": "execute_result"
    }
   ],
   "source": [
    "df['Currency'].str.match('^[a-zA-Z]+$')"
   ]
  },
  {
   "cell_type": "code",
   "execution_count": 14,
   "metadata": {},
   "outputs": [
    {
     "data": {
      "text/plain": [
       "array(['USD', 'SGD'], dtype=object)"
      ]
     },
     "execution_count": 14,
     "metadata": {},
     "output_type": "execute_result"
    }
   ],
   "source": [
    "df['Currency'].unique()"
   ]
  },
  {
   "cell_type": "code",
   "execution_count": 80,
   "metadata": {},
   "outputs": [
    {
     "ename": "AttributeError",
     "evalue": "'Series' object has no attribute 'match'",
     "output_type": "error",
     "traceback": [
      "\u001b[1;31m---------------------------------------------------------------------------\u001b[0m",
      "\u001b[1;31mAttributeError\u001b[0m                            Traceback (most recent call last)",
      "\u001b[1;32m~\\AppData\\Local\\Temp\\ipykernel_8952\\131586855.py\u001b[0m in \u001b[0;36m<module>\u001b[1;34m\u001b[0m\n\u001b[0;32m     14\u001b[0m \u001b[1;33m\u001b[0m\u001b[0m\n\u001b[0;32m     15\u001b[0m \u001b[1;31m# Check if the column 'A' contains only digits\u001b[0m\u001b[1;33m\u001b[0m\u001b[1;33m\u001b[0m\u001b[0m\n\u001b[1;32m---> 16\u001b[1;33m \u001b[0mdf\u001b[0m\u001b[1;33m[\u001b[0m\u001b[1;34m'A'\u001b[0m\u001b[1;33m]\u001b[0m\u001b[1;33m.\u001b[0m\u001b[0mastype\u001b[0m\u001b[1;33m(\u001b[0m\u001b[0mstr\u001b[0m\u001b[1;33m)\u001b[0m\u001b[1;33m.\u001b[0m\u001b[0mmatch\u001b[0m\u001b[1;33m(\u001b[0m\u001b[1;34m'^[0-9]+$'\u001b[0m\u001b[1;33m)\u001b[0m\u001b[1;33m\u001b[0m\u001b[1;33m\u001b[0m\u001b[0m\n\u001b[0m\u001b[0;32m     17\u001b[0m \u001b[1;33m\u001b[0m\u001b[0m\n\u001b[0;32m     18\u001b[0m \u001b[1;31m# Check if the column 'B' contains only numbers\u001b[0m\u001b[1;33m\u001b[0m\u001b[1;33m\u001b[0m\u001b[0m\n",
      "\u001b[1;32mf:\\anaconda3\\lib\\site-packages\\pandas\\core\\generic.py\u001b[0m in \u001b[0;36m__getattr__\u001b[1;34m(self, name)\u001b[0m\n\u001b[0;32m   5573\u001b[0m         ):\n\u001b[0;32m   5574\u001b[0m             \u001b[1;32mreturn\u001b[0m \u001b[0mself\u001b[0m\u001b[1;33m[\u001b[0m\u001b[0mname\u001b[0m\u001b[1;33m]\u001b[0m\u001b[1;33m\u001b[0m\u001b[1;33m\u001b[0m\u001b[0m\n\u001b[1;32m-> 5575\u001b[1;33m         \u001b[1;32mreturn\u001b[0m \u001b[0mobject\u001b[0m\u001b[1;33m.\u001b[0m\u001b[0m__getattribute__\u001b[0m\u001b[1;33m(\u001b[0m\u001b[0mself\u001b[0m\u001b[1;33m,\u001b[0m \u001b[0mname\u001b[0m\u001b[1;33m)\u001b[0m\u001b[1;33m\u001b[0m\u001b[1;33m\u001b[0m\u001b[0m\n\u001b[0m\u001b[0;32m   5576\u001b[0m \u001b[1;33m\u001b[0m\u001b[0m\n\u001b[0;32m   5577\u001b[0m     \u001b[1;32mdef\u001b[0m \u001b[0m__setattr__\u001b[0m\u001b[1;33m(\u001b[0m\u001b[0mself\u001b[0m\u001b[1;33m,\u001b[0m \u001b[0mname\u001b[0m\u001b[1;33m:\u001b[0m \u001b[0mstr\u001b[0m\u001b[1;33m,\u001b[0m \u001b[0mvalue\u001b[0m\u001b[1;33m)\u001b[0m \u001b[1;33m->\u001b[0m \u001b[1;32mNone\u001b[0m\u001b[1;33m:\u001b[0m\u001b[1;33m\u001b[0m\u001b[1;33m\u001b[0m\u001b[0m\n",
      "\u001b[1;31mAttributeError\u001b[0m: 'Series' object has no attribute 'match'"
     ]
    }
   ],
   "source": [
    "import pandas as pd\n",
    "\n",
    "# Create a DataFrame\n",
    "df = pd.DataFrame({'A': [1, 2, 3], 'B': [4.5, 6.7, 8.9], 'C': ['a', 'b', 'c']})\n",
    "\n",
    "# Check if the column 'A' is of type int\n",
    "df['A'].map(type) == str\n",
    "\n",
    "# Check if the column 'B' is of type float\n",
    "df['B'].map(type) == float\n",
    "\n",
    "# Check if the column 'C' is of type string\n",
    "df['C'].map(type) == str\n",
    "\n",
    "# Check if the column 'A' contains only digits\n",
    "df['A'].astype(str).match('^[0-9]+$')\n",
    "\n",
    "# Check if the column 'B' contains only numbers\n",
    "df['B'].str.match('^[0-9]+(\\.[0-9]+)?$')\n",
    "\n",
    "# Check if the column 'C' contains only letters\n",
    "df['C'].str.match('^[a-zA-Z]+$')"
   ]
  },
  {
   "cell_type": "code",
   "execution_count": 77,
   "metadata": {},
   "outputs": [
    {
     "data": {
      "text/plain": [
       "0    1\n",
       "1    2\n",
       "2    3\n",
       "Name: A, dtype: object"
      ]
     },
     "execution_count": 77,
     "metadata": {},
     "output_type": "execute_result"
    }
   ],
   "source": [
    "df['A'].apply(str)"
   ]
  },
  {
   "cell_type": "code",
   "execution_count": null,
   "metadata": {},
   "outputs": [],
   "source": []
  }
 ],
 "metadata": {
  "kernelspec": {
   "display_name": "base",
   "language": "python",
   "name": "python3"
  },
  "language_info": {
   "codemirror_mode": {
    "name": "ipython",
    "version": 3
   },
   "file_extension": ".py",
   "mimetype": "text/x-python",
   "name": "python",
   "nbconvert_exporter": "python",
   "pygments_lexer": "ipython3",
   "version": "3.11.7"
  }
 },
 "nbformat": 4,
 "nbformat_minor": 2
}
