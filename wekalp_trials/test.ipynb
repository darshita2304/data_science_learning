{
 "cells": [
  {
   "cell_type": "code",
   "execution_count": 21,
   "metadata": {},
   "outputs": [],
   "source": [
    "# import the python pandas package\n",
    "import pandas as pd\n",
    "\n",
    "# create data_frame1 by creating a dictionary\n",
    "# in which values are stored as list\n",
    "data_frame1 = pd.DataFrame({'Fruits': ['Apple', 'Banana', 'Mango',\n",
    "\t\t\t\t\t\t\t\t\t'Dragon Fruit', 'Apple', 'Banana'],\n",
    "\t\t\t\t\t\t\t'Sales in kg': [20, 30, 15, 10, 50, 40]})\n",
    "\n",
    "# create data_frame2 by creating a dictionary \n",
    "# in which values are stored as list\n",
    "data_frame2 = pd.DataFrame({'Vegetables': ['tomato', 'Onion', 'ladies finger',\n",
    "\t\t\t\t\t\t\t\t\t\t'beans', 'bedroot', 'carrot'],\n",
    "\t\t\t\t\t\t\t'Sales in kg': [200, 310, 115, 110, 55, 45]})\n",
    "\n",
    "# create data_frame3 by creating a dictionary \n",
    "# in which values are stored as list\n",
    "data_frame3 = pd.DataFrame({'Baked Items': ['Cakes', 'biscuits', 'muffins',\n",
    "\t\t\t\t\t\t\t\t\t\t\t'Rusk', 'puffs', 'cupcakes'],\n",
    "\t\t\t\t\t\t\t'Sales in kg': [120, 130, 159, 310, 150, 140]})\n",
    "\n",
    "dict1 = {\"Fruits\": data_frame1, \"vegetables\": data_frame2, \"bakeditems\": data_frame3}\n"
   ]
  },
  {
   "cell_type": "code",
   "execution_count": 22,
   "metadata": {},
   "outputs": [],
   "source": [
    "def write_excel_tabs(dict1):\n",
    "    # create a excel writer object\n",
    "    with pd.ExcelWriter(\"filename.xlsx\") as writer:\n",
    "        for sheet_name, df in dict1.items():\n",
    "                    df.to_excel(writer, sheet_name=sheet_name, index=False)\n"
   ]
  },
  {
   "cell_type": "code",
   "execution_count": 23,
   "metadata": {},
   "outputs": [],
   "source": [
    "write_excel_tabs(dict1)"
   ]
  },
  {
   "cell_type": "code",
   "execution_count": 24,
   "metadata": {},
   "outputs": [],
   "source": [
    "data_frame1 = pd.DataFrame({'col1': ['Apple', 'Banana', 'Mango',\n",
    "\t\t\t\t\t\t\t\t\t'Dragon Fruit', 'Apple', 'Banana'],\n",
    "\t\t\t\t\t\t\t'col2': [20, 30, 15, 10, 50, 10],\n",
    "                            'col3': ['Cakes', 'biscuits', 'muffins',\n",
    "\t\t\t\t\t\t\t\t\t\t\t'Rusk', 'Cakes', 'cupcakes']\n",
    "           })"
   ]
  },
  {
   "cell_type": "code",
   "execution_count": 25,
   "metadata": {},
   "outputs": [
    {
     "data": {
      "text/html": [
       "<div>\n",
       "<style scoped>\n",
       "    .dataframe tbody tr th:only-of-type {\n",
       "        vertical-align: middle;\n",
       "    }\n",
       "\n",
       "    .dataframe tbody tr th {\n",
       "        vertical-align: top;\n",
       "    }\n",
       "\n",
       "    .dataframe thead th {\n",
       "        text-align: right;\n",
       "    }\n",
       "</style>\n",
       "<table border=\"1\" class=\"dataframe\">\n",
       "  <thead>\n",
       "    <tr style=\"text-align: right;\">\n",
       "      <th></th>\n",
       "      <th>col1</th>\n",
       "      <th>col2</th>\n",
       "      <th>col3</th>\n",
       "    </tr>\n",
       "  </thead>\n",
       "  <tbody>\n",
       "    <tr>\n",
       "      <th>0</th>\n",
       "      <td>Apple</td>\n",
       "      <td>20</td>\n",
       "      <td>Cakes</td>\n",
       "    </tr>\n",
       "    <tr>\n",
       "      <th>1</th>\n",
       "      <td>Banana</td>\n",
       "      <td>30</td>\n",
       "      <td>biscuits</td>\n",
       "    </tr>\n",
       "    <tr>\n",
       "      <th>2</th>\n",
       "      <td>Mango</td>\n",
       "      <td>15</td>\n",
       "      <td>muffins</td>\n",
       "    </tr>\n",
       "    <tr>\n",
       "      <th>3</th>\n",
       "      <td>Dragon Fruit</td>\n",
       "      <td>10</td>\n",
       "      <td>Rusk</td>\n",
       "    </tr>\n",
       "    <tr>\n",
       "      <th>4</th>\n",
       "      <td>Apple</td>\n",
       "      <td>50</td>\n",
       "      <td>Cakes</td>\n",
       "    </tr>\n",
       "    <tr>\n",
       "      <th>5</th>\n",
       "      <td>Banana</td>\n",
       "      <td>10</td>\n",
       "      <td>cupcakes</td>\n",
       "    </tr>\n",
       "  </tbody>\n",
       "</table>\n",
       "</div>"
      ],
      "text/plain": [
       "           col1  col2      col3\n",
       "0         Apple    20     Cakes\n",
       "1        Banana    30  biscuits\n",
       "2         Mango    15   muffins\n",
       "3  Dragon Fruit    10      Rusk\n",
       "4         Apple    50     Cakes\n",
       "5        Banana    10  cupcakes"
      ]
     },
     "execution_count": 25,
     "metadata": {},
     "output_type": "execute_result"
    }
   ],
   "source": [
    "data_frame1"
   ]
  },
  {
   "cell_type": "code",
   "execution_count": 26,
   "metadata": {},
   "outputs": [],
   "source": [
    "data_frame1[\"repeated\"] = \"\""
   ]
  },
  {
   "cell_type": "code",
   "execution_count": 27,
   "metadata": {},
   "outputs": [
    {
     "name": "stdout",
     "output_type": "stream",
     "text": [
      "Index([0, 1, 4, 5], dtype='int64')\n",
      "Index([3, 5], dtype='int64')\n",
      "Index([0, 4], dtype='int64')\n"
     ]
    },
    {
     "name": "stderr",
     "output_type": "stream",
     "text": [
      "C:\\Users\\Darshi\\AppData\\Local\\Temp\\ipykernel_13276\\1746687174.py:7: SettingWithCopyWarning: \n",
      "A value is trying to be set on a copy of a slice from a DataFrame\n",
      "\n",
      "See the caveats in the documentation: https://pandas.pydata.org/pandas-docs/stable/user_guide/indexing.html#returning-a-view-versus-a-copy\n",
      "  data_frame1[\"repeated\"][i] = data_frame1[\"repeated\"][i] + f\" {col}:\" + str(data_frame1[col][i])\n",
      "C:\\Users\\Darshi\\AppData\\Local\\Temp\\ipykernel_13276\\1746687174.py:7: SettingWithCopyWarning: \n",
      "A value is trying to be set on a copy of a slice from a DataFrame\n",
      "\n",
      "See the caveats in the documentation: https://pandas.pydata.org/pandas-docs/stable/user_guide/indexing.html#returning-a-view-versus-a-copy\n",
      "  data_frame1[\"repeated\"][i] = data_frame1[\"repeated\"][i] + f\" {col}:\" + str(data_frame1[col][i])\n",
      "C:\\Users\\Darshi\\AppData\\Local\\Temp\\ipykernel_13276\\1746687174.py:7: SettingWithCopyWarning: \n",
      "A value is trying to be set on a copy of a slice from a DataFrame\n",
      "\n",
      "See the caveats in the documentation: https://pandas.pydata.org/pandas-docs/stable/user_guide/indexing.html#returning-a-view-versus-a-copy\n",
      "  data_frame1[\"repeated\"][i] = data_frame1[\"repeated\"][i] + f\" {col}:\" + str(data_frame1[col][i])\n",
      "C:\\Users\\Darshi\\AppData\\Local\\Temp\\ipykernel_13276\\1746687174.py:7: SettingWithCopyWarning: \n",
      "A value is trying to be set on a copy of a slice from a DataFrame\n",
      "\n",
      "See the caveats in the documentation: https://pandas.pydata.org/pandas-docs/stable/user_guide/indexing.html#returning-a-view-versus-a-copy\n",
      "  data_frame1[\"repeated\"][i] = data_frame1[\"repeated\"][i] + f\" {col}:\" + str(data_frame1[col][i])\n",
      "C:\\Users\\Darshi\\AppData\\Local\\Temp\\ipykernel_13276\\1746687174.py:7: SettingWithCopyWarning: \n",
      "A value is trying to be set on a copy of a slice from a DataFrame\n",
      "\n",
      "See the caveats in the documentation: https://pandas.pydata.org/pandas-docs/stable/user_guide/indexing.html#returning-a-view-versus-a-copy\n",
      "  data_frame1[\"repeated\"][i] = data_frame1[\"repeated\"][i] + f\" {col}:\" + str(data_frame1[col][i])\n",
      "C:\\Users\\Darshi\\AppData\\Local\\Temp\\ipykernel_13276\\1746687174.py:7: SettingWithCopyWarning: \n",
      "A value is trying to be set on a copy of a slice from a DataFrame\n",
      "\n",
      "See the caveats in the documentation: https://pandas.pydata.org/pandas-docs/stable/user_guide/indexing.html#returning-a-view-versus-a-copy\n",
      "  data_frame1[\"repeated\"][i] = data_frame1[\"repeated\"][i] + f\" {col}:\" + str(data_frame1[col][i])\n",
      "C:\\Users\\Darshi\\AppData\\Local\\Temp\\ipykernel_13276\\1746687174.py:7: SettingWithCopyWarning: \n",
      "A value is trying to be set on a copy of a slice from a DataFrame\n",
      "\n",
      "See the caveats in the documentation: https://pandas.pydata.org/pandas-docs/stable/user_guide/indexing.html#returning-a-view-versus-a-copy\n",
      "  data_frame1[\"repeated\"][i] = data_frame1[\"repeated\"][i] + f\" {col}:\" + str(data_frame1[col][i])\n",
      "C:\\Users\\Darshi\\AppData\\Local\\Temp\\ipykernel_13276\\1746687174.py:7: SettingWithCopyWarning: \n",
      "A value is trying to be set on a copy of a slice from a DataFrame\n",
      "\n",
      "See the caveats in the documentation: https://pandas.pydata.org/pandas-docs/stable/user_guide/indexing.html#returning-a-view-versus-a-copy\n",
      "  data_frame1[\"repeated\"][i] = data_frame1[\"repeated\"][i] + f\" {col}:\" + str(data_frame1[col][i])\n"
     ]
    }
   ],
   "source": [
    "for col in data_frame1.columns:\n",
    "    if col != \"repeated\":\n",
    "        index_list =  data_frame1[data_frame1.duplicated(subset=[col], keep=False)].index\n",
    "        print(index_list)\n",
    "        for i in index_list:\n",
    "            # print(i)\n",
    "            data_frame1[\"repeated\"][i] = data_frame1[\"repeated\"][i] + f\" {col}:\" + str(data_frame1[col][i])"
   ]
  },
  {
   "cell_type": "code",
   "execution_count": 28,
   "metadata": {},
   "outputs": [
    {
     "name": "stdout",
     "output_type": "stream",
     "text": [
      "0     col1:Apple col3:Cakes\n",
      "1               col1:Banana\n",
      "2                          \n",
      "3                   col2:10\n",
      "4     col1:Apple col3:Cakes\n",
      "5       col1:Banana col2:10\n",
      "Name: repeated, dtype: object\n"
     ]
    }
   ],
   "source": [
    "print(data_frame1[\"repeated\"])"
   ]
  },
  {
   "cell_type": "code",
   "execution_count": 29,
   "metadata": {},
   "outputs": [
    {
     "ename": "KeyError",
     "evalue": "Index(['Fruits'], dtype='object')",
     "output_type": "error",
     "traceback": [
      "\u001b[1;31m---------------------------------------------------------------------------\u001b[0m",
      "\u001b[1;31mKeyError\u001b[0m                                  Traceback (most recent call last)",
      "\u001b[1;32m~\\AppData\\Local\\Temp\\ipykernel_13276\\2514423564.py\u001b[0m in \u001b[0;36m?\u001b[1;34m()\u001b[0m\n\u001b[1;32m----> 1\u001b[1;33m \u001b[0mindex_list\u001b[0m \u001b[1;33m=\u001b[0m \u001b[0mdata_frame1\u001b[0m\u001b[1;33m[\u001b[0m\u001b[0mdata_frame1\u001b[0m\u001b[1;33m.\u001b[0m\u001b[0mduplicated\u001b[0m\u001b[1;33m(\u001b[0m\u001b[0msubset\u001b[0m\u001b[1;33m=\u001b[0m\u001b[1;33m[\u001b[0m\u001b[1;34m\"Fruits\"\u001b[0m\u001b[1;33m]\u001b[0m\u001b[1;33m,\u001b[0m \u001b[0mkeep\u001b[0m\u001b[1;33m=\u001b[0m\u001b[1;32mFalse\u001b[0m\u001b[1;33m)\u001b[0m\u001b[1;33m]\u001b[0m\u001b[1;33m\u001b[0m\u001b[1;33m\u001b[0m\u001b[0m\n\u001b[0m",
      "\u001b[1;32mf:\\anaconda3\\Lib\\site-packages\\pandas\\core\\frame.py\u001b[0m in \u001b[0;36m?\u001b[1;34m(self, subset, keep)\u001b[0m\n\u001b[0;32m   6694\u001b[0m         \u001b[1;31m# Otherwise, raise a KeyError, same as if you try to __getitem__ with a\u001b[0m\u001b[1;33m\u001b[0m\u001b[1;33m\u001b[0m\u001b[0m\n\u001b[0;32m   6695\u001b[0m         \u001b[1;31m# key that doesn't exist.\u001b[0m\u001b[1;33m\u001b[0m\u001b[1;33m\u001b[0m\u001b[0m\n\u001b[0;32m   6696\u001b[0m         \u001b[0mdiff\u001b[0m \u001b[1;33m=\u001b[0m \u001b[0mset\u001b[0m\u001b[1;33m(\u001b[0m\u001b[0msubset\u001b[0m\u001b[1;33m)\u001b[0m \u001b[1;33m-\u001b[0m \u001b[0mset\u001b[0m\u001b[1;33m(\u001b[0m\u001b[0mself\u001b[0m\u001b[1;33m.\u001b[0m\u001b[0mcolumns\u001b[0m\u001b[1;33m)\u001b[0m\u001b[1;33m\u001b[0m\u001b[1;33m\u001b[0m\u001b[0m\n\u001b[0;32m   6697\u001b[0m         \u001b[1;32mif\u001b[0m \u001b[0mdiff\u001b[0m\u001b[1;33m:\u001b[0m\u001b[1;33m\u001b[0m\u001b[1;33m\u001b[0m\u001b[0m\n\u001b[1;32m-> 6698\u001b[1;33m             \u001b[1;32mraise\u001b[0m \u001b[0mKeyError\u001b[0m\u001b[1;33m(\u001b[0m\u001b[0mIndex\u001b[0m\u001b[1;33m(\u001b[0m\u001b[0mdiff\u001b[0m\u001b[1;33m)\u001b[0m\u001b[1;33m)\u001b[0m\u001b[1;33m\u001b[0m\u001b[1;33m\u001b[0m\u001b[0m\n\u001b[0m\u001b[0;32m   6699\u001b[0m \u001b[1;33m\u001b[0m\u001b[0m\n\u001b[0;32m   6700\u001b[0m         \u001b[1;32mif\u001b[0m \u001b[0mlen\u001b[0m\u001b[1;33m(\u001b[0m\u001b[0msubset\u001b[0m\u001b[1;33m)\u001b[0m \u001b[1;33m==\u001b[0m \u001b[1;36m1\u001b[0m \u001b[1;32mand\u001b[0m \u001b[0mself\u001b[0m\u001b[1;33m.\u001b[0m\u001b[0mcolumns\u001b[0m\u001b[1;33m.\u001b[0m\u001b[0mis_unique\u001b[0m\u001b[1;33m:\u001b[0m\u001b[1;33m\u001b[0m\u001b[1;33m\u001b[0m\u001b[0m\n\u001b[0;32m   6701\u001b[0m             \u001b[1;31m# GH#45236 This is faster than get_group_index below\u001b[0m\u001b[1;33m\u001b[0m\u001b[1;33m\u001b[0m\u001b[0m\n",
      "\u001b[1;31mKeyError\u001b[0m: Index(['Fruits'], dtype='object')"
     ]
    }
   ],
   "source": [
    "index_list = data_frame1[data_frame1.duplicated(subset=[\"Fruits\"], keep=False)]"
   ]
  },
  {
   "cell_type": "code",
   "execution_count": null,
   "metadata": {},
   "outputs": [],
   "source": [
    "pd.set_option('display.max_colwidth', 100)"
   ]
  },
  {
   "cell_type": "code",
   "execution_count": null,
   "metadata": {},
   "outputs": [],
   "source": [
    "for col in data_frame1.columns:\n",
    "    if \"repeated\" in col:\n",
    "        data_frame1[\"repeated\"] = data_frame1[\"repeated\"] + f\"{col}:\"+data_frame1[col].fillna('').astype(str)"
   ]
  },
  {
   "cell_type": "code",
   "execution_count": null,
   "metadata": {},
   "outputs": [
    {
     "data": {
      "text/html": [
       "<div>\n",
       "<style scoped>\n",
       "    .dataframe tbody tr th:only-of-type {\n",
       "        vertical-align: middle;\n",
       "    }\n",
       "\n",
       "    .dataframe tbody tr th {\n",
       "        vertical-align: top;\n",
       "    }\n",
       "\n",
       "    .dataframe thead th {\n",
       "        text-align: right;\n",
       "    }\n",
       "</style>\n",
       "<table border=\"1\" class=\"dataframe\">\n",
       "  <thead>\n",
       "    <tr style=\"text-align: right;\">\n",
       "      <th></th>\n",
       "      <th>Fruits</th>\n",
       "      <th>Sales in kg</th>\n",
       "      <th>Baked Items</th>\n",
       "      <th>repeated</th>\n",
       "    </tr>\n",
       "  </thead>\n",
       "  <tbody>\n",
       "    <tr>\n",
       "      <th>0</th>\n",
       "      <td>Apple</td>\n",
       "      <td>20</td>\n",
       "      <td>Cakes</td>\n",
       "      <td>Fruits:Apple Baked Items:Cakes repeated: Frui...</td>\n",
       "    </tr>\n",
       "    <tr>\n",
       "      <th>1</th>\n",
       "      <td>Banana</td>\n",
       "      <td>30</td>\n",
       "      <td>biscuits</td>\n",
       "      <td>Fruits:Bananarepeated: Fruits:Banana</td>\n",
       "    </tr>\n",
       "    <tr>\n",
       "      <th>2</th>\n",
       "      <td>Mango</td>\n",
       "      <td>15</td>\n",
       "      <td>muffins</td>\n",
       "      <td>repeated:</td>\n",
       "    </tr>\n",
       "    <tr>\n",
       "      <th>3</th>\n",
       "      <td>Dragon Fruit</td>\n",
       "      <td>10</td>\n",
       "      <td>Rusk</td>\n",
       "      <td>Sales in kg:10repeated: Sales in kg:10</td>\n",
       "    </tr>\n",
       "    <tr>\n",
       "      <th>4</th>\n",
       "      <td>Apple</td>\n",
       "      <td>50</td>\n",
       "      <td>Cakes</td>\n",
       "      <td>Fruits:Apple Baked Items:Cakes repeated: Frui...</td>\n",
       "    </tr>\n",
       "    <tr>\n",
       "      <th>5</th>\n",
       "      <td>Banana</td>\n",
       "      <td>10</td>\n",
       "      <td>cupcakes</td>\n",
       "      <td>Fruits:Banana Sales in kg:10repeated: Fruits:...</td>\n",
       "    </tr>\n",
       "  </tbody>\n",
       "</table>\n",
       "</div>"
      ],
      "text/plain": [
       "         Fruits  Sales in kg Baked Items  \\\n",
       "0         Apple           20       Cakes   \n",
       "1        Banana           30    biscuits   \n",
       "2         Mango           15     muffins   \n",
       "3  Dragon Fruit           10        Rusk   \n",
       "4         Apple           50       Cakes   \n",
       "5        Banana           10    cupcakes   \n",
       "\n",
       "                                            repeated  \n",
       "0   Fruits:Apple Baked Items:Cakes repeated: Frui...  \n",
       "1               Fruits:Bananarepeated: Fruits:Banana  \n",
       "2                                          repeated:  \n",
       "3             Sales in kg:10repeated: Sales in kg:10  \n",
       "4   Fruits:Apple Baked Items:Cakes repeated: Frui...  \n",
       "5   Fruits:Banana Sales in kg:10repeated: Fruits:...  "
      ]
     },
     "execution_count": 163,
     "metadata": {},
     "output_type": "execute_result"
    }
   ],
   "source": [
    "data_frame1"
   ]
  },
  {
   "cell_type": "code",
   "execution_count": null,
   "metadata": {},
   "outputs": [],
   "source": [
    "  source_df[\"repeated\"] = \"\"\n",
    "    pk_dict = dict()\n",
    "    \n",
    "    for col in data_frame1.columns:\n",
    "        if col != \"repeated\":\n",
    "            index_list =  data_frame1[data_frame1.duplicated(subset=[col], keep=False)].index\n",
    "            print(index_list)\n",
    "            for i in index_list:\n",
    "                # print(i)\n",
    "                data_frame1[\"repeated\"][i] = data_frame1[\"repeated\"][i] + f\" {col}:\" + str(data_frame1[col][i])\n",
    "            \n"
   ]
  },
  {
   "cell_type": "code",
   "execution_count": null,
   "metadata": {},
   "outputs": [],
   "source": [
    "def check_columns_diff(source_columns, report_columns): # report_columns is b_w_columns object list\n",
    "    \n",
    "    source_columns = set(sorted(source_columns))\n",
    "    report_columns = set(sorted(report_columns))\n",
    "    \n",
    "    missing_columns_source = list(source_columns - report_columns)\n",
    "    # missing_column_report = list(report_columns - source_columns)\n",
    "    \n",
    "    print(f\"Columns missing in source data are {missing_columns_source}\")\n",
    "    # print(f\"Columns missing in report data are {missing_column_report}\")\n",
    "    \n",
    "    return missing_columns_source\n"
   ]
  },
  {
   "cell_type": "code",
   "execution_count": null,
   "metadata": {},
   "outputs": [
    {
     "name": "stdout",
     "output_type": "stream",
     "text": [
      "Original DataFrame:\n",
      "   A  B   C\n",
      "0  1  5   9\n",
      "1  2  6  10\n",
      "2  1  5   9\n",
      "3  4  8  12\n",
      "4  2  6  13\n",
      "\n",
      "Duplicated rows based on columns 'A' and 'B':\n",
      "Index([0, 1, 2, 4], dtype='int64')\n"
     ]
    }
   ],
   "source": [
    "import pandas as pd\n",
    "\n",
    "# Sample DataFrame\n",
    "data = {\n",
    "    'A': [1, 2, 1, 4, 2],\n",
    "    'B': [5, 6, 5, 8, 6],\n",
    "    'C': [9, 10, 9, 12, 13]\n",
    "}\n",
    "\n",
    "df = pd.DataFrame(data)\n",
    "\n",
    "# Display the DataFrame\n",
    "print(\"Original DataFrame:\")\n",
    "print(df)\n",
    "\n",
    "# Identify duplicated rows based on columns 'A' and 'B'\n",
    "duplicated_rows = df[df.duplicated(subset=['A', 'B'], keep=False)].index\n",
    "\n",
    "# Display the duplicated rows\n",
    "print(\"\\nDuplicated rows based on columns 'A' and 'B':\")\n",
    "print(duplicated_rows)\n"
   ]
  },
  {
   "cell_type": "code",
   "execution_count": null,
   "metadata": {},
   "outputs": [
    {
     "name": "stdout",
     "output_type": "stream",
     "text": [
      "Original DataFrame:\n",
      "     A    B     C\n",
      "0  1.0  5.0   9.0\n",
      "1  2.0  NaN  10.0\n",
      "2  NaN  NaN  11.0\n",
      "3  4.0  8.0   NaN\n",
      "4  NaN  NaN  13.0\n",
      "\n",
      "Rows where columns 'A' and 'B' both have null values:\n",
      "Index([2, 4], dtype='int64')\n"
     ]
    },
    {
     "data": {
      "text/html": [
       "<div>\n",
       "<style scoped>\n",
       "    .dataframe tbody tr th:only-of-type {\n",
       "        vertical-align: middle;\n",
       "    }\n",
       "\n",
       "    .dataframe tbody tr th {\n",
       "        vertical-align: top;\n",
       "    }\n",
       "\n",
       "    .dataframe thead th {\n",
       "        text-align: right;\n",
       "    }\n",
       "</style>\n",
       "<table border=\"1\" class=\"dataframe\">\n",
       "  <thead>\n",
       "    <tr style=\"text-align: right;\">\n",
       "      <th></th>\n",
       "      <th>A</th>\n",
       "      <th>B</th>\n",
       "      <th>C</th>\n",
       "    </tr>\n",
       "  </thead>\n",
       "  <tbody>\n",
       "    <tr>\n",
       "      <th>0</th>\n",
       "      <td>1.0</td>\n",
       "      <td>5.0</td>\n",
       "      <td>9.0</td>\n",
       "    </tr>\n",
       "    <tr>\n",
       "      <th>1</th>\n",
       "      <td>2.0</td>\n",
       "      <td>NaN</td>\n",
       "      <td>10.0</td>\n",
       "    </tr>\n",
       "    <tr>\n",
       "      <th>3</th>\n",
       "      <td>4.0</td>\n",
       "      <td>8.0</td>\n",
       "      <td>NaN</td>\n",
       "    </tr>\n",
       "  </tbody>\n",
       "</table>\n",
       "</div>"
      ],
      "text/plain": [
       "     A    B     C\n",
       "0  1.0  5.0   9.0\n",
       "1  2.0  NaN  10.0\n",
       "3  4.0  8.0   NaN"
      ]
     },
     "execution_count": 36,
     "metadata": {},
     "output_type": "execute_result"
    }
   ],
   "source": [
    "import pandas as pd\n",
    "import numpy as np\n",
    "\n",
    "# Sample DataFrame\n",
    "data = {\n",
    "    'A': [1, 2, np.nan, 4, np.nan],\n",
    "    'B': [5, np.nan, np.nan, 8, np.nan],\n",
    "    'C': [9, 10, 11, np.nan, 13]\n",
    "}\n",
    "\n",
    "df = pd.DataFrame(data)\n",
    "\n",
    "# Display the DataFrame\n",
    "print(\"Original DataFrame:\")\n",
    "print(df)\n",
    "\n",
    "# Identify rows where columns 'A' and 'B' both have null values\n",
    "null_combination_rows = df[df[['A', 'B']].isna().all(axis=1)].index\n",
    "\n",
    "# Display the rows where both 'A' and 'B' are null\n",
    "print(\"\\nRows where columns 'A' and 'B' both have null values:\")\n",
    "print(null_combination_rows)\n",
    "\n",
    "null_list = df[df[['A', 'B']].isna().all(axis=1)].index\n",
    "\n",
    "df.iloc[df.index.difference(null_list)]\n",
    "\n",
    "\n",
    "\n",
    "\n",
    "\n"
   ]
  },
  {
   "cell_type": "code",
   "execution_count": null,
   "metadata": {},
   "outputs": [
    {
     "data": {
      "text/plain": [
       "{'A': [1, 2, nan, 4, nan],\n",
       " 'B': [5, nan, nan, 8, nan],\n",
       " 'C': [9, 10, 11, nan, 13]}"
      ]
     },
     "execution_count": 37,
     "metadata": {},
     "output_type": "execute_result"
    }
   ],
   "source": [
    "data"
   ]
  },
  {
   "cell_type": "code",
   "execution_count": null,
   "metadata": {},
   "outputs": [
    {
     "data": {
      "text/plain": [
       "5.0"
      ]
     },
     "execution_count": 66,
     "metadata": {},
     "output_type": "execute_result"
    }
   ],
   "source": [
    "float(\"5.0\")"
   ]
  },
  {
   "cell_type": "code",
   "execution_count": null,
   "metadata": {},
   "outputs": [
    {
     "data": {
      "text/plain": [
       "0"
      ]
     },
     "execution_count": 71,
     "metadata": {},
     "output_type": "execute_result"
    }
   ],
   "source": [
    "int(0.000005)"
   ]
  },
  {
   "cell_type": "code",
   "execution_count": null,
   "metadata": {},
   "outputs": [
    {
     "data": {
      "text/plain": [
       "False"
      ]
     },
     "execution_count": 62,
     "metadata": {},
     "output_type": "execute_result"
    }
   ],
   "source": [
    "isinstance(0.000005, int)"
   ]
  },
  {
   "cell_type": "code",
   "execution_count": null,
   "metadata": {},
   "outputs": [
    {
     "data": {
      "text/plain": [
       "True"
      ]
     },
     "execution_count": 61,
     "metadata": {},
     "output_type": "execute_result"
    }
   ],
   "source": [
    "isinstance(0.000005, float)"
   ]
  },
  {
   "cell_type": "code",
   "execution_count": null,
   "metadata": {},
   "outputs": [],
   "source": [
    "def datatype(v):\n",
    "    try:\n",
    "        float_v = float(v) # generating error for string\n",
    "        # print(str(v))\n",
    "        if \".\" in str(v):\n",
    "            v = str(v).lstrip(\"-\")\n",
    "            after_decimal = len(v.split(\".\")[1])\n",
    "            before_decimal = len(v.split(\".\")[0])\n",
    "            decimal_format = f\"decimal({str(before_decimal + after_decimal)},{str(after_decimal)})\"\n",
    "            return \"decimal\", decimal_format\n",
    "        if 'e-' in str(v):\n",
    "            return \"deci\",\"\"\n",
    "        if (str(float_v) != str(v)): # 3.0 != 3\n",
    "            print(int(v))\n",
    "            if int(v) == 0:\n",
    "                return \"integer\",\"zero\"\n",
    "            elif int(v) < 0:\n",
    "                return \"integer\",\"negative\"\n",
    "            else:\n",
    "                return \"integer\",\"\"\n",
    "        decimal_format = \"\"\n",
    "    except ValueError:\n",
    "        return \"string\",\"\""
   ]
  },
  {
   "cell_type": "code",
   "execution_count": null,
   "metadata": {},
   "outputs": [
    {
     "name": "stdout",
     "output_type": "stream",
     "text": [
      "('deci', '')\n"
     ]
    }
   ],
   "source": [
    "print(datatype(0.00007))"
   ]
  },
  {
   "cell_type": "code",
   "execution_count": null,
   "metadata": {},
   "outputs": [
    {
     "data": {
      "text/plain": [
       "'7e-05'"
      ]
     },
     "execution_count": 89,
     "metadata": {},
     "output_type": "execute_result"
    }
   ],
   "source": [
    "str(0.00007)"
   ]
  },
  {
   "cell_type": "code",
   "execution_count": null,
   "metadata": {},
   "outputs": [
    {
     "name": "stdout",
     "output_type": "stream",
     "text": [
      "negative\n",
      "zero...\n"
     ]
    }
   ],
   "source": [
    "v = -0.007\n",
    "if v < 0:\n",
    "    print(\"negative\")\n",
    "else:\n",
    "    print(\"positive\")\n",
    "\n",
    "vv = 0.0000\n",
    "if vv == 0:\n",
    "    print(\"zero...\")"
   ]
  },
  {
   "cell_type": "code",
   "execution_count": 31,
   "metadata": {},
   "outputs": [
    {
     "name": "stdout",
     "output_type": "stream",
     "text": [
      "DataFrame after conversion and dropping NaT values:\n",
      "        date  value\n",
      "0 2023-01-01     10\n",
      "1 2023-02-15     20\n",
      "3 2023-04-05     40\n",
      "\n",
      "Minimum date: 2023-01-01 00:00:00\n",
      "Index of minimum date: 0\n",
      "Index of maximum date: 3\n",
      "Value of another column at max date: 40\n"
     ]
    }
   ],
   "source": [
    "import pandas as pd\n",
    "\n",
    "# Sample DataFrame with date values, including some non-convertible values\n",
    "data = {\n",
    "    'date': ['2023-01-01', '2023-02-15', 'invalid_date', '2023-04-05', 'another_invalid_date'],\n",
    "    'value': [10, 20, 30, 40, 50]\n",
    "}\n",
    "\n",
    "# Create the DataFrame\n",
    "df = pd.DataFrame(data)\n",
    "\n",
    "# Convert the 'date' column to datetime format, ignoring non-convertible values\n",
    "df['date'] = pd.to_datetime(df['date'], errors='coerce')\n",
    "\n",
    "# Drop rows with NaT values in the 'date' column\n",
    "df_clean = df.dropna(subset=['date'])\n",
    "\n",
    "# Display the DataFrame after conversion and dropping NaT values\n",
    "print(\"DataFrame after conversion and dropping NaT values:\")\n",
    "print(df_clean)\n",
    "\n",
    "# Identify the minimum date and its index\n",
    "min_date = df_clean['date'].min()\n",
    "min_date_index = df_clean['date'].idxmin()\n",
    "\n",
    "# Identify the maximum date and its index\n",
    "# max_date = df_clean['date'].max()\n",
    "max_date_index = df_clean['date'].idxmax()\n",
    "\n",
    "max_date_value = df_clean.loc[max_date_index, 'value'] \n",
    "\n",
    "# Display the results\n",
    "print(\"\\nMinimum date:\", min_date)\n",
    "print(\"Index of minimum date:\", min_date_index)\n",
    "# print(\"\\nMaximum date:\", max_date)\n",
    "print(\"Index of maximum date:\", max_date_index)\n",
    "\n",
    "print(\"Value of another column at max date:\", max_date_value)\n"
   ]
  },
  {
   "cell_type": "code",
   "execution_count": 35,
   "metadata": {},
   "outputs": [
    {
     "data": {
      "text/plain": [
       "2"
      ]
     },
     "execution_count": 35,
     "metadata": {},
     "output_type": "execute_result"
    }
   ],
   "source": [
    "len(data)"
   ]
  },
  {
   "cell_type": "code",
   "execution_count": 42,
   "metadata": {},
   "outputs": [
    {
     "name": "stdout",
     "output_type": "stream",
     "text": [
      "<csv.DictReader object at 0x0000021C18517450>\n",
      "{}\n"
     ]
    }
   ],
   "source": [
    "\n",
    "import csv\n",
    "import json\n",
    "data = {}\n",
    "with open(\"Wekalp System Quality.csv\", encoding='utf-8') as csvf:\n",
    "        csvReader = csv.DictReader(csvf)\n",
    "         \n",
    "        # Convert each row into a dictionary \n",
    "        # and add it to data\n",
    "        print(csvReader)\n",
    "        for i, _ in enumerate(myreader, start=1):\n",
    "            print(\"Row %d/%d\" % (i, totalrows))\n",
    "        \n",
    "print(data)"
   ]
  },
  {
   "cell_type": "code",
   "execution_count": 44,
   "metadata": {},
   "outputs": [],
   "source": [
    "data = {\n",
    "  \"calories\": [420, 380, 390],\n",
    "  \"duration\": [50, 40, 45]\n",
    "}"
   ]
  },
  {
   "cell_type": "code",
   "execution_count": 50,
   "metadata": {},
   "outputs": [],
   "source": [
    "dd = [{obj} for obj in data]"
   ]
  },
  {
   "cell_type": "code",
   "execution_count": 58,
   "metadata": {},
   "outputs": [
    {
     "data": {
      "text/plain": [
       "({1: 'hello'}, {2: 'this'})"
      ]
     },
     "execution_count": 58,
     "metadata": {},
     "output_type": "execute_result"
    }
   ],
   "source": [
    "dd"
   ]
  },
  {
   "cell_type": "code",
   "execution_count": 64,
   "metadata": {},
   "outputs": [
    {
     "name": "stdout",
     "output_type": "stream",
     "text": [
      "{1: 'a', 2: 'b', 3: 'c'}\n"
     ]
    }
   ],
   "source": [
    "import pandas as pd\n",
    "\n",
    "# Sample DataFrame\n",
    "data = {'key': [1, 2, 3], 'value': ['a', 'b', 'c']}\n",
    "df = pd.DataFrame(data)\n",
    "\n",
    "# Create dictionary using list comprehension\n",
    "key_value_dict = {row['key']: row['value'] for _, row in df.iterrows()}\n",
    "\n",
    "print(key_value_dict)"
   ]
  },
  {
   "cell_type": "code",
   "execution_count": 67,
   "metadata": {},
   "outputs": [
    {
     "name": "stdout",
     "output_type": "stream",
     "text": [
      "1 a\n",
      "2 b\n",
      "3 c\n"
     ]
    }
   ],
   "source": [
    "for key, value in key_value_dict.items():\n",
    "    print(key, value)"
   ]
  },
  {
   "cell_type": "code",
   "execution_count": 74,
   "metadata": {},
   "outputs": [
    {
     "name": "stdout",
     "output_type": "stream",
     "text": [
      "Empty DataFrame\n",
      "Columns: [Name, Articles, Improved]\n",
      "Index: []\n"
     ]
    },
    {
     "data": {
      "text/html": [
       "<div>\n",
       "<style scoped>\n",
       "    .dataframe tbody tr th:only-of-type {\n",
       "        vertical-align: middle;\n",
       "    }\n",
       "\n",
       "    .dataframe tbody tr th {\n",
       "        vertical-align: top;\n",
       "    }\n",
       "\n",
       "    .dataframe thead th {\n",
       "        text-align: right;\n",
       "    }\n",
       "</style>\n",
       "<table border=\"1\" class=\"dataframe\">\n",
       "  <thead>\n",
       "    <tr style=\"text-align: right;\">\n",
       "      <th></th>\n",
       "      <th>Name</th>\n",
       "      <th>Articles</th>\n",
       "      <th>Improved</th>\n",
       "    </tr>\n",
       "  </thead>\n",
       "  <tbody>\n",
       "    <tr>\n",
       "      <th>0</th>\n",
       "      <td>Ankit</td>\n",
       "      <td>01-01-2020</td>\n",
       "      <td>2200</td>\n",
       "    </tr>\n",
       "  </tbody>\n",
       "</table>\n",
       "</div>"
      ],
      "text/plain": [
       "    Name    Articles Improved\n",
       "0  Ankit  01-01-2020     2200"
      ]
     },
     "execution_count": 74,
     "metadata": {},
     "output_type": "execute_result"
    }
   ],
   "source": [
    "\n",
    "# import pandas library as pd\n",
    "import pandas as pd\n",
    " \n",
    "# create an Empty DataFrame\n",
    "# object With column names only\n",
    "df = pd.DataFrame(columns = ['Name', 'Articles', 'Improved'])\n",
    "print(df)\n",
    " \n",
    "# append rows to an empty DataFrame\n",
    "df = df._append({'Name' : 'Ankit', 'Articles' : '01-01-2020', 'Improved' : 2200},\n",
    "        ignore_index = True)\n",
    "\n",
    " \n",
    "df"
   ]
  },
  {
   "cell_type": "code",
   "execution_count": 79,
   "metadata": {},
   "outputs": [],
   "source": [
    "df = df._append({'Name' : 'Ankit1', 'Articles' : '01-02-2020', 'Improved' : 1200},\n",
    "        ignore_index = True)\n",
    "df = df._append({'Name' : 'Ankit2', 'Articles' : '01-02-2020', 'Improved' : 3200},\n",
    "        ignore_index = True)"
   ]
  },
  {
   "cell_type": "code",
   "execution_count": 80,
   "metadata": {},
   "outputs": [
    {
     "data": {
      "text/html": [
       "<div>\n",
       "<style scoped>\n",
       "    .dataframe tbody tr th:only-of-type {\n",
       "        vertical-align: middle;\n",
       "    }\n",
       "\n",
       "    .dataframe tbody tr th {\n",
       "        vertical-align: top;\n",
       "    }\n",
       "\n",
       "    .dataframe thead th {\n",
       "        text-align: right;\n",
       "    }\n",
       "</style>\n",
       "<table border=\"1\" class=\"dataframe\">\n",
       "  <thead>\n",
       "    <tr style=\"text-align: right;\">\n",
       "      <th></th>\n",
       "      <th>Name</th>\n",
       "      <th>Articles</th>\n",
       "      <th>Improved</th>\n",
       "    </tr>\n",
       "  </thead>\n",
       "  <tbody>\n",
       "    <tr>\n",
       "      <th>0</th>\n",
       "      <td>Ankit</td>\n",
       "      <td>01-01-2020</td>\n",
       "      <td>2200</td>\n",
       "    </tr>\n",
       "    <tr>\n",
       "      <th>1</th>\n",
       "      <td>Ankit1</td>\n",
       "      <td>01-01-2020</td>\n",
       "      <td>1200</td>\n",
       "    </tr>\n",
       "    <tr>\n",
       "      <th>2</th>\n",
       "      <td>Ankit2</td>\n",
       "      <td>01-01-2020</td>\n",
       "      <td>3200</td>\n",
       "    </tr>\n",
       "    <tr>\n",
       "      <th>3</th>\n",
       "      <td>Ankit1</td>\n",
       "      <td>01-02-2020</td>\n",
       "      <td>1200</td>\n",
       "    </tr>\n",
       "    <tr>\n",
       "      <th>4</th>\n",
       "      <td>Ankit2</td>\n",
       "      <td>01-02-2020</td>\n",
       "      <td>3200</td>\n",
       "    </tr>\n",
       "  </tbody>\n",
       "</table>\n",
       "</div>"
      ],
      "text/plain": [
       "     Name    Articles Improved\n",
       "0   Ankit  01-01-2020     2200\n",
       "1  Ankit1  01-01-2020     1200\n",
       "2  Ankit2  01-01-2020     3200\n",
       "3  Ankit1  01-02-2020     1200\n",
       "4  Ankit2  01-02-2020     3200"
      ]
     },
     "execution_count": 80,
     "metadata": {},
     "output_type": "execute_result"
    }
   ],
   "source": [
    "df"
   ]
  },
  {
   "cell_type": "code",
   "execution_count": 84,
   "metadata": {},
   "outputs": [
    {
     "data": {
      "text/plain": [
       "Index([1], dtype='int64')"
      ]
     },
     "execution_count": 84,
     "metadata": {},
     "output_type": "execute_result"
    }
   ],
   "source": [
    "# indexes_exist = stats_df[(stats_df.version_id == source_version_dtl.version_id) & \n",
    "#                             (stats_df.business_date == source_version_dtl.business_date) & \n",
    "#                             (stats_df.table_id == source_version_dtl.upload_table_id)].index\n",
    "#     stats_df.drop(indexes_exist, inplace=True)\n",
    "    \n",
    "df[(df.Articles == '01-01-2020') & (df.Name == 'Ankit1')].index"
   ]
  },
  {
   "cell_type": "code",
   "execution_count": 88,
   "metadata": {},
   "outputs": [
    {
     "data": {
      "text/html": [
       "<div>\n",
       "<style scoped>\n",
       "    .dataframe tbody tr th:only-of-type {\n",
       "        vertical-align: middle;\n",
       "    }\n",
       "\n",
       "    .dataframe tbody tr th {\n",
       "        vertical-align: top;\n",
       "    }\n",
       "\n",
       "    .dataframe thead th {\n",
       "        text-align: right;\n",
       "    }\n",
       "</style>\n",
       "<table border=\"1\" class=\"dataframe\">\n",
       "  <thead>\n",
       "    <tr style=\"text-align: right;\">\n",
       "      <th></th>\n",
       "      <th>version_id</th>\n",
       "      <th>business_date</th>\n",
       "      <th>table_id</th>\n",
       "      <th>colum_id</th>\n",
       "      <th>col_sum</th>\n",
       "      <th>col_min</th>\n",
       "      <th>col_max</th>\n",
       "      <th>col_median</th>\n",
       "      <th>col_std</th>\n",
       "      <th>record_len</th>\n",
       "    </tr>\n",
       "  </thead>\n",
       "  <tbody>\n",
       "    <tr>\n",
       "      <th>0</th>\n",
       "      <td>45</td>\n",
       "      <td>2020-01-01</td>\n",
       "      <td>25</td>\n",
       "      <td>201</td>\n",
       "      <td>7.502455e+03</td>\n",
       "      <td>9.9e-06</td>\n",
       "      <td>0.9999815</td>\n",
       "      <td>4.994709e-01</td>\n",
       "      <td>2.898502e-01</td>\n",
       "      <td>14998</td>\n",
       "    </tr>\n",
       "    <tr>\n",
       "      <th>1</th>\n",
       "      <td>45</td>\n",
       "      <td>2020-01-01</td>\n",
       "      <td>25</td>\n",
       "      <td>202</td>\n",
       "      <td>4.311434e+10</td>\n",
       "      <td>19240.44</td>\n",
       "      <td>12330496.73</td>\n",
       "      <td>1.404328e+06</td>\n",
       "      <td>3.321766e+06</td>\n",
       "      <td>14998</td>\n",
       "    </tr>\n",
       "    <tr>\n",
       "      <th>2</th>\n",
       "      <td>45</td>\n",
       "      <td>2020-01-01</td>\n",
       "      <td>25</td>\n",
       "      <td>207</td>\n",
       "      <td>1.002626e+10</td>\n",
       "      <td>121244.03</td>\n",
       "      <td>1212160.3</td>\n",
       "      <td>6.703327e+05</td>\n",
       "      <td>3.161427e+05</td>\n",
       "      <td>14998</td>\n",
       "    </tr>\n",
       "    <tr>\n",
       "      <th>3</th>\n",
       "      <td>45</td>\n",
       "      <td>2020-01-01</td>\n",
       "      <td>25</td>\n",
       "      <td>205</td>\n",
       "      <td>NaN</td>\n",
       "      <td>09-12-22</td>\n",
       "      <td>01-01-26</td>\n",
       "      <td>NaN</td>\n",
       "      <td>NaN</td>\n",
       "      <td>14998</td>\n",
       "    </tr>\n",
       "  </tbody>\n",
       "</table>\n",
       "</div>"
      ],
      "text/plain": [
       "   version_id business_date  table_id  colum_id       col_sum    col_min  \\\n",
       "0          45    2020-01-01        25       201  7.502455e+03    9.9e-06   \n",
       "1          45    2020-01-01        25       202  4.311434e+10   19240.44   \n",
       "2          45    2020-01-01        25       207  1.002626e+10  121244.03   \n",
       "3          45    2020-01-01        25       205           NaN   09-12-22   \n",
       "\n",
       "       col_max    col_median       col_std  record_len  \n",
       "0    0.9999815  4.994709e-01  2.898502e-01       14998  \n",
       "1  12330496.73  1.404328e+06  3.321766e+06       14998  \n",
       "2    1212160.3  6.703327e+05  3.161427e+05       14998  \n",
       "3     01-01-26           NaN           NaN       14998  "
      ]
     },
     "execution_count": 88,
     "metadata": {},
     "output_type": "execute_result"
    }
   ],
   "source": [
    "stats_df = pd.read_csv(\"source_quality_col_stats.csv\")\n",
    "stats_df"
   ]
  },
  {
   "cell_type": "code",
   "execution_count": 96,
   "metadata": {},
   "outputs": [],
   "source": [
    "stats_df['business_date'] = pd.to_datetime(stats_df['business_date'], format='%Y-%m-%d')"
   ]
  },
  {
   "cell_type": "code",
   "execution_count": 107,
   "metadata": {},
   "outputs": [],
   "source": [
    "indexes_exist = stats_df[(stats_df.version_id == 45) & \n",
    "                            (stats_df.table_id == 25)].index"
   ]
  },
  {
   "cell_type": "code",
   "execution_count": 110,
   "metadata": {},
   "outputs": [],
   "source": [
    "stats_df.drop(indexes_exist, inplace=True)"
   ]
  },
  {
   "cell_type": "code",
   "execution_count": 111,
   "metadata": {},
   "outputs": [
    {
     "data": {
      "text/html": [
       "<div>\n",
       "<style scoped>\n",
       "    .dataframe tbody tr th:only-of-type {\n",
       "        vertical-align: middle;\n",
       "    }\n",
       "\n",
       "    .dataframe tbody tr th {\n",
       "        vertical-align: top;\n",
       "    }\n",
       "\n",
       "    .dataframe thead th {\n",
       "        text-align: right;\n",
       "    }\n",
       "</style>\n",
       "<table border=\"1\" class=\"dataframe\">\n",
       "  <thead>\n",
       "    <tr style=\"text-align: right;\">\n",
       "      <th></th>\n",
       "      <th>version_id</th>\n",
       "      <th>business_date</th>\n",
       "      <th>table_id</th>\n",
       "      <th>colum_id</th>\n",
       "      <th>col_sum</th>\n",
       "      <th>col_min</th>\n",
       "      <th>col_max</th>\n",
       "      <th>col_median</th>\n",
       "      <th>col_std</th>\n",
       "      <th>record_len</th>\n",
       "    </tr>\n",
       "  </thead>\n",
       "  <tbody>\n",
       "  </tbody>\n",
       "</table>\n",
       "</div>"
      ],
      "text/plain": [
       "Empty DataFrame\n",
       "Columns: [version_id, business_date, table_id, colum_id, col_sum, col_min, col_max, col_median, col_std, record_len]\n",
       "Index: []"
      ]
     },
     "execution_count": 111,
     "metadata": {},
     "output_type": "execute_result"
    }
   ],
   "source": [
    "stats_df"
   ]
  },
  {
   "cell_type": "code",
   "execution_count": 106,
   "metadata": {},
   "outputs": [
    {
     "data": {
      "text/plain": [
       "Index([], dtype='int64')"
      ]
     },
     "execution_count": 106,
     "metadata": {},
     "output_type": "execute_result"
    }
   ],
   "source": [
    "indexAge = df[(df['Name'] == 'John Holland') | (df['Position'] == 'SG')].index\n",
    "\n",
    "df.drop(indexAge, inplace=True)\n",
    "df.head(15)"
   ]
  },
  {
   "cell_type": "code",
   "execution_count": null,
   "metadata": {},
   "outputs": [],
   "source": []
  },
  {
   "cell_type": "code",
   "execution_count": null,
   "metadata": {},
   "outputs": [],
   "source": []
  }
 ],
 "metadata": {
  "kernelspec": {
   "display_name": "base",
   "language": "python",
   "name": "python3"
  },
  "language_info": {
   "codemirror_mode": {
    "name": "ipython",
    "version": 3
   },
   "file_extension": ".py",
   "mimetype": "text/x-python",
   "name": "python",
   "nbconvert_exporter": "python",
   "pygments_lexer": "ipython3",
   "version": "3.11.7"
  }
 },
 "nbformat": 4,
 "nbformat_minor": 2
}
