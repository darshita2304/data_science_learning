{
 "cells": [
  {
   "cell_type": "code",
   "execution_count": 33,
   "metadata": {},
   "outputs": [
    {
     "name": "stdout",
     "output_type": "stream",
     "text": [
      "----c----\n",
      "--c-b-c--\n",
      "c-b-a-b-c\n",
      "--c-b-c--\n",
      "----c----\n",
      "\n"
     ]
    }
   ],
   "source": [
    "def print_rangoli(size):\n",
    "    # your code goes here\n",
    "    s = \"\"\n",
    "\n",
    "    # string for topper triangles...\n",
    "    for i in reversed(range(0, size)):\n",
    "\n",
    "        no_space = 2 * i\n",
    "        for space in range(0, no_space):\n",
    "            s = s + (\"-\")\n",
    "\n",
    "        no_char = size - i\n",
    "        for char in range(no_char):\n",
    "            if no_char == 1:\n",
    "                s = s + chr(97+size - char - 1)\n",
    "            else:\n",
    "                s = s + chr(97+size - char - 1) + \"-\"\n",
    "\n",
    "        for char in reversed(range(0, no_char-1)):\n",
    "            if char == 0:\n",
    "                s = s + chr(97+size - char - 1)\n",
    "            else:\n",
    "                s = s + chr(97+size - char - 1) + \"-\"\n",
    "\n",
    "        for space in range(0, no_space):\n",
    "            s = s + (\"-\")\n",
    "\n",
    "        s = s + \"\\n\"\n",
    "\n",
    "    # string for lower triangles...\n",
    "    for i in range(1, size):\n",
    "\n",
    "        no_space = 2 * i\n",
    "        for space in range(0, no_space):\n",
    "            s = s + (\"-\")\n",
    "\n",
    "        no_char = size - i\n",
    "        for char in range(no_char):\n",
    "            if no_char == 1:\n",
    "                s = s + chr(97+size - char - 1)\n",
    "            else:\n",
    "                s = s + chr(97+size - char - 1) + \"-\"\n",
    "\n",
    "        for char in reversed(range(0, no_char-1)):\n",
    "            if char == 0:\n",
    "                s = s + chr(97+size - char - 1)\n",
    "            else:\n",
    "                s = s + chr(97+size - char - 1) + \"-\"\n",
    "\n",
    "        for space in range(0, no_space):\n",
    "            s = s + (\"-\")\n",
    "\n",
    "        s = s + \"\\n\"\n",
    "\n",
    "    print(s)\n",
    "\n",
    "\n",
    "if __name__ == '__main__':\n",
    "    n = int(input())\n",
    "    print_rangoli(n)"
   ]
  },
  {
   "cell_type": "markdown",
   "metadata": {},
   "source": [
    "#size 3\n",
    "\n",
    "----c----\n",
    "--c-b-c--\n",
    "c-b-a-b-c\n",
    "--c-b-c--\n",
    "----c----\n",
    "\n",
    "#size 5\n",
    "\n",
    "--------e--------\n",
    "------e-d-e------\n",
    "----e-d-c-d-e----\n",
    "--e-d-c-b-c-d-e--\n",
    "e-d-c-b-a-b-c-d-e\n",
    "--e-d-c-b-c-d-e--\n",
    "----e-d-c-d-e----\n",
    "------e-d-e------\n",
    "--------e--------"
   ]
  }
 ],
 "metadata": {
  "kernelspec": {
   "display_name": "base",
   "language": "python",
   "name": "python3"
  },
  "language_info": {
   "codemirror_mode": {
    "name": "ipython",
    "version": 3
   },
   "file_extension": ".py",
   "mimetype": "text/x-python",
   "name": "python",
   "nbconvert_exporter": "python",
   "pygments_lexer": "ipython3",
   "version": "3.9.13"
  }
 },
 "nbformat": 4,
 "nbformat_minor": 2
}
