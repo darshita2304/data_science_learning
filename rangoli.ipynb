{
 "cells": [
  {
   "cell_type": "code",
   "execution_count": 1,
   "metadata": {},
   "outputs": [
    {
     "name": "stdout",
     "output_type": "stream",
     "text": [
      "----c----\n",
      "--c-b-c--\n",
      "c-b-a-b-c\n",
      "--c-b-c--\n",
      "----c----\n",
      "\n"
     ]
    }
   ],
   "source": [
    "def print_rangoli(size):\n",
    "    # your code goes here\n",
    "    s = \"\"\n",
    "\n",
    "    # string for topper triangles...\n",
    "    for i in reversed(range(0, size)):\n",
    "\n",
    "        no_space = 2 * i\n",
    "        for space in range(0, no_space):\n",
    "            s = s + (\"-\")\n",
    "\n",
    "        no_char = size - i\n",
    "        for char in range(no_char):\n",
    "            if no_char == 1:\n",
    "                s = s + chr(97+size - char - 1)\n",
    "            else:\n",
    "                s = s + chr(97+size - char - 1) + \"-\"\n",
    "\n",
    "        for char in reversed(range(0, no_char-1)):\n",
    "            if char == 0:\n",
    "                s = s + chr(97+size - char - 1)\n",
    "            else:\n",
    "                s = s + chr(97+size - char - 1) + \"-\"\n",
    "\n",
    "        for space in range(0, no_space):\n",
    "            s = s + (\"-\")\n",
    "\n",
    "        s = s + \"\\n\"\n",
    "\n",
    "    # string for lower triangles...\n",
    "    for i in range(1, size):\n",
    "\n",
    "        no_space = 2 * i\n",
    "        for space in range(0, no_space):\n",
    "            s = s + (\"-\")\n",
    "\n",
    "        no_char = size - i\n",
    "        for char in range(no_char):\n",
    "            if no_char == 1:\n",
    "                s = s + chr(97+size - char - 1)\n",
    "            else:\n",
    "                s = s + chr(97+size - char - 1) + \"-\"\n",
    "\n",
    "        for char in reversed(range(0, no_char-1)):\n",
    "            if char == 0:\n",
    "                s = s + chr(97+size - char - 1)\n",
    "            else:\n",
    "                s = s + chr(97+size - char - 1) + \"-\"\n",
    "\n",
    "        for space in range(0, no_space):\n",
    "            s = s + (\"-\")\n",
    "\n",
    "        s = s + \"\\n\"\n",
    "\n",
    "    print(s)\n",
    "\n",
    "\n",
    "if __name__ == '__main__':\n",
    "    n = int(input())\n",
    "    print_rangoli(n)"
   ]
  },
  {
   "cell_type": "code",
   "execution_count": null,
   "metadata": {},
   "outputs": [],
   "source": []
  },
  {
   "cell_type": "code",
   "execution_count": 38,
   "metadata": {},
   "outputs": [
    {
     "name": "stdout",
     "output_type": "stream",
     "text": [
      "----c----\n",
      "--c-b-c--\n",
      "c-b-a-b-c\n",
      "--c-b-c--\n",
      "----c----\n"
     ]
    }
   ],
   "source": [
    "def print_rangoli(size):\n",
    "    alph = 'abcdefghijklmnopqrstuvwxyz'\n",
    "    in_use = alph[:size][::-1]\n",
    "    max_width = len('-'.join(list(in_use+in_use[::-1][1:])))\n",
    "    for i in range(1, size+1):\n",
    "        rangoli = in_use[:i]+in_use[:i][::-1][1:]\n",
    "        if i != 1:\n",
    "            rangoli = '-'.join(list(rangoli))\n",
    "        print(rangoli.center(max_width,  '-'))\n",
    "    for i in list(reversed(range(1, size))):\n",
    "        rangoli = in_use[:i]+in_use[:i][::-1][1:]\n",
    "        if i != 1:\n",
    "            rangoli = '-'.join(list(rangoli))\n",
    "        print(rangoli.center(max_width,  '-'))\n",
    "        \n",
    "        # if __name__ == '__main__':\n",
    "    # n = int(input())\n",
    "\n",
    "print_rangoli(3)"
   ]
  },
  {
   "cell_type": "code",
   "execution_count": null,
   "metadata": {},
   "outputs": [
    {
     "data": {
      "text/plain": [
       "'abc'"
      ]
     },
     "execution_count": 43,
     "metadata": {},
     "output_type": "execute_result"
    }
   ],
   "source": [
    "def print_rangoli(size):\n",
    "    alph = 'abcdefghijklmnopqrstuvwxyz'\n",
    "    in_use = alph[:size][::-1]\n",
    "    max_width = len('-'.join(list(in_use+in_use[::-1][1:])))\n",
    "    for i in range(1, size+1):\n",
    "        rangoli = in_use[:i]+in_use[:i][::-1][1:]\n",
    "        if i != 1:\n",
    "            rangoli = '-'.join(list(rangoli))\n",
    "        print(rangoli.center(max_width,  '-'))\n",
    "    for i in list(reversed(range(1, size))):\n",
    "        rangoli = in_use[:i]+in_use[:i][::-1][1:]\n",
    "        if i != 1:\n",
    "            rangoli = '-'.join(list(rangoli))\n",
    "        print(rangoli.center(max_width,  '-'))\n",
    "        \n",
    "        # if __name__ == '__main__':\n",
    "    # n = int(input())\n",
    "\n",
    "print_rangoli(3)"
   ]
  },
  {
   "cell_type": "markdown",
   "metadata": {},
   "source": [
    "#size 3\n",
    "\n",
    "----c----\n",
    "--c-b-c--\n",
    "c-b-a-b-c\n",
    "--c-b-c--\n",
    "----c----\n",
    "\n",
    "#size 5\n",
    "\n",
    "--------e--------\n",
    "------e-d-e------\n",
    "----e-d-c-d-e----\n",
    "--e-d-c-b-c-d-e--\n",
    "e-d-c-b-a-b-c-d-e\n",
    "--e-d-c-b-c-d-e--\n",
    "----e-d-c-d-e----\n",
    "------e-d-e------\n",
    "--------e--------"
   ]
  }
 ],
 "metadata": {
  "kernelspec": {
   "display_name": "base",
   "language": "python",
   "name": "python3"
  },
  "language_info": {
   "codemirror_mode": {
    "name": "ipython",
    "version": 3
   },
   "file_extension": ".py",
   "mimetype": "text/x-python",
   "name": "python",
   "nbconvert_exporter": "python",
   "pygments_lexer": "ipython3",
   "version": "3.11.7"
  }
 },
 "nbformat": 4,
 "nbformat_minor": 2
}
