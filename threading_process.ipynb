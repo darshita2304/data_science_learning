{
 "cells": [
  {
   "cell_type": "code",
   "execution_count": 1,
   "metadata": {},
   "outputs": [
    {
     "name": "stdout",
     "output_type": "stream",
     "text": [
      "Thread executing\n"
     ]
    }
   ],
   "source": [
    "import threading\n",
    "def worker():\n",
    "    print(\"Thread executing\")\n",
    "\n",
    "thread = threading.Thread(target=worker)\n",
    "thread.start()\n"
   ]
  },
  {
   "cell_type": "markdown",
   "metadata": {},
   "source": [
    "- Multithreading involves executing multiple threads within a single process, while\n",
    "multiprocessing involves executing multiple processes, each with its own memory space.\n",
    "- Threads share the same memory space, allowing for easy data sharing but limiting true\n",
    "parallelism due to the GIL. Processes have separate memory spaces, enabling better\n",
    "parallelism but requiring explicit communication mechanisms for data sharing.\n",
    "Real-time example: Multithreading can be used for I/O-bound tasks, such as handling multiple\n",
    "client requests in a web server. Multiprocessing can be used for CPU-bound tasks, such as\n",
    "performing complex computations on multiple cores"
   ]
  },
  {
   "cell_type": "code",
   "execution_count": 1,
   "metadata": {},
   "outputs": [],
   "source": [
    "import multiprocessing\n",
    "def worker():\n",
    "    print(\"Process executing\")\n",
    "\n",
    "\n",
    "process = multiprocessing.Process(target=worker)\n",
    "process.start()"
   ]
  }
 ],
 "metadata": {
  "kernelspec": {
   "display_name": "base",
   "language": "python",
   "name": "python3"
  },
  "language_info": {
   "codemirror_mode": {
    "name": "ipython",
    "version": 3
   },
   "file_extension": ".py",
   "mimetype": "text/x-python",
   "name": "python",
   "nbconvert_exporter": "python",
   "pygments_lexer": "ipython3",
   "version": "3.9.13"
  }
 },
 "nbformat": 4,
 "nbformat_minor": 2
}
