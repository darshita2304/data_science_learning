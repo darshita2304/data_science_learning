{
 "cells": [
  {
   "cell_type": "code",
   "execution_count": 1,
   "metadata": {},
   "outputs": [
    {
     "name": "stdout",
     "output_type": "stream",
     "text": [
      "Defaulting to user installation because normal site-packages is not writeable\n",
      "Collecting celery\n",
      "  Downloading celery-5.4.0-py3-none-any.whl.metadata (21 kB)\n",
      "Collecting billiard<5.0,>=4.2.0 (from celery)\n",
      "  Downloading billiard-4.2.0-py3-none-any.whl.metadata (4.4 kB)\n",
      "Collecting kombu<6.0,>=5.3.4 (from celery)\n",
      "  Downloading kombu-5.3.7-py3-none-any.whl.metadata (3.1 kB)\n",
      "Collecting vine<6.0,>=5.1.0 (from celery)\n",
      "  Downloading vine-5.1.0-py3-none-any.whl.metadata (2.7 kB)\n",
      "Requirement already satisfied: click<9.0,>=8.1.2 in f:\\anaconda3\\lib\\site-packages (from celery) (8.1.7)\n",
      "Collecting click-didyoumean>=0.3.0 (from celery)\n",
      "  Downloading click_didyoumean-0.3.1-py3-none-any.whl.metadata (3.9 kB)\n",
      "Collecting click-repl>=0.2.0 (from celery)\n",
      "  Downloading click_repl-0.3.0-py3-none-any.whl.metadata (3.6 kB)\n",
      "Collecting click-plugins>=1.1.1 (from celery)\n",
      "  Downloading click_plugins-1.1.1-py2.py3-none-any.whl.metadata (6.4 kB)\n",
      "Requirement already satisfied: tzdata>=2022.7 in f:\\anaconda3\\lib\\site-packages (from celery) (2023.3)\n",
      "Requirement already satisfied: python-dateutil>=2.8.2 in f:\\anaconda3\\lib\\site-packages (from celery) (2.8.2)\n",
      "Requirement already satisfied: colorama in f:\\anaconda3\\lib\\site-packages (from click<9.0,>=8.1.2->celery) (0.4.6)\n",
      "Requirement already satisfied: prompt-toolkit>=3.0.36 in f:\\anaconda3\\lib\\site-packages (from click-repl>=0.2.0->celery) (3.0.43)\n",
      "Collecting amqp<6.0.0,>=5.1.1 (from kombu<6.0,>=5.3.4->celery)\n",
      "  Downloading amqp-5.2.0-py3-none-any.whl.metadata (8.9 kB)\n",
      "Requirement already satisfied: six>=1.5 in f:\\anaconda3\\lib\\site-packages (from python-dateutil>=2.8.2->celery) (1.16.0)\n",
      "Requirement already satisfied: wcwidth in f:\\anaconda3\\lib\\site-packages (from prompt-toolkit>=3.0.36->click-repl>=0.2.0->celery) (0.2.5)\n",
      "Downloading celery-5.4.0-py3-none-any.whl (425 kB)\n",
      "   ---------------------------------------- 0.0/426.0 kB ? eta -:--:--\n",
      "   ------------------------- -------------- 266.2/426.0 kB 8.3 MB/s eta 0:00:01\n",
      "   ---------------------------------------  419.8/426.0 kB 8.9 MB/s eta 0:00:01\n",
      "   ---------------------------------------- 426.0/426.0 kB 4.5 MB/s eta 0:00:00\n",
      "Downloading billiard-4.2.0-py3-none-any.whl (86 kB)\n",
      "   ---------------------------------------- 0.0/86.7 kB ? eta -:--:--\n",
      "   ---------------------------------------- 86.7/86.7 kB 5.1 MB/s eta 0:00:00\n",
      "Downloading click_didyoumean-0.3.1-py3-none-any.whl (3.6 kB)\n",
      "Downloading click_plugins-1.1.1-py2.py3-none-any.whl (7.5 kB)\n",
      "Downloading click_repl-0.3.0-py3-none-any.whl (10 kB)\n",
      "Downloading kombu-5.3.7-py3-none-any.whl (200 kB)\n",
      "   ---------------------------------------- 0.0/200.2 kB ? eta -:--:--\n",
      "   ---------------------------------------- 200.2/200.2 kB 5.9 MB/s eta 0:00:00\n",
      "Downloading vine-5.1.0-py3-none-any.whl (9.6 kB)\n",
      "Downloading amqp-5.2.0-py3-none-any.whl (50 kB)\n",
      "   ---------------------------------------- 0.0/50.9 kB ? eta -:--:--\n",
      "   ---------------------------------------- 50.9/50.9 kB 2.7 MB/s eta 0:00:00\n",
      "Installing collected packages: vine, billiard, click-repl, click-plugins, click-didyoumean, amqp, kombu, celery\n",
      "Successfully installed amqp-5.2.0 billiard-4.2.0 celery-5.4.0 click-didyoumean-0.3.1 click-plugins-1.1.1 click-repl-0.3.0 kombu-5.3.7 vine-5.1.0\n",
      "Note: you may need to restart the kernel to use updated packages.\n"
     ]
    },
    {
     "name": "stderr",
     "output_type": "stream",
     "text": [
      "  WARNING: The script celery.exe is installed in 'C:\\Users\\Darshi\\AppData\\Roaming\\Python\\Python311\\Scripts' which is not on PATH.\n",
      "  Consider adding this directory to PATH or, if you prefer to suppress this warning, use --no-warn-script-location.\n"
     ]
    }
   ],
   "source": [
    "pip install celery"
   ]
  },
  {
   "cell_type": "markdown",
   "metadata": {},
   "source": [
    "### Celery is an asynchronous task queue. It can be used for anything that needs to be run asynchronously. For example, background computation of expensive queries.\n",
    "\n",
    "### The Broker (RabbitMQ) is responsible for the creation of task queues, dispatching tasks to task queues according to some routing rules, and then delivering tasks from task queues to workers.\n",
    "\n",
    "### Consumer (Celery Workers) The Consumer is the one or multiple Celery workers executing the tasks. You could start many workers depending on your use case."
   ]
  },
  {
   "cell_type": "code",
   "execution_count": 3,
   "metadata": {},
   "outputs": [
    {
     "name": "stdout",
     "output_type": "stream",
     "text": [
      "Defaulting to user installation because normal site-packages is not writeable\n",
      "Collecting RabbitMQ\n",
      "  Downloading rabbitmq-0.2.0-py2.py3-none-any.whl.metadata (2.4 kB)\n",
      "Requirement already satisfied: cffi in f:\\anaconda3\\lib\\site-packages (from RabbitMQ) (1.16.0)\n",
      "Requirement already satisfied: pycparser in f:\\anaconda3\\lib\\site-packages (from cffi->RabbitMQ) (2.21)\n",
      "Downloading rabbitmq-0.2.0-py2.py3-none-any.whl (7.9 kB)\n",
      "Installing collected packages: RabbitMQ\n",
      "Successfully installed RabbitMQ-0.2.0\n",
      "Note: you may need to restart the kernel to use updated packages.\n"
     ]
    }
   ],
   "source": [
    "pip install RabbitMQ"
   ]
  },
  {
   "cell_type": "code",
   "execution_count": 7,
   "metadata": {},
   "outputs": [
    {
     "ename": "SyntaxError",
     "evalue": "invalid syntax (3154645944.py, line 1)",
     "output_type": "error",
     "traceback": [
      "\u001b[1;36m  Cell \u001b[1;32mIn[7], line 1\u001b[1;36m\u001b[0m\n\u001b[1;33m    python rabbitmqctl\u001b[0m\n\u001b[1;37m           ^\u001b[0m\n\u001b[1;31mSyntaxError\u001b[0m\u001b[1;31m:\u001b[0m invalid syntax\n"
     ]
    }
   ],
   "source": [
    "python rabbitmqctl"
   ]
  },
  {
   "cell_type": "code",
   "execution_count": null,
   "metadata": {},
   "outputs": [],
   "source": []
  }
 ],
 "metadata": {
  "kernelspec": {
   "display_name": "base",
   "language": "python",
   "name": "python3"
  },
  "language_info": {
   "codemirror_mode": {
    "name": "ipython",
    "version": 3
   },
   "file_extension": ".py",
   "mimetype": "text/x-python",
   "name": "python",
   "nbconvert_exporter": "python",
   "pygments_lexer": "ipython3",
   "version": "3.11.7"
  }
 },
 "nbformat": 4,
 "nbformat_minor": 2
}
