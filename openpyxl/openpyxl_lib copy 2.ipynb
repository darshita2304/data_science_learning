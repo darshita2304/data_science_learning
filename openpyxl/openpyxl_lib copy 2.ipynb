{
 "cells": [
  {
   "cell_type": "code",
   "execution_count": 168,
   "metadata": {},
   "outputs": [],
   "source": [
    "from openpyxl import Workbook\n",
    "\n",
    "workbook = Workbook()\n",
    "sheet = workbook.active\n",
    "\n",
    "sheet[\"A1\"] = \"hello\"\n",
    "sheet[\"B1\"] = \"world!\"\n",
    "\n",
    "workbook.save(filename=\"hello_world.xlsx\")"
   ]
  },
  {
   "cell_type": "code",
   "execution_count": 169,
   "metadata": {},
   "outputs": [
    {
     "data": {
      "text/plain": [
       "['Sheet1']"
      ]
     },
     "execution_count": 169,
     "metadata": {},
     "output_type": "execute_result"
    }
   ],
   "source": [
    "from openpyxl import load_workbook\n",
    "workbook = load_workbook(filename=\"./../new_test/sections_data.xlsx\")\n",
    "workbook.sheetnames"
   ]
  },
  {
   "cell_type": "code",
   "execution_count": 170,
   "metadata": {},
   "outputs": [],
   "source": [
    "main_sheet = workbook[\"Sheet1\"]"
   ]
  },
  {
   "cell_type": "code",
   "execution_count": 171,
   "metadata": {},
   "outputs": [
    {
     "data": {
      "text/plain": [
       "'Col1'"
      ]
     },
     "execution_count": 171,
     "metadata": {},
     "output_type": "execute_result"
    }
   ],
   "source": [
    "main_sheet[\"A1\"].value"
   ]
  },
  {
   "cell_type": "code",
   "execution_count": 172,
   "metadata": {},
   "outputs": [],
   "source": [
    "def get_rows(sheet):\n",
    "    row_list = list()\n",
    "    for row in sheet.iter_rows(values_only=True):\n",
    "        row_list.append(row)\n",
    "        \n",
    "    return row_list"
   ]
  },
  {
   "cell_type": "code",
   "execution_count": 173,
   "metadata": {},
   "outputs": [],
   "source": [
    "rows = get_rows(main_sheet)"
   ]
  },
  {
   "cell_type": "code",
   "execution_count": 174,
   "metadata": {},
   "outputs": [],
   "source": [
    "def split_list_by_value_null(lst):\n",
    "    split_value = None\n",
    "    sublists = []\n",
    "    sublist = []\n",
    "\n",
    "    for item in lst:\n",
    "\n",
    "        if item != split_value:\n",
    "            sublist.append(item)\n",
    "        else:\n",
    "            sublists.append(sublist)\n",
    "            sublist = []\n",
    "    # Append the remaining sublist after the last split value\n",
    "    if (len(sublist) > 0):\n",
    "        sublists.append(sublist)\n",
    "\n",
    "    return sublists\n"
   ]
  },
  {
   "cell_type": "code",
   "execution_count": 175,
   "metadata": {},
   "outputs": [
    {
     "data": {
      "text/plain": [
       "[('Col1',\n",
       "  'Col2',\n",
       "  'Col3',\n",
       "  None,\n",
       "  'Col11',\n",
       "  'Col12',\n",
       "  None,\n",
       "  'Col111',\n",
       "  'Col122',\n",
       "  None,\n",
       "  'Col44',\n",
       "  'Col55',\n",
       "  'Col66',\n",
       "  None,\n",
       "  'Col44',\n",
       "  'Col55',\n",
       "  'Col66'),\n",
       " (100,\n",
       "  100,\n",
       "  100,\n",
       "  None,\n",
       "  100,\n",
       "  100,\n",
       "  None,\n",
       "  100,\n",
       "  100,\n",
       "  None,\n",
       "  100,\n",
       "  100,\n",
       "  100,\n",
       "  None,\n",
       "  100,\n",
       "  100,\n",
       "  100),\n",
       " (100,\n",
       "  100,\n",
       "  100,\n",
       "  None,\n",
       "  100,\n",
       "  100,\n",
       "  None,\n",
       "  100,\n",
       "  100,\n",
       "  None,\n",
       "  100,\n",
       "  100,\n",
       "  100,\n",
       "  None,\n",
       "  100,\n",
       "  100,\n",
       "  100),\n",
       " (100,\n",
       "  100,\n",
       "  100,\n",
       "  None,\n",
       "  100,\n",
       "  100,\n",
       "  None,\n",
       "  100,\n",
       "  100,\n",
       "  None,\n",
       "  100,\n",
       "  100,\n",
       "  100,\n",
       "  None,\n",
       "  100,\n",
       "  100,\n",
       "  100),\n",
       " (100,\n",
       "  100,\n",
       "  100,\n",
       "  None,\n",
       "  100,\n",
       "  100,\n",
       "  None,\n",
       "  100,\n",
       "  100,\n",
       "  None,\n",
       "  100,\n",
       "  100,\n",
       "  100,\n",
       "  None,\n",
       "  None,\n",
       "  None,\n",
       "  None),\n",
       " (100,\n",
       "  100,\n",
       "  100,\n",
       "  None,\n",
       "  100,\n",
       "  100,\n",
       "  None,\n",
       "  100,\n",
       "  100,\n",
       "  None,\n",
       "  100,\n",
       "  100,\n",
       "  100,\n",
       "  None,\n",
       "  None,\n",
       "  None,\n",
       "  None),\n",
       " (100,\n",
       "  100,\n",
       "  100,\n",
       "  None,\n",
       "  100,\n",
       "  100,\n",
       "  None,\n",
       "  100,\n",
       "  100,\n",
       "  None,\n",
       "  100,\n",
       "  100,\n",
       "  100,\n",
       "  None,\n",
       "  None,\n",
       "  None,\n",
       "  None),\n",
       " (100,\n",
       "  100,\n",
       "  100,\n",
       "  None,\n",
       "  100,\n",
       "  100,\n",
       "  None,\n",
       "  100,\n",
       "  100,\n",
       "  None,\n",
       "  100,\n",
       "  100,\n",
       "  100,\n",
       "  None,\n",
       "  None,\n",
       "  None,\n",
       "  None),\n",
       " (100,\n",
       "  100,\n",
       "  100,\n",
       "  None,\n",
       "  100,\n",
       "  100,\n",
       "  None,\n",
       "  100,\n",
       "  100,\n",
       "  None,\n",
       "  100,\n",
       "  100,\n",
       "  100,\n",
       "  None,\n",
       "  None,\n",
       "  None,\n",
       "  None),\n",
       " (None,\n",
       "  None,\n",
       "  None,\n",
       "  None,\n",
       "  None,\n",
       "  None,\n",
       "  None,\n",
       "  None,\n",
       "  None,\n",
       "  None,\n",
       "  None,\n",
       "  None,\n",
       "  None,\n",
       "  None,\n",
       "  None,\n",
       "  None,\n",
       "  None),\n",
       " (None,\n",
       "  'ABC',\n",
       "  'ABC1',\n",
       "  'ABC2',\n",
       "  'ABC3',\n",
       "  None,\n",
       "  'DEF',\n",
       "  'DEF1',\n",
       "  'DEF2',\n",
       "  'DEF3',\n",
       "  None,\n",
       "  None,\n",
       "  None,\n",
       "  None,\n",
       "  None,\n",
       "  None,\n",
       "  None),\n",
       " (None,\n",
       "  10,\n",
       "  100,\n",
       "  100,\n",
       "  100,\n",
       "  None,\n",
       "  10,\n",
       "  100,\n",
       "  100,\n",
       "  100,\n",
       "  None,\n",
       "  None,\n",
       "  None,\n",
       "  None,\n",
       "  None,\n",
       "  None,\n",
       "  None),\n",
       " (None,\n",
       "  10,\n",
       "  100,\n",
       "  100,\n",
       "  100,\n",
       "  None,\n",
       "  10,\n",
       "  100,\n",
       "  100,\n",
       "  100,\n",
       "  None,\n",
       "  None,\n",
       "  None,\n",
       "  None,\n",
       "  None,\n",
       "  None,\n",
       "  None),\n",
       " (None,\n",
       "  10,\n",
       "  100,\n",
       "  100,\n",
       "  100,\n",
       "  None,\n",
       "  10,\n",
       "  100,\n",
       "  100,\n",
       "  100,\n",
       "  None,\n",
       "  None,\n",
       "  None,\n",
       "  None,\n",
       "  None,\n",
       "  None,\n",
       "  None),\n",
       " (None,\n",
       "  10,\n",
       "  100,\n",
       "  100,\n",
       "  100,\n",
       "  None,\n",
       "  10,\n",
       "  100,\n",
       "  100,\n",
       "  100,\n",
       "  None,\n",
       "  None,\n",
       "  None,\n",
       "  None,\n",
       "  None,\n",
       "  None,\n",
       "  None),\n",
       " (None,\n",
       "  None,\n",
       "  None,\n",
       "  None,\n",
       "  None,\n",
       "  None,\n",
       "  None,\n",
       "  None,\n",
       "  None,\n",
       "  None,\n",
       "  None,\n",
       "  None,\n",
       "  None,\n",
       "  None,\n",
       "  None,\n",
       "  None,\n",
       "  None),\n",
       " (None,\n",
       "  None,\n",
       "  None,\n",
       "  None,\n",
       "  None,\n",
       "  'THJ',\n",
       "  'TH3',\n",
       "  'THJ1',\n",
       "  None,\n",
       "  None,\n",
       "  None,\n",
       "  None,\n",
       "  None,\n",
       "  None,\n",
       "  None,\n",
       "  None,\n",
       "  None),\n",
       " (None,\n",
       "  None,\n",
       "  None,\n",
       "  None,\n",
       "  None,\n",
       "  10,\n",
       "  100,\n",
       "  100,\n",
       "  None,\n",
       "  None,\n",
       "  None,\n",
       "  None,\n",
       "  None,\n",
       "  None,\n",
       "  None,\n",
       "  None,\n",
       "  None),\n",
       " (None,\n",
       "  None,\n",
       "  None,\n",
       "  None,\n",
       "  None,\n",
       "  10,\n",
       "  100,\n",
       "  100,\n",
       "  None,\n",
       "  None,\n",
       "  None,\n",
       "  None,\n",
       "  None,\n",
       "  None,\n",
       "  None,\n",
       "  None,\n",
       "  None),\n",
       " (None,\n",
       "  None,\n",
       "  None,\n",
       "  None,\n",
       "  None,\n",
       "  10,\n",
       "  100,\n",
       "  100,\n",
       "  None,\n",
       "  None,\n",
       "  None,\n",
       "  None,\n",
       "  None,\n",
       "  None,\n",
       "  None,\n",
       "  None,\n",
       "  None),\n",
       " (None,\n",
       "  None,\n",
       "  None,\n",
       "  None,\n",
       "  None,\n",
       "  10,\n",
       "  100,\n",
       "  100,\n",
       "  None,\n",
       "  None,\n",
       "  None,\n",
       "  None,\n",
       "  None,\n",
       "  None,\n",
       "  None,\n",
       "  None,\n",
       "  None)]"
      ]
     },
     "execution_count": 175,
     "metadata": {},
     "output_type": "execute_result"
    }
   ],
   "source": [
    "rows"
   ]
  },
  {
   "cell_type": "code",
   "execution_count": 176,
   "metadata": {},
   "outputs": [
    {
     "data": {
      "text/plain": [
       "list"
      ]
     },
     "execution_count": 176,
     "metadata": {},
     "output_type": "execute_result"
    }
   ],
   "source": [
    "row_wise_cnt = 0\n",
    "no_set = 0\n",
    "tbl = {}\n",
    "\n",
    "tbl = list(map(split_list_by_value_null, rows))\n",
    "\n",
    "type(tbl)"
   ]
  },
  {
   "cell_type": "code",
   "execution_count": 177,
   "metadata": {},
   "outputs": [
    {
     "data": {
      "text/plain": [
       "[[['Col1', 'Col2', 'Col3'],\n",
       "  ['Col11', 'Col12'],\n",
       "  ['Col111', 'Col122'],\n",
       "  ['Col44', 'Col55', 'Col66'],\n",
       "  ['Col44', 'Col55', 'Col66']],\n",
       " [[100, 100, 100], [100, 100], [100, 100], [100, 100, 100], [100, 100, 100]],\n",
       " [[100, 100, 100], [100, 100], [100, 100], [100, 100, 100], [100, 100, 100]],\n",
       " [[100, 100, 100], [100, 100], [100, 100], [100, 100, 100], [100, 100, 100]],\n",
       " [[100, 100, 100], [100, 100], [100, 100], [100, 100, 100], [], [], []],\n",
       " [[100, 100, 100], [100, 100], [100, 100], [100, 100, 100], [], [], []],\n",
       " [[100, 100, 100], [100, 100], [100, 100], [100, 100, 100], [], [], []],\n",
       " [[100, 100, 100], [100, 100], [100, 100], [100, 100, 100], [], [], []],\n",
       " [[100, 100, 100], [100, 100], [100, 100], [100, 100, 100], [], [], []],\n",
       " [[], [], [], [], [], [], [], [], [], [], [], [], [], [], [], [], []],\n",
       " [[],\n",
       "  ['ABC', 'ABC1', 'ABC2', 'ABC3'],\n",
       "  ['DEF', 'DEF1', 'DEF2', 'DEF3'],\n",
       "  [],\n",
       "  [],\n",
       "  [],\n",
       "  [],\n",
       "  [],\n",
       "  []],\n",
       " [[], [10, 100, 100, 100], [10, 100, 100, 100], [], [], [], [], [], []],\n",
       " [[], [10, 100, 100, 100], [10, 100, 100, 100], [], [], [], [], [], []],\n",
       " [[], [10, 100, 100, 100], [10, 100, 100, 100], [], [], [], [], [], []],\n",
       " [[], [10, 100, 100, 100], [10, 100, 100, 100], [], [], [], [], [], []],\n",
       " [[], [], [], [], [], [], [], [], [], [], [], [], [], [], [], [], []],\n",
       " [[], [], [], [], [], ['THJ', 'TH3', 'THJ1'], [], [], [], [], [], [], [], []],\n",
       " [[], [], [], [], [], [10, 100, 100], [], [], [], [], [], [], [], []],\n",
       " [[], [], [], [], [], [10, 100, 100], [], [], [], [], [], [], [], []],\n",
       " [[], [], [], [], [], [10, 100, 100], [], [], [], [], [], [], [], []],\n",
       " [[], [], [], [], [], [10, 100, 100], [], [], [], [], [], [], [], []]]"
      ]
     },
     "execution_count": 177,
     "metadata": {},
     "output_type": "execute_result"
    }
   ],
   "source": [
    "tbl"
   ]
  },
  {
   "cell_type": "code",
   "execution_count": 178,
   "metadata": {},
   "outputs": [
    {
     "data": {
      "text/plain": [
       "21"
      ]
     },
     "execution_count": 178,
     "metadata": {},
     "output_type": "execute_result"
    }
   ],
   "source": [
    "len(tbl)"
   ]
  },
  {
   "cell_type": "code",
   "execution_count": 179,
   "metadata": {},
   "outputs": [],
   "source": [
    "def get_lst(lst, col):\n",
    "    l = []\n",
    "    for i in range(1, len(lst)):\n",
    "        if len(lst[i][col])>0:\n",
    "            l.append(lst[i][col])\n",
    "        else:\n",
    "            return(l)\n",
    "    # return(l)"
   ]
  },
  {
   "cell_type": "code",
   "execution_count": 180,
   "metadata": {},
   "outputs": [],
   "source": [
    "keys = tbl[0][1]\n",
    "values = get_lst(tbl,1)"
   ]
  },
  {
   "cell_type": "code",
   "execution_count": 181,
   "metadata": {},
   "outputs": [
    {
     "data": {
      "text/plain": [
       "['Col11', 'Col12']"
      ]
     },
     "execution_count": 181,
     "metadata": {},
     "output_type": "execute_result"
    }
   ],
   "source": [
    "keys"
   ]
  },
  {
   "cell_type": "code",
   "execution_count": 182,
   "metadata": {},
   "outputs": [
    {
     "data": {
      "text/plain": [
       "[[100, 100],\n",
       " [100, 100],\n",
       " [100, 100],\n",
       " [100, 100],\n",
       " [100, 100],\n",
       " [100, 100],\n",
       " [100, 100],\n",
       " [100, 100]]"
      ]
     },
     "execution_count": 182,
     "metadata": {},
     "output_type": "execute_result"
    }
   ],
   "source": [
    "values"
   ]
  },
  {
   "cell_type": "code",
   "execution_count": 183,
   "metadata": {},
   "outputs": [
    {
     "name": "stdout",
     "output_type": "stream",
     "text": [
      "['Col1', 'Col2', 'Col3']\n",
      "[[100, 100, 100], [100, 100, 100], [100, 100, 100], [100, 100, 100], [100, 100, 100], [100, 100, 100], [100, 100, 100], [100, 100, 100]]\n",
      "['Col11', 'Col12']\n",
      "[[100, 100], [100, 100], [100, 100], [100, 100], [100, 100], [100, 100], [100, 100], [100, 100]]\n",
      "['Col111', 'Col122']\n",
      "[[100, 100], [100, 100], [100, 100], [100, 100], [100, 100], [100, 100], [100, 100], [100, 100]]\n",
      "['Col44', 'Col55', 'Col66']\n",
      "[[100, 100, 100], [100, 100, 100], [100, 100, 100], [100, 100, 100], [100, 100, 100], [100, 100, 100], [100, 100, 100], [100, 100, 100]]\n",
      "['Col44', 'Col55', 'Col66']\n",
      "[[100, 100, 100], [100, 100, 100], [100, 100, 100]]\n"
     ]
    }
   ],
   "source": [
    "for i in range(0,len(tbl[0])):\n",
    "    keys = tbl[0][i]\n",
    "    values = get_lst(tbl, i)\n",
    "    \n",
    "    print(keys)\n",
    "    print(values)"
   ]
  },
  {
   "cell_type": "code",
   "execution_count": 190,
   "metadata": {},
   "outputs": [
    {
     "name": "stdout",
     "output_type": "stream",
     "text": [
      "[['Col1', 'Col2', 'Col3'], ['Col11', 'Col12'], ['Col111', 'Col122'], ['Col44', 'Col55', 'Col66'], ['Col44', 'Col55', 'Col66']]\n",
      "5\n",
      "[[100, 100, 100], [100, 100], [100, 100], [100, 100, 100], [100, 100, 100]]\n",
      "5\n",
      "[[100, 100, 100], [100, 100], [100, 100], [100, 100, 100], [100, 100, 100]]\n",
      "5\n",
      "[[100, 100, 100], [100, 100], [100, 100], [100, 100, 100], [100, 100, 100]]\n",
      "5\n",
      "[[100, 100, 100], [100, 100], [100, 100], [100, 100, 100], [], [], []]\n",
      "7\n",
      "[[100, 100, 100], [100, 100], [100, 100], [100, 100, 100], [], [], []]\n",
      "7\n",
      "[[100, 100, 100], [100, 100], [100, 100], [100, 100, 100], [], [], []]\n",
      "7\n",
      "[[100, 100, 100], [100, 100], [100, 100], [100, 100, 100], [], [], []]\n",
      "7\n",
      "[[100, 100, 100], [100, 100], [100, 100], [100, 100, 100], [], [], []]\n",
      "7\n",
      "[[], [], [], [], [], [], [], [], [], [], [], [], [], [], [], [], []]\n",
      "17\n",
      "[[], ['ABC', 'ABC1', 'ABC2', 'ABC3'], ['DEF', 'DEF1', 'DEF2', 'DEF3'], [], [], [], [], [], []]\n",
      "9\n",
      "[[], [10, 100, 100, 100], [10, 100, 100, 100], [], [], [], [], [], []]\n",
      "9\n",
      "[[], [10, 100, 100, 100], [10, 100, 100, 100], [], [], [], [], [], []]\n",
      "9\n",
      "[[], [10, 100, 100, 100], [10, 100, 100, 100], [], [], [], [], [], []]\n",
      "9\n",
      "[[], [10, 100, 100, 100], [10, 100, 100, 100], [], [], [], [], [], []]\n",
      "9\n",
      "[[], [], [], [], [], [], [], [], [], [], [], [], [], [], [], [], []]\n",
      "17\n",
      "[[], [], [], [], [], ['THJ', 'TH3', 'THJ1'], [], [], [], [], [], [], [], []]\n",
      "14\n",
      "[[], [], [], [], [], [10, 100, 100], [], [], [], [], [], [], [], []]\n",
      "14\n",
      "[[], [], [], [], [], [10, 100, 100], [], [], [], [], [], [], [], []]\n",
      "14\n",
      "[[], [], [], [], [], [10, 100, 100], [], [], [], [], [], [], [], []]\n",
      "14\n",
      "[[], [], [], [], [], [10, 100, 100], [], [], [], [], [], [], [], []]\n",
      "14\n"
     ]
    }
   ],
   "source": [
    "for i in range(0, len(tbl)):\n",
    "    print(tbl[i])\n",
    "    print(len(tbl[i]))"
   ]
  },
  {
   "cell_type": "code",
   "execution_count": 150,
   "metadata": {},
   "outputs": [
    {
     "data": {
      "text/plain": [
       "[[[],\n",
       "  ['ABC', 'ABC1', 'ABC2', 'ABC3'],\n",
       "  ['DEF', 'DEF1', 'DEF2', 'DEF3'],\n",
       "  [],\n",
       "  [],\n",
       "  [],\n",
       "  [],\n",
       "  [],\n",
       "  []],\n",
       " [[], [10, 100, 100, 100], [10, 100, 100, 100], [], [], [], [], [], []],\n",
       " [[], [10, 100, 100, 100], [10, 100, 100, 100], [], [], [], [], [], []],\n",
       " [[], [10, 100, 100, 100], [10, 100, 100, 100], [], [], [], [], [], []],\n",
       " [[], [10, 100, 100, 100], [10, 100, 100, 100], [], [], [], [], [], []],\n",
       " [[], [], [], [], [], [], [], [], [], [], [], [], [], [], [], [], []],\n",
       " [[], [], [], [], [], ['THJ', 'TH3', 'THJ1'], [], [], [], [], [], [], [], []],\n",
       " [[], [], [], [], [], [10, 100, 100], [], [], [], [], [], [], [], []],\n",
       " [[], [], [], [], [], [10, 100, 100], [], [], [], [], [], [], [], []],\n",
       " [[], [], [], [], [], [10, 100, 100], [], [], [], [], [], [], [], []],\n",
       " [[], [], [], [], [], [10, 100, 100], [], [], [], [], [], [], [], []]]"
      ]
     },
     "execution_count": 150,
     "metadata": {},
     "output_type": "execute_result"
    }
   ],
   "source": [
    "rowswise = tbl[len(values)+2:]\n",
    "rowswise"
   ]
  },
  {
   "cell_type": "code",
   "execution_count": 151,
   "metadata": {},
   "outputs": [],
   "source": [
    "def get_lst_rows(lst, col):\n",
    "    l = []\n",
    "    for i in range(1, len(lst)):\n",
    "        if len(lst[i][col]) > 0:\n",
    "            l.append(lst[i][col])\n",
    "        else:\n",
    "            continue\n",
    "    return(l)"
   ]
  },
  {
   "cell_type": "code",
   "execution_count": 152,
   "metadata": {},
   "outputs": [
    {
     "name": "stdout",
     "output_type": "stream",
     "text": [
      "['Col1', 'Col2', 'Col3']\n",
      "[[100, 100, 100], [100, 100, 100], [100, 100, 100], [100, 100, 100], [100, 100, 100], [100, 100, 100], [100, 100, 100], [100, 100, 100]]\n",
      "['Col11', 'Col12']\n",
      "[[100, 100], [100, 100], [100, 100], [100, 100], [100, 100], [100, 100], [100, 100], [100, 100]]\n",
      "['Col111', 'Col122']\n",
      "[[100, 100], [100, 100], [100, 100], [100, 100], [100, 100], [100, 100], [100, 100], [100, 100]]\n",
      "['Col44', 'Col55', 'Col66']\n",
      "[[100, 100, 100], [100, 100, 100], [100, 100, 100], [100, 100, 100], [100, 100, 100], [100, 100, 100], [100, 100, 100], [100, 100, 100]]\n",
      "['Col44', 'Col55', 'Col66']\n",
      "[[100, 100, 100], [100, 100, 100], [100, 100, 100], [100, 100, 100], [100, 100, 100], [100, 100, 100], [100, 100, 100], [100, 100, 100]]\n"
     ]
    }
   ],
   "source": [
    "for i in range(0, len(tbl[0])):\n",
    "    if len(tbl[0][i]) == 0:\n",
    "        continue    \n",
    "    keys = tbl[0][i]\n",
    "    # print(rowswise)\n",
    "    values = get_lst(tbl, i)\n",
    "\n",
    "    print(keys)\n",
    "    print(values)"
   ]
  },
  {
   "cell_type": "code",
   "execution_count": 42,
   "metadata": {},
   "outputs": [
    {
     "data": {
      "text/plain": [
       "['Col11', 'Col12']"
      ]
     },
     "execution_count": 42,
     "metadata": {},
     "output_type": "execute_result"
    }
   ],
   "source": [
    "# row , col\n",
    "tbl[0][1]"
   ]
  },
  {
   "cell_type": "code",
   "execution_count": 24,
   "metadata": {},
   "outputs": [
    {
     "name": "stdout",
     "output_type": "stream",
     "text": [
      "[['Col1', 'Col2', 'Col3'], ['Col11', 'Col12'], ['Col11', 'Col12']]\n"
     ]
    }
   ],
   "source": [
    "print(tbl[0])"
   ]
  },
  {
   "cell_type": "code",
   "execution_count": 2,
   "metadata": {},
   "outputs": [
    {
     "ename": "NameError",
     "evalue": "name 'max_length' is not defined",
     "output_type": "error",
     "traceback": [
      "\u001b[1;31m---------------------------------------------------------------------------\u001b[0m",
      "\u001b[1;31mNameError\u001b[0m                                 Traceback (most recent call last)",
      "\u001b[1;32m~\\AppData\\Local\\Temp\\ipykernel_2692\\3573997428.py\u001b[0m in \u001b[0;36m<module>\u001b[1;34m\u001b[0m\n\u001b[1;32m----> 1\u001b[1;33m \u001b[1;32mfor\u001b[0m \u001b[0mi\u001b[0m \u001b[1;32min\u001b[0m \u001b[0mrange\u001b[0m\u001b[1;33m(\u001b[0m\u001b[1;36m0\u001b[0m\u001b[1;33m,\u001b[0m\u001b[0mmax_length\u001b[0m\u001b[1;33m)\u001b[0m\u001b[1;33m:\u001b[0m\u001b[1;33m\u001b[0m\u001b[1;33m\u001b[0m\u001b[0m\n\u001b[0m\u001b[0;32m      2\u001b[0m     \u001b[0mprint\u001b[0m\u001b[1;33m(\u001b[0m\u001b[1;34m\"---------\"\u001b[0m\u001b[1;33m)\u001b[0m\u001b[1;33m\u001b[0m\u001b[1;33m\u001b[0m\u001b[0m\n\u001b[0;32m      3\u001b[0m     \u001b[1;32mfor\u001b[0m \u001b[0mitem\u001b[0m \u001b[1;32min\u001b[0m \u001b[0mtbl\u001b[0m\u001b[1;33m:\u001b[0m\u001b[1;33m\u001b[0m\u001b[1;33m\u001b[0m\u001b[0m\n\u001b[0;32m      4\u001b[0m         \u001b[1;32mif\u001b[0m \u001b[0mlen\u001b[0m\u001b[1;33m(\u001b[0m\u001b[0mitem\u001b[0m\u001b[1;33m[\u001b[0m\u001b[0mi\u001b[0m\u001b[1;33m]\u001b[0m\u001b[1;33m)\u001b[0m\u001b[1;33m>\u001b[0m\u001b[1;36m0\u001b[0m\u001b[1;33m:\u001b[0m\u001b[1;33m\u001b[0m\u001b[1;33m\u001b[0m\u001b[0m\n\u001b[0;32m      5\u001b[0m             \u001b[0mprint\u001b[0m\u001b[1;33m(\u001b[0m\u001b[0mitem\u001b[0m\u001b[1;33m[\u001b[0m\u001b[0mi\u001b[0m\u001b[1;33m]\u001b[0m\u001b[1;33m)\u001b[0m\u001b[1;33m\u001b[0m\u001b[1;33m\u001b[0m\u001b[0m\n",
      "\u001b[1;31mNameError\u001b[0m: name 'max_length' is not defined"
     ]
    }
   ],
   "source": [
    "for i in range(0,max_length):\n",
    "    print(\"---------\")\n",
    "    for item in tbl:\n",
    "        if len(item[i])>0:\n",
    "            print(item[i])\n",
    "        else:\n",
    "            print(\"new\")     "
   ]
  },
  {
   "cell_type": "code",
   "execution_count": 61,
   "metadata": {},
   "outputs": [
    {
     "data": {
      "text/plain": [
       "{0: {0: ['Col1', 'Col2', 'Col3'],\n",
       "  1: ['Col11', 'Col12'],\n",
       "  2: ['Col11', 'Col12']}}"
      ]
     },
     "execution_count": 61,
     "metadata": {},
     "output_type": "execute_result"
    }
   ],
   "source": [
    "my_dict"
   ]
  },
  {
   "cell_type": "code",
   "execution_count": null,
   "metadata": {},
   "outputs": [],
   "source": []
  }
 ],
 "metadata": {
  "kernelspec": {
   "display_name": "base",
   "language": "python",
   "name": "python3"
  },
  "language_info": {
   "codemirror_mode": {
    "name": "ipython",
    "version": 3
   },
   "file_extension": ".py",
   "mimetype": "text/x-python",
   "name": "python",
   "nbconvert_exporter": "python",
   "pygments_lexer": "ipython3",
   "version": "3.9.13"
  }
 },
 "nbformat": 4,
 "nbformat_minor": 2
}
