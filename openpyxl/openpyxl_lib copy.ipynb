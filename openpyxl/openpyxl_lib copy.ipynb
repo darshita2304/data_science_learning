{
 "cells": [
  {
   "cell_type": "code",
   "execution_count": 2,
   "metadata": {},
   "outputs": [],
   "source": [
    "from openpyxl import Workbook\n",
    "\n",
    "workbook = Workbook()\n",
    "sheet = workbook.active\n",
    "\n",
    "sheet[\"A1\"] = \"hello\"\n",
    "sheet[\"B1\"] = \"world!\"\n",
    "\n",
    "workbook.save(filename=\"hello_world.xlsx\")"
   ]
  },
  {
   "cell_type": "code",
   "execution_count": 3,
   "metadata": {},
   "outputs": [
    {
     "data": {
      "text/plain": [
       "['Sheet1']"
      ]
     },
     "execution_count": 3,
     "metadata": {},
     "output_type": "execute_result"
    }
   ],
   "source": [
    "from openpyxl import load_workbook\n",
    "workbook = load_workbook(filename=\"./../new_test/sections_data.xlsx\")\n",
    "workbook.sheetnames"
   ]
  },
  {
   "cell_type": "code",
   "execution_count": 4,
   "metadata": {},
   "outputs": [],
   "source": [
    "main_sheet = workbook[\"Sheet1\"]"
   ]
  },
  {
   "cell_type": "code",
   "execution_count": 5,
   "metadata": {},
   "outputs": [
    {
     "data": {
      "text/plain": [
       "'Col1'"
      ]
     },
     "execution_count": 5,
     "metadata": {},
     "output_type": "execute_result"
    }
   ],
   "source": [
    "main_sheet[\"A1\"].value"
   ]
  },
  {
   "cell_type": "code",
   "execution_count": 6,
   "metadata": {},
   "outputs": [],
   "source": [
    "def get_rows(sheet):\n",
    "    row_list = list()\n",
    "    for row in sheet.iter_rows(values_only=True):\n",
    "        row_list.append(row)\n",
    "        \n",
    "    return row_list"
   ]
  },
  {
   "cell_type": "code",
   "execution_count": 7,
   "metadata": {},
   "outputs": [],
   "source": [
    "tables = get_rows(main_sheet)"
   ]
  },
  {
   "cell_type": "code",
   "execution_count": 1,
   "metadata": {},
   "outputs": [
    {
     "name": "stdout",
     "output_type": "stream",
     "text": [
      "[[1, 2, 3], [4, 5], [6, 7, 8]]\n"
     ]
    }
   ],
   "source": [
    "def split_list_by_value(lst, split_value):\n",
    "    \n",
    "    sublists = []\n",
    "    sublist = []\n",
    "\n",
    "    for item in lst:\n",
    "        \n",
    "        if item != split_value:\n",
    "            sublist.append(item)\n",
    "        else:\n",
    "            sublists.append(sublist)\n",
    "            sublist = []\n",
    "    # Append the remaining sublist after the last split value\n",
    "    if(len(sublist)>0):\n",
    "        sublists.append(sublist)\n",
    "\n",
    "    return sublists\n",
    "\n",
    "\n",
    "# Example usage:\n",
    "my_list = [1, 2, 3, 0, 4, 5, 0, 6, 7,8,0]\n",
    "split_value = 0\n",
    "result = split_list_by_value(my_list, split_value)\n",
    "print(result)"
   ]
  },
  {
   "cell_type": "code",
   "execution_count": 9,
   "metadata": {},
   "outputs": [
    {
     "data": {
      "text/plain": [
       "[('Col1',\n",
       "  'Col2',\n",
       "  'Col3',\n",
       "  None,\n",
       "  'Col11',\n",
       "  'Col12',\n",
       "  None,\n",
       "  'Col11',\n",
       "  'Col12',\n",
       "  None),\n",
       " (100, 100, 100, None, 100, 100, None, 100, 100, None),\n",
       " (100, 100, 100, None, 100, 100, None, 100, 100, None),\n",
       " (100, 100, 100, None, 100, 100, None, 100, 100, None),\n",
       " (100, 100, 100, None, 100, 100, None, 100, 100, None),\n",
       " (100, 100, 100, None, 100, 100, None, 100, 100, None),\n",
       " (100, 100, 100, None, 100, 100, None, 100, 100, None),\n",
       " (100, 100, 100, None, 100, 100, None, 100, 100, None),\n",
       " (100, 100, 100, None, 100, 100, None, 100, 100, None),\n",
       " (None, None, None, None, None, None, None, None, None, None),\n",
       " (None, 'Col1', 'Col2', 'Col3', 'Col4', None, 'Col1', 'Col2', 'Col3', 'Col4'),\n",
       " (None, 10, 100, 100, 100, None, 10, 100, 100, 100),\n",
       " (None, 10, 100, 100, 100, None, 10, 100, 100, 100),\n",
       " (None, 10, 100, 100, 100, None, 10, 100, 100, 100),\n",
       " (None, 10, 100, 100, 100, None, 10, 100, 100, 100)]"
      ]
     },
     "execution_count": 9,
     "metadata": {},
     "output_type": "execute_result"
    }
   ],
   "source": [
    "tables"
   ]
  },
  {
   "cell_type": "code",
   "execution_count": 30,
   "metadata": {},
   "outputs": [],
   "source": [
    "lst = {}\n",
    "cnt = 0\n",
    "for cols in tables:\n",
    "    res = split_list_by_value(cols, None)\n",
    "    if(len(res[0]) != 0): ## old rows..\n",
    "        pass\n",
    "    \n",
    "    lst[cnt] = {}\n",
    "    \n",
    "    for r in range(0,len(res)):\n",
    "        if len(res[r]) >0:\n",
    "            lst[cnt][r] = res[r]\n",
    "    cnt+=1\n",
    "    # print(res)"
   ]
  },
  {
   "cell_type": "code",
   "execution_count": 41,
   "metadata": {},
   "outputs": [
    {
     "data": {
      "text/plain": [
       "[('Col1',\n",
       "  'Col2',\n",
       "  'Col3',\n",
       "  None,\n",
       "  'Col11',\n",
       "  'Col12',\n",
       "  None,\n",
       "  'Col11',\n",
       "  'Col12',\n",
       "  None),\n",
       " (100, 100, 100, None, 100, 100, None, 100, 100, None),\n",
       " (100, 100, 100, None, 100, 100, None, 100, 100, None),\n",
       " (100, 100, 100, None, 100, 100, None, 100, 100, None),\n",
       " (100, 100, 100, None, 100, 100, None, 100, 100, None),\n",
       " (100, 100, 100, None, 100, 100, None, 100, 100, None),\n",
       " (100, 100, 100, None, 100, 100, None, 100, 100, None),\n",
       " (100, 100, 100, None, 100, 100, None, 100, 100, None),\n",
       " (100, 100, 100, None, 100, 100, None, 100, 100, None),\n",
       " (None, None, None, None, None, None, None, None, None, None),\n",
       " (None, 'Col1', 'Col2', 'Col3', 'Col4', None, 'Col1', 'Col2', 'Col3', 'Col4'),\n",
       " (None, 10, 100, 100, 100, None, 10, 100, 100, 100),\n",
       " (None, 10, 100, 100, 100, None, 10, 100, 100, 100),\n",
       " (None, 10, 100, 100, 100, None, 10, 100, 100, 100),\n",
       " (None, 10, 100, 100, 100, None, 10, 100, 100, 100)]"
      ]
     },
     "execution_count": 41,
     "metadata": {},
     "output_type": "execute_result"
    }
   ],
   "source": [
    "tables"
   ]
  },
  {
   "cell_type": "code",
   "execution_count": 67,
   "metadata": {},
   "outputs": [
    {
     "data": {
      "text/plain": [
       "list"
      ]
     },
     "execution_count": 67,
     "metadata": {},
     "output_type": "execute_result"
    }
   ],
   "source": [
    "type(tables)"
   ]
  },
  {
   "cell_type": "code",
   "execution_count": 79,
   "metadata": {},
   "outputs": [
    {
     "data": {
      "text/plain": [
       "15"
      ]
     },
     "execution_count": 79,
     "metadata": {},
     "output_type": "execute_result"
    }
   ],
   "source": [
    "max_col = len(tables[0])\n",
    "max_row = len(tables)"
   ]
  },
  {
   "cell_type": "code",
   "execution_count": 89,
   "metadata": {},
   "outputs": [
    {
     "name": "stdout",
     "output_type": "stream",
     "text": [
      "3 0\n",
      "6 0\n",
      "9 0\n",
      "0 9\n",
      "0 10\n",
      "0 11\n",
      "0 12\n",
      "0 13\n",
      "0 14\n"
     ]
    }
   ],
   "source": [
    "c = 0\n",
    "r = 0\n",
    "while (c < max_col):\n",
    "    \n",
    "    while tables[r][c] != None:\n",
    "        c = c + 1\n",
    "        pass\n",
    "  \n",
    "    print(str(c) + \" \" + str(r))\n",
    "    c = c + 1\n",
    "\n",
    "c =0    \n",
    "while(r < max_row):\n",
    "    while tables[r][c] != None:\n",
    "        r = r + 1\n",
    "        pass\n",
    "    print(str(c) + \" \" + str(r))\n",
    "    r = r + 1"
   ]
  },
  {
   "cell_type": "code",
   "execution_count": null,
   "metadata": {},
   "outputs": [],
   "source": []
  }
 ],
 "metadata": {
  "kernelspec": {
   "display_name": "base",
   "language": "python",
   "name": "python3"
  },
  "language_info": {
   "codemirror_mode": {
    "name": "ipython",
    "version": 3
   },
   "file_extension": ".py",
   "mimetype": "text/x-python",
   "name": "python",
   "nbconvert_exporter": "python",
   "pygments_lexer": "ipython3",
   "version": "3.9.13"
  }
 },
 "nbformat": 4,
 "nbformat_minor": 2
}
