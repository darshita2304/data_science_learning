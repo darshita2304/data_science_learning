{
 "cells": [
  {
   "cell_type": "code",
   "execution_count": 1,
   "metadata": {},
   "outputs": [],
   "source": [
    "import pandas as pd\n",
    "annexure_data = {'Column1': [1, 2, 3], 'Column2': ['A', 'B', 'C']}\n",
    "df_annexure = pd.DataFrame(annexure_data)"
   ]
  },
  {
   "cell_type": "code",
   "execution_count": 2,
   "metadata": {},
   "outputs": [],
   "source": [
    "# Create an ExcelWriter object\n",
    "with pd.ExcelWriter('your_excel_file.xlsx') as writer:\n",
    "\n",
    "    # Write the main data to a sheet (if you have any)\n",
    "    # df_main.to_excel(writer, sheet_name='Main Data', index=False)\n",
    "\n",
    "    # Write the annexure to a separate sheet\n",
    "    df_annexure.to_excel(writer, sheet_name='Annexure', index=False)"
   ]
  },
  {
   "cell_type": "code",
   "execution_count": 5,
   "metadata": {},
   "outputs": [],
   "source": [
    "import pandas as pd\n",
    "\n",
    "# Create a DataFrame for the main data\n",
    "df_main = pd.DataFrame({'Product': ['A', 'B', 'C'], 'Sales': [100, 200, 150]})\n",
    "\n",
    "# Create a DataFrame for the annexure\n",
    "df_annexure = pd.DataFrame({'Employee': ['John', 'Mary', 'Bob'], 'Salary': [50000, 60000, 55000]})\n",
    "\n",
    "# Write both DataFrames to an Excel file\n",
    "with pd.ExcelWriter('sales_report.xlsx') as writer:\n",
    "    df_main.to_excel(writer, sheet_name='Sales Data', index=False)\n",
    "    df_annexure.to_excel(writer, sheet_name='Employee Annexure', index=False)"
   ]
  },
  {
   "cell_type": "code",
   "execution_count": null,
   "metadata": {},
   "outputs": [],
   "source": []
  }
 ],
 "metadata": {
  "kernelspec": {
   "display_name": "base",
   "language": "python",
   "name": "python3"
  },
  "language_info": {
   "codemirror_mode": {
    "name": "ipython",
    "version": 3
   },
   "file_extension": ".py",
   "mimetype": "text/x-python",
   "name": "python",
   "nbconvert_exporter": "python",
   "pygments_lexer": "ipython3",
   "version": "3.11.7"
  }
 },
 "nbformat": 4,
 "nbformat_minor": 2
}
