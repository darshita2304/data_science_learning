{
 "cells": [
  {
   "cell_type": "code",
   "execution_count": 1,
   "metadata": {},
   "outputs": [],
   "source": [
    "import pandas as pd"
   ]
  },
  {
   "cell_type": "code",
   "execution_count": 14,
   "metadata": {},
   "outputs": [],
   "source": [
    "data = pd.read_csv(\"15971.csv\", float_precision='round_trip')"
   ]
  },
  {
   "cell_type": "code",
   "execution_count": 15,
   "metadata": {},
   "outputs": [
    {
     "data": {
      "text/html": [
       "<div>\n",
       "<style scoped>\n",
       "    .dataframe tbody tr th:only-of-type {\n",
       "        vertical-align: middle;\n",
       "    }\n",
       "\n",
       "    .dataframe tbody tr th {\n",
       "        vertical-align: top;\n",
       "    }\n",
       "\n",
       "    .dataframe thead th {\n",
       "        text-align: right;\n",
       "    }\n",
       "</style>\n",
       "<table border=\"1\" class=\"dataframe\">\n",
       "  <thead>\n",
       "    <tr style=\"text-align: right;\">\n",
       "      <th></th>\n",
       "      <th>wekalp_ref</th>\n",
       "      <th>BUSINESS_DATE</th>\n",
       "      <th>LOAN_NUM</th>\n",
       "      <th>MATURITY_DATE</th>\n",
       "      <th>START_DATE</th>\n",
       "      <th>OUTSTANDING_PRINCIPAL_AMOUNT</th>\n",
       "      <th>OUTSTANDING_INTEREST_AMOUNT</th>\n",
       "      <th>CURRENCY</th>\n",
       "      <th>BRANCH</th>\n",
       "      <th>PURPOSE</th>\n",
       "      <th>...</th>\n",
       "      <th>SECURED_IND</th>\n",
       "      <th>PRODUCT TYPE</th>\n",
       "      <th>CUSTOMER NAME</th>\n",
       "      <th>ORG_DESC</th>\n",
       "      <th>INDUSTRY_DESC</th>\n",
       "      <th>CUSTOMER_TYPE</th>\n",
       "      <th>TOT_OUT_AMT_INR</th>\n",
       "      <th>LR_BUCKET</th>\n",
       "      <th>SYSTEM_ASSET_CLASSIFICATION</th>\n",
       "      <th>Asset Classification ID</th>\n",
       "    </tr>\n",
       "  </thead>\n",
       "  <tbody>\n",
       "    <tr>\n",
       "      <th>0</th>\n",
       "      <td>wekalp_ref100</td>\n",
       "      <td>20221231</td>\n",
       "      <td>DUB-EUR-CM-13166-2</td>\n",
       "      <td>20250331</td>\n",
       "      <td>20200301</td>\n",
       "      <td>710949.67</td>\n",
       "      <td>3187.86</td>\n",
       "      <td>EUR</td>\n",
       "      <td>DUB</td>\n",
       "      <td>MM</td>\n",
       "      <td>...</td>\n",
       "      <td>Y</td>\n",
       "      <td>CM</td>\n",
       "      <td>ABC7773</td>\n",
       "      <td>Software</td>\n",
       "      <td>Wood</td>\n",
       "      <td>MEDIUM</td>\n",
       "      <td>6.294051e+07</td>\n",
       "      <td>Over 3 Months and upto 6 months</td>\n",
       "      <td>STANDARD</td>\n",
       "      <td>2</td>\n",
       "    </tr>\n",
       "    <tr>\n",
       "      <th>1</th>\n",
       "      <td>wekalp_ref101</td>\n",
       "      <td>20221231</td>\n",
       "      <td>DUB-EUR-CM-13166-2</td>\n",
       "      <td>20250331</td>\n",
       "      <td>20200301</td>\n",
       "      <td>546950.99</td>\n",
       "      <td>18616.93</td>\n",
       "      <td>GBP</td>\n",
       "      <td>DUB</td>\n",
       "      <td>LA</td>\n",
       "      <td>...</td>\n",
       "      <td>N</td>\n",
       "      <td>CM</td>\n",
       "      <td>ABC7773</td>\n",
       "      <td>Software</td>\n",
       "      <td>Wood</td>\n",
       "      <td>MEDIUM</td>\n",
       "      <td>5.628956e+07</td>\n",
       "      <td>8-14 Days</td>\n",
       "      <td>STANDARD</td>\n",
       "      <td>2</td>\n",
       "    </tr>\n",
       "    <tr>\n",
       "      <th>2</th>\n",
       "      <td>wekalp_ref102</td>\n",
       "      <td>20221231</td>\n",
       "      <td>DEL-EUR-CM-38474-6</td>\n",
       "      <td>20250331</td>\n",
       "      <td>20200301</td>\n",
       "      <td>1020211.44</td>\n",
       "      <td>5003.28</td>\n",
       "      <td>EUR</td>\n",
       "      <td>DEL</td>\n",
       "      <td>MM</td>\n",
       "      <td>...</td>\n",
       "      <td>N</td>\n",
       "      <td>CM</td>\n",
       "      <td>ABC5892</td>\n",
       "      <td>Real Estate</td>\n",
       "      <td>Leather</td>\n",
       "      <td>MEDIUM</td>\n",
       "      <td>9.035730e+07</td>\n",
       "      <td>Over 3 Years and upto 5 years</td>\n",
       "      <td>STANDARD</td>\n",
       "      <td>4</td>\n",
       "    </tr>\n",
       "    <tr>\n",
       "      <th>3</th>\n",
       "      <td>wekalp_ref103</td>\n",
       "      <td>20221231</td>\n",
       "      <td>DEL-GBP-CC-30262-7</td>\n",
       "      <td>20250331</td>\n",
       "      <td>20200301</td>\n",
       "      <td>1760344.25</td>\n",
       "      <td>8123.90</td>\n",
       "      <td>GBP</td>\n",
       "      <td>DEL</td>\n",
       "      <td>MM</td>\n",
       "      <td>...</td>\n",
       "      <td>N</td>\n",
       "      <td>CC</td>\n",
       "      <td>ABC6388</td>\n",
       "      <td>Individual</td>\n",
       "      <td>Food Processing</td>\n",
       "      <td>MEDIUM</td>\n",
       "      <td>1.760112e+08</td>\n",
       "      <td>Over 5 years and upto 7 years</td>\n",
       "      <td>STANDARD</td>\n",
       "      <td>4</td>\n",
       "    </tr>\n",
       "    <tr>\n",
       "      <th>4</th>\n",
       "      <td>wekalp_ref104</td>\n",
       "      <td>20221231</td>\n",
       "      <td>MUM-EUR-CC-63313-9</td>\n",
       "      <td>20250331</td>\n",
       "      <td>20200301</td>\n",
       "      <td>1259035.79</td>\n",
       "      <td>7133.13</td>\n",
       "      <td>EUR</td>\n",
       "      <td>MUM</td>\n",
       "      <td>LA</td>\n",
       "      <td>...</td>\n",
       "      <td>Y</td>\n",
       "      <td>CC</td>\n",
       "      <td>ABC6325</td>\n",
       "      <td>Aviation</td>\n",
       "      <td>Man Made Textiles</td>\n",
       "      <td>MEDIUM</td>\n",
       "      <td>1.115938e+08</td>\n",
       "      <td>More than 2 months and upto 3 months</td>\n",
       "      <td>STANDARD</td>\n",
       "      <td>4</td>\n",
       "    </tr>\n",
       "  </tbody>\n",
       "</table>\n",
       "<p>5 rows × 22 columns</p>\n",
       "</div>"
      ],
      "text/plain": [
       "      wekalp_ref  BUSINESS_DATE            LOAN_NUM  MATURITY_DATE  \\\n",
       "0  wekalp_ref100       20221231  DUB-EUR-CM-13166-2       20250331   \n",
       "1  wekalp_ref101       20221231  DUB-EUR-CM-13166-2       20250331   \n",
       "2  wekalp_ref102       20221231  DEL-EUR-CM-38474-6       20250331   \n",
       "3  wekalp_ref103       20221231  DEL-GBP-CC-30262-7       20250331   \n",
       "4  wekalp_ref104       20221231  MUM-EUR-CC-63313-9       20250331   \n",
       "\n",
       "   START_DATE  OUTSTANDING_PRINCIPAL_AMOUNT  OUTSTANDING_INTEREST_AMOUNT  \\\n",
       "0    20200301                     710949.67                      3187.86   \n",
       "1    20200301                     546950.99                     18616.93   \n",
       "2    20200301                    1020211.44                      5003.28   \n",
       "3    20200301                    1760344.25                      8123.90   \n",
       "4    20200301                    1259035.79                      7133.13   \n",
       "\n",
       "  CURRENCY BRANCH PURPOSE  ... SECURED_IND PRODUCT TYPE CUSTOMER NAME  \\\n",
       "0      EUR    DUB      MM  ...           Y           CM       ABC7773   \n",
       "1      GBP    DUB      LA  ...           N           CM       ABC7773   \n",
       "2      EUR    DEL      MM  ...           N           CM       ABC5892   \n",
       "3      GBP    DEL      MM  ...           N           CC       ABC6388   \n",
       "4      EUR    MUM      LA  ...           Y           CC       ABC6325   \n",
       "\n",
       "      ORG_DESC      INDUSTRY_DESC CUSTOMER_TYPE TOT_OUT_AMT_INR  \\\n",
       "0     Software               Wood        MEDIUM    6.294051e+07   \n",
       "1     Software               Wood        MEDIUM    5.628956e+07   \n",
       "2  Real Estate            Leather        MEDIUM    9.035730e+07   \n",
       "3   Individual    Food Processing        MEDIUM    1.760112e+08   \n",
       "4     Aviation  Man Made Textiles        MEDIUM    1.115938e+08   \n",
       "\n",
       "                              LR_BUCKET  SYSTEM_ASSET_CLASSIFICATION  \\\n",
       "0       Over 3 Months and upto 6 months                     STANDARD   \n",
       "1                             8-14 Days                     STANDARD   \n",
       "2         Over 3 Years and upto 5 years                     STANDARD   \n",
       "3         Over 5 years and upto 7 years                     STANDARD   \n",
       "4  More than 2 months and upto 3 months                     STANDARD   \n",
       "\n",
       "  Asset Classification ID  \n",
       "0                       2  \n",
       "1                       2  \n",
       "2                       4  \n",
       "3                       4  \n",
       "4                       4  \n",
       "\n",
       "[5 rows x 22 columns]"
      ]
     },
     "execution_count": 15,
     "metadata": {},
     "output_type": "execute_result"
    }
   ],
   "source": [
    "data.head()"
   ]
  },
  {
   "cell_type": "code",
   "execution_count": 16,
   "metadata": {},
   "outputs": [
    {
     "data": {
      "text/plain": [
       "pandas.core.frame.DataFrame"
      ]
     },
     "execution_count": 16,
     "metadata": {},
     "output_type": "execute_result"
    }
   ],
   "source": [
    "type(data)"
   ]
  },
  {
   "cell_type": "code",
   "execution_count": 17,
   "metadata": {},
   "outputs": [
    {
     "name": "stdout",
     "output_type": "stream",
     "text": [
      "<class 'pandas.core.frame.DataFrame'>\n",
      "RangeIndex: 6718 entries, 0 to 6717\n",
      "Data columns (total 22 columns):\n",
      " #   Column                        Non-Null Count  Dtype  \n",
      "---  ------                        --------------  -----  \n",
      " 0   wekalp_ref                    6718 non-null   object \n",
      " 1   BUSINESS_DATE                 6718 non-null   int64  \n",
      " 2   LOAN_NUM                      6718 non-null   object \n",
      " 3   MATURITY_DATE                 6718 non-null   int64  \n",
      " 4   START_DATE                    6718 non-null   int64  \n",
      " 5   OUTSTANDING_PRINCIPAL_AMOUNT  6718 non-null   float64\n",
      " 6   OUTSTANDING_INTEREST_AMOUNT   6718 non-null   float64\n",
      " 7   CURRENCY                      6718 non-null   object \n",
      " 8   BRANCH                        6718 non-null   object \n",
      " 9   PURPOSE                       6718 non-null   object \n",
      " 10  CUSTOMER_CODE                 6718 non-null   object \n",
      " 11  COUNTERPARTY_TYPE             6718 non-null   object \n",
      " 12  SECURED_IND                   6718 non-null   object \n",
      " 13  PRODUCT TYPE                  6718 non-null   object \n",
      " 14  CUSTOMER NAME                 6718 non-null   object \n",
      " 15  ORG_DESC                      6718 non-null   object \n",
      " 16  INDUSTRY_DESC                 6718 non-null   object \n",
      " 17  CUSTOMER_TYPE                 6718 non-null   object \n",
      " 18  TOT_OUT_AMT_INR               6718 non-null   float64\n",
      " 19  LR_BUCKET                     6718 non-null   object \n",
      " 20  SYSTEM_ASSET_CLASSIFICATION   6718 non-null   object \n",
      " 21  Asset Classification ID       6718 non-null   int64  \n",
      "dtypes: float64(3), int64(4), object(15)\n",
      "memory usage: 1.1+ MB\n"
     ]
    }
   ],
   "source": [
    "data.info()"
   ]
  },
  {
   "cell_type": "code",
   "execution_count": 18,
   "metadata": {},
   "outputs": [
    {
     "data": {
      "text/plain": [
       "0       6.294051e+07\n",
       "1       5.628956e+07\n",
       "2       9.035730e+07\n",
       "3       1.760112e+08\n",
       "4       1.115938e+08\n",
       "            ...     \n",
       "6713    4.234450e+07\n",
       "6714    1.278605e+07\n",
       "6715    5.641376e+07\n",
       "6716    8.876983e+07\n",
       "6717    7.440263e+07\n",
       "Name: TOT_OUT_AMT_INR, Length: 6718, dtype: float64"
      ]
     },
     "execution_count": 18,
     "metadata": {},
     "output_type": "execute_result"
    }
   ],
   "source": [
    "data['TOT_OUT_AMT_INR']"
   ]
  },
  {
   "cell_type": "code",
   "execution_count": 19,
   "metadata": {},
   "outputs": [],
   "source": [
    "writer = pd.ExcelWriter('data.xlsx')\n",
    "data.to_excel(writer)\n",
    "writer.save()"
   ]
  },
  {
   "cell_type": "code",
   "execution_count": null,
   "metadata": {},
   "outputs": [
    {
     "ename": "",
     "evalue": "",
     "output_type": "error",
     "traceback": [
      "\u001b[1;31mRunning cells with 'anaconda3 (Python 3.9.13)' requires the ipykernel package.\n",
      "\u001b[1;31mRun the following command to install 'ipykernel' into the Python environment. \n",
      "\u001b[1;31mCommand: 'conda install -p f:\\anaconda3 ipykernel --update-deps --force-reinstall'"
     ]
    }
   ],
   "source": [
    "data.to_csv(\"test.csv\", float_format=\"%.7f\")  # for 3 decimal places"
   ]
  },
  {
   "cell_type": "code",
   "execution_count": null,
   "metadata": {},
   "outputs": [
    {
     "ename": "",
     "evalue": "",
     "output_type": "error",
     "traceback": [
      "\u001b[1;31mRunning cells with 'anaconda3 (Python 2022.10.-1)' requires the ipykernel package.\n",
      "\u001b[1;31mRun the following command to install 'ipykernel' into the Python environment. \n",
      "\u001b[1;31mCommand: 'conda install -p f:\\anaconda3 ipykernel --update-deps --force-reinstall'"
     ]
    }
   ],
   "source": [
    "os.getenv()"
   ]
  },
  {
   "cell_type": "code",
   "execution_count": null,
   "metadata": {},
   "outputs": [
    {
     "ename": "",
     "evalue": "",
     "output_type": "error",
     "traceback": [
      "\u001b[1;31mRunning cells with 'anaconda3 (Python 2022.10.-1)' requires the ipykernel package.\n",
      "\u001b[1;31mRun the following command to install 'ipykernel' into the Python environment. \n",
      "\u001b[1;31mCommand: 'conda install -p f:\\anaconda3 ipykernel --update-deps --force-reinstall'"
     ]
    }
   ],
   "source": [
    "conda install -p f:\\anaconda3 ipykernel --update-deps --force-reinstall"
   ]
  },
  {
   "cell_type": "code",
   "execution_count": null,
   "metadata": {},
   "outputs": [],
   "source": []
  }
 ],
 "metadata": {
  "kernelspec": {
   "display_name": "venv",
   "language": "python",
   "name": "python3"
  },
  "language_info": {
   "codemirror_mode": {
    "name": "ipython",
    "version": 3
   },
   "file_extension": ".py",
   "mimetype": "text/x-python",
   "name": "python",
   "nbconvert_exporter": "python",
   "pygments_lexer": "ipython3",
   "version": "2022.10.undefined"
  }
 },
 "nbformat": 4,
 "nbformat_minor": 2
}
