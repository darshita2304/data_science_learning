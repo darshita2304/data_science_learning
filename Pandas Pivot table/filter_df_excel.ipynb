{
 "cells": [
  {
   "cell_type": "code",
   "execution_count": 1,
   "metadata": {},
   "outputs": [
    {
     "name": "stdout",
     "output_type": "stream",
     "text": [
      "Excel file with filters saved as 'filtered_fruits.xlsx'\n"
     ]
    }
   ],
   "source": [
    "from openpyxl import Workbook\n",
    "\n",
    "# Create a new workbook and select the active worksheet\n",
    "wb = Workbook()\n",
    "ws = wb.active\n",
    "\n",
    "# Sample data\n",
    "data = [\n",
    "    [\"Fruit\", \"Quantity\"],\n",
    "    [\"Kiwi\", 3],\n",
    "    [\"Grape\", 15],\n",
    "    [\"Apple\", 3],\n",
    "    [\"Peach\", 3],\n",
    "    [\"Pomegranate\", 3],\n",
    "    [\"Pear\", 3],\n",
    "    [\"Tangerine\", 3],\n",
    "    [\"Blueberry\", 3],\n",
    "    [\"Mango\", 3],\n",
    "    [\"Watermelon\", 3],\n",
    "    [\"Blackberry\", 3],\n",
    "    [\"Orange\", 3],\n",
    "    [\"Raspberry\", 3],\n",
    "    [\"Banana\", 3]\n",
    "]\n",
    "\n",
    "# Append data to worksheet\n",
    "for row in data:\n",
    "    ws.append(row)\n",
    "\n",
    "# Set the auto filter range\n",
    "ws.auto_filter.ref = \"A1:B15\"\n",
    "\n",
    "# Add filter conditions and sort conditions\n",
    "ws.auto_filter.add_filter_column(0, [\"Kiwi\", \"Apple\", \"Mango\"])   # Filter by specific fruits\n",
    "ws.auto_filter.add_sort_condition(\"B2:B15\")                        # Sort by Quantity\n",
    "\n",
    "# Save the workbook to a file\n",
    "wb.save(\"filtered_fruits.xlsx\")\n",
    "print(\"Excel file with filters saved as 'filtered_fruits.xlsx'\")"
   ]
  },
  {
   "cell_type": "code",
   "execution_count": null,
   "metadata": {},
   "outputs": [],
   "source": []
  }
 ],
 "metadata": {
  "kernelspec": {
   "display_name": "base",
   "language": "python",
   "name": "python3"
  },
  "language_info": {
   "codemirror_mode": {
    "name": "ipython",
    "version": 3
   },
   "file_extension": ".py",
   "mimetype": "text/x-python",
   "name": "python",
   "nbconvert_exporter": "python",
   "pygments_lexer": "ipython3",
   "version": "3.11.7"
  }
 },
 "nbformat": 4,
 "nbformat_minor": 2
}
