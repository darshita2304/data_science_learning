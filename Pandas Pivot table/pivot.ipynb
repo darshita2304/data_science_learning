{
 "cells": [
  {
   "cell_type": "code",
   "execution_count": 2,
   "metadata": {},
   "outputs": [],
   "source": [
    "import pandas as pd"
   ]
  },
  {
   "cell_type": "code",
   "execution_count": 27,
   "metadata": {},
   "outputs": [],
   "source": [
    "df = pd.read_csv('Forwards.csv')"
   ]
  },
  {
   "cell_type": "code",
   "execution_count": 28,
   "metadata": {},
   "outputs": [
    {
     "data": {
      "text/html": [
       "<div>\n",
       "<style scoped>\n",
       "    .dataframe tbody tr th:only-of-type {\n",
       "        vertical-align: middle;\n",
       "    }\n",
       "\n",
       "    .dataframe tbody tr th {\n",
       "        vertical-align: top;\n",
       "    }\n",
       "\n",
       "    .dataframe thead th {\n",
       "        text-align: right;\n",
       "    }\n",
       "</style>\n",
       "<table border=\"1\" class=\"dataframe\">\n",
       "  <thead>\n",
       "    <tr style=\"text-align: right;\">\n",
       "      <th></th>\n",
       "      <th>India Id</th>\n",
       "      <th>Trade Id</th>\n",
       "      <th>Product Description</th>\n",
       "      <th>Trade Date</th>\n",
       "      <th>Start Date</th>\n",
       "      <th>MR_MATURITY_DATE</th>\n",
       "      <th>Entered Date</th>\n",
       "      <th>CounterParty (F)</th>\n",
       "      <th>Book</th>\n",
       "      <th>Buy/Sell</th>\n",
       "      <th>Currency Pair</th>\n",
       "      <th>Prim Cur</th>\n",
       "      <th>Prim Amt</th>\n",
       "      <th>Trade Price</th>\n",
       "      <th>Sec Cur</th>\n",
       "      <th>Sec Amt</th>\n",
       "      <th>TradeStatus</th>\n",
       "    </tr>\n",
       "  </thead>\n",
       "  <tbody>\n",
       "    <tr>\n",
       "      <th>0</th>\n",
       "      <td>26997</td>\n",
       "      <td>13782015.0</td>\n",
       "      <td>2199667/FXFlexiForward/MerchantFX/RETAIL/USD/I...</td>\n",
       "      <td>01-03-21 0:00</td>\n",
       "      <td>01-09-21</td>\n",
       "      <td>07-03-24</td>\n",
       "      <td>01-03-21 0:00</td>\n",
       "      <td>Counterparty 1</td>\n",
       "      <td>TB.IND.TRADING.TIMEOPT</td>\n",
       "      <td>Buy</td>\n",
       "      <td>USD/INR</td>\n",
       "      <td>USD</td>\n",
       "      <td>450000</td>\n",
       "      <td>75.38</td>\n",
       "      <td>INR</td>\n",
       "      <td>-33921000.00</td>\n",
       "      <td>VERIFIED</td>\n",
       "    </tr>\n",
       "    <tr>\n",
       "      <th>1</th>\n",
       "      <td>27966</td>\n",
       "      <td>14734932.0</td>\n",
       "      <td>2219298/FXFlexiForward/MerchantFX/RETAIL/USD/I...</td>\n",
       "      <td>12-03-21 0:00</td>\n",
       "      <td>30-07-21</td>\n",
       "      <td>23-03-25</td>\n",
       "      <td>12-03-21 0:00</td>\n",
       "      <td>Counterparty 2</td>\n",
       "      <td>TB.IND.TRADING.TIMEOPT</td>\n",
       "      <td>Buy</td>\n",
       "      <td>USD/INR</td>\n",
       "      <td>USD</td>\n",
       "      <td>83395.63</td>\n",
       "      <td>74.21</td>\n",
       "      <td>INR</td>\n",
       "      <td>-6188581.22</td>\n",
       "      <td>VERIFIED</td>\n",
       "    </tr>\n",
       "  </tbody>\n",
       "</table>\n",
       "</div>"
      ],
      "text/plain": [
       "   India Id    Trade Id                                Product Description  \\\n",
       "0     26997  13782015.0  2199667/FXFlexiForward/MerchantFX/RETAIL/USD/I...   \n",
       "1     27966  14734932.0  2219298/FXFlexiForward/MerchantFX/RETAIL/USD/I...   \n",
       "\n",
       "      Trade Date Start Date MR_MATURITY_DATE   Entered Date CounterParty (F)  \\\n",
       "0  01-03-21 0:00   01-09-21         07-03-24  01-03-21 0:00   Counterparty 1   \n",
       "1  12-03-21 0:00   30-07-21         23-03-25  12-03-21 0:00   Counterparty 2   \n",
       "\n",
       "                     Book Buy/Sell Currency Pair Prim Cur  Prim Amt  \\\n",
       "0  TB.IND.TRADING.TIMEOPT      Buy       USD/INR      USD    450000   \n",
       "1  TB.IND.TRADING.TIMEOPT      Buy       USD/INR      USD  83395.63   \n",
       "\n",
       "  Trade Price Sec Cur      Sec Amt TradeStatus  \n",
       "0       75.38     INR -33921000.00    VERIFIED  \n",
       "1       74.21     INR  -6188581.22    VERIFIED  "
      ]
     },
     "execution_count": 28,
     "metadata": {},
     "output_type": "execute_result"
    }
   ],
   "source": [
    "df.head(2)"
   ]
  },
  {
   "cell_type": "code",
   "execution_count": 35,
   "metadata": {},
   "outputs": [],
   "source": [
    "table = pd.pivot_table(df, values='Sec Amt', index=['CounterParty (F)', 'Book'],\n",
    "                       columns=['Buy/Sell','Prim Cur'], aggfunc=\"sum\")"
   ]
  },
  {
   "cell_type": "code",
   "execution_count": 37,
   "metadata": {},
   "outputs": [
    {
     "data": {
      "text/html": [
       "<div>\n",
       "<style scoped>\n",
       "    .dataframe tbody tr th:only-of-type {\n",
       "        vertical-align: middle;\n",
       "    }\n",
       "\n",
       "    .dataframe tbody tr th {\n",
       "        vertical-align: top;\n",
       "    }\n",
       "\n",
       "    .dataframe thead tr th {\n",
       "        text-align: left;\n",
       "    }\n",
       "\n",
       "    .dataframe thead tr:last-of-type th {\n",
       "        text-align: right;\n",
       "    }\n",
       "</style>\n",
       "<table border=\"1\" class=\"dataframe\">\n",
       "  <thead>\n",
       "    <tr>\n",
       "      <th></th>\n",
       "      <th>Buy/Sell</th>\n",
       "      <th>Buy</th>\n",
       "      <th>Sell</th>\n",
       "    </tr>\n",
       "    <tr>\n",
       "      <th></th>\n",
       "      <th>Prim Cur</th>\n",
       "      <th>USD</th>\n",
       "      <th>USD</th>\n",
       "    </tr>\n",
       "    <tr>\n",
       "      <th>CounterParty (F)</th>\n",
       "      <th>Book</th>\n",
       "      <th></th>\n",
       "      <th></th>\n",
       "    </tr>\n",
       "  </thead>\n",
       "  <tbody>\n",
       "    <tr>\n",
       "      <th>Counterparty 1</th>\n",
       "      <th>TB.IND.TRADING.TIMEOPT</th>\n",
       "      <td>-33921000.0</td>\n",
       "      <td>NaN</td>\n",
       "    </tr>\n",
       "    <tr>\n",
       "      <th>Counterparty 10</th>\n",
       "      <th>TB.IND.TRADING.TIMEOPT</th>\n",
       "      <td>NaN</td>\n",
       "      <td>18716269.43</td>\n",
       "    </tr>\n",
       "    <tr>\n",
       "      <th>Counterparty 11</th>\n",
       "      <th>TB.IND.TRADING.TIMEOPT</th>\n",
       "      <td>NaN</td>\n",
       "      <td>23284669.84</td>\n",
       "    </tr>\n",
       "  </tbody>\n",
       "</table>\n",
       "</div>"
      ],
      "text/plain": [
       "Buy/Sell                                        Buy         Sell\n",
       "Prim Cur                                        USD          USD\n",
       "CounterParty (F) Book                                           \n",
       "Counterparty 1   TB.IND.TRADING.TIMEOPT -33921000.0          NaN\n",
       "Counterparty 10  TB.IND.TRADING.TIMEOPT         NaN  18716269.43\n",
       "Counterparty 11  TB.IND.TRADING.TIMEOPT         NaN  23284669.84"
      ]
     },
     "execution_count": 37,
     "metadata": {},
     "output_type": "execute_result"
    }
   ],
   "source": [
    "table.head(3)"
   ]
  },
  {
   "cell_type": "code",
   "execution_count": 39,
   "metadata": {},
   "outputs": [
    {
     "data": {
      "text/plain": [
       "'{\"(\\'Buy\\', \\'USD\\')\":{\"(\\'Counterparty 1\\', \\'TB.IND.TRADING.TIMEOPT\\')\":-33921000.0,\"(\\'Counterparty 10\\', \\'TB.IND.TRADING.TIMEOPT\\')\":null,\"(\\'Counterparty 11\\', \\'TB.IND.TRADING.TIMEOPT\\')\":null,\"(\\'Counterparty 12\\', \\'TB.IND.TRADING.TIMEOPT\\')\":null,\"(\\'Counterparty 13\\', \\'TB.IND.TRADING.TIMEOPT\\')\":null,\"(\\'Counterparty 14\\', \\'TB.IND.TRADING.TIMEOPT\\')\":null,\"(\\'Counterparty 15\\', \\'TB.IND.TRADING.TIMEOPT\\')\":null,\"(\\'Counterparty 16\\', \\'TB.IND.TRADING.TIMEOPT\\')\":null,\"(\\'Counterparty 17\\', \\'TB.IND.TRADING.TIMEOPT\\')\":null,\"(\\'Counterparty 18\\', \\'TB.IND.TRADING.TIMEOPT\\')\":null,\"(\\'Counterparty 19\\', \\'TB.IND.TRADING.TIMEOPT\\')\":null,\"(\\'Counterparty 2\\', \\'TB.IND.TRADING.TIMEOPT\\')\":-6188581.2199999997,\"(\\'Counterparty 20\\', \\'TB.IND.TRADING.TIMEOPT\\')\":null,\"(\\'Counterparty 21\\', \\'TB.IND.TRADING.TIMEOPT\\')\":null,\"(\\'Counterparty 22\\', \\'TB.IND.TRADING.TIMEOPT\\')\":null,\"(\\'Counterparty 23\\', \\'TB.IND.TRADING.TIMEOPT\\')\":null,\"(\\'Counterparty 24\\', \\'TB.IND.TRADING.TIMEOPT\\')\":null,\"(\\'Counterparty 25\\', \\'TB.IND.TRADING.TIMEOPT\\')\":null,\"(\\'Counterparty 26\\', \\'TB.IND.TRADING.TIMEOPT\\')\":null,\"(\\'Counterparty 27\\', \\'TB.IND.TRADING.TIMEOPT\\')\":null,\"(\\'Counterparty 3\\', \\'TB.IND.TRADING.TIMEOPT\\')\":-74635000.0,\"(\\'Counterparty 4\\', \\'TB.IND.TRADING.TIMEOPT\\')\":-71162125.0,\"(\\'Counterparty 5\\', \\'TB.IND.TRADING.TIMEOPT\\')\":-71409125.0,\"(\\'Counterparty 6\\', \\'TB.IND.TRADING.TIMEOPT\\')\":0.0,\"(\\'Counterparty 7\\', \\'TB.IND.TRADING.TIMEOPT\\')\":-149902600.0,\"(\\'Counterparty 8\\', \\'TB.IND.TRADING.TIMEOPT\\')\":-75205000.0,\"(\\'Counterparty 9\\', \\'TB.IND.TRADING.TIMEOPT\\')\":-75745000.0},\"(\\'Sell\\', \\'USD\\')\":{\"(\\'Counterparty 1\\', \\'TB.IND.TRADING.TIMEOPT\\')\":null,\"(\\'Counterparty 10\\', \\'TB.IND.TRADING.TIMEOPT\\')\":18716269.4299999997,\"(\\'Counterparty 11\\', \\'TB.IND.TRADING.TIMEOPT\\')\":23284669.8399999999,\"(\\'Counterparty 12\\', \\'TB.IND.TRADING.TIMEOPT\\')\":1331773.0,\"(\\'Counterparty 13\\', \\'TB.IND.TRADING.TIMEOPT\\')\":13081414.5,\"(\\'Counterparty 14\\', \\'TB.IND.TRADING.TIMEOPT\\')\":18075676.5,\"(\\'Counterparty 15\\', \\'TB.IND.TRADING.TIMEOPT\\')\":369562500.0,\"(\\'Counterparty 16\\', \\'TB.IND.TRADING.TIMEOPT\\')\":736200000.0,\"(\\'Counterparty 17\\', \\'TB.IND.TRADING.TIMEOPT\\')\":0.0,\"(\\'Counterparty 18\\', \\'TB.IND.TRADING.TIMEOPT\\')\":765579.62,\"(\\'Counterparty 19\\', \\'TB.IND.TRADING.TIMEOPT\\')\":73091302.0100000054,\"(\\'Counterparty 2\\', \\'TB.IND.TRADING.TIMEOPT\\')\":null,\"(\\'Counterparty 20\\', \\'TB.IND.TRADING.TIMEOPT\\')\":0.0,\"(\\'Counterparty 21\\', \\'TB.IND.TRADING.TIMEOPT\\')\":63692625.0,\"(\\'Counterparty 22\\', \\'TB.IND.TRADING.TIMEOPT\\')\":70471800.0,\"(\\'Counterparty 23\\', \\'TB.IND.TRADING.TIMEOPT\\')\":206222500.0,\"(\\'Counterparty 24\\', \\'TB.IND.TRADING.TIMEOPT\\')\":210097345.3000000119,\"(\\'Counterparty 25\\', \\'TB.IND.TRADING.TIMEOPT\\')\":68735004.3799999952,\"(\\'Counterparty 26\\', \\'TB.IND.TRADING.TIMEOPT\\')\":374750000.0,\"(\\'Counterparty 27\\', \\'TB.IND.TRADING.TIMEOPT\\')\":299480000.0,\"(\\'Counterparty 3\\', \\'TB.IND.TRADING.TIMEOPT\\')\":null,\"(\\'Counterparty 4\\', \\'TB.IND.TRADING.TIMEOPT\\')\":null,\"(\\'Counterparty 5\\', \\'TB.IND.TRADING.TIMEOPT\\')\":null,\"(\\'Counterparty 6\\', \\'TB.IND.TRADING.TIMEOPT\\')\":null,\"(\\'Counterparty 7\\', \\'TB.IND.TRADING.TIMEOPT\\')\":null,\"(\\'Counterparty 8\\', \\'TB.IND.TRADING.TIMEOPT\\')\":null,\"(\\'Counterparty 9\\', \\'TB.IND.TRADING.TIMEOPT\\')\":null}}'"
      ]
     },
     "execution_count": 39,
     "metadata": {},
     "output_type": "execute_result"
    }
   ],
   "source": [
    "table.to_json(orient='columns')"
   ]
  },
  {
   "cell_type": "code",
   "execution_count": 18,
   "metadata": {},
   "outputs": [
    {
     "data": {
      "text/plain": [
       "pandas.core.frame.DataFrame"
      ]
     },
     "execution_count": 18,
     "metadata": {},
     "output_type": "execute_result"
    }
   ],
   "source": [
    "type(table)"
   ]
  },
  {
   "cell_type": "code",
   "execution_count": 30,
   "metadata": {},
   "outputs": [],
   "source": [
    "import numpy as np\n",
    "import pandas as pd\n",
    "data = {\n",
    "    'Category': ['A', 'A', 'B', 'B', 'C'],\n",
    "    'Category1': ['AA', 'AB', 'BB', 'BB', 'AC'],\n",
    "    'Set': ['Set A', 'Set A', 'Set A', 'Set B','Set B'],\n",
    "    'Test': ['Test A', 'Test A', 'Test B', 'Test B','Test B'],\n",
    "    'Value1': [10, 20, 30, 40, 50],\n",
    "    'Value2': [5, 15, 25, 35, 45]\n",
    "}\n",
    "df = pd.DataFrame(data)\n",
    "pivot_table = df.pivot_table(\n",
    "    index=['Category','Category1'],\n",
    "    columns=['Set','Test'],\n",
    "    values=['Value1', 'Value2'],\n",
    "    aggfunc='sum',\n",
    "    margins=True,\n",
    "    margins_name=\"total\"\n",
    ")"
   ]
  },
  {
   "cell_type": "code",
   "execution_count": 31,
   "metadata": {},
   "outputs": [
    {
     "data": {
      "text/plain": [
       "MultiIndex([('Value1', 'Set A', 'Test A'),\n",
       "            ('Value1', 'Set A', 'Test B'),\n",
       "            ('Value1', 'Set B', 'Test B'),\n",
       "            ('Value1', 'total',       ''),\n",
       "            ('Value2', 'Set A', 'Test A'),\n",
       "            ('Value2', 'Set A', 'Test B'),\n",
       "            ('Value2', 'Set B', 'Test B'),\n",
       "            ('Value2', 'total',       '')],\n",
       "           names=[None, 'Set', 'Test'])"
      ]
     },
     "execution_count": 31,
     "metadata": {},
     "output_type": "execute_result"
    }
   ],
   "source": [
    "pivot_table.columns"
   ]
  },
  {
   "cell_type": "code",
   "execution_count": 32,
   "metadata": {},
   "outputs": [
    {
     "data": {
      "text/html": [
       "<div>\n",
       "<style scoped>\n",
       "    .dataframe tbody tr th:only-of-type {\n",
       "        vertical-align: middle;\n",
       "    }\n",
       "\n",
       "    .dataframe tbody tr th {\n",
       "        vertical-align: top;\n",
       "    }\n",
       "\n",
       "    .dataframe thead tr th {\n",
       "        text-align: left;\n",
       "    }\n",
       "\n",
       "    .dataframe thead tr:last-of-type th {\n",
       "        text-align: right;\n",
       "    }\n",
       "</style>\n",
       "<table border=\"1\" class=\"dataframe\">\n",
       "  <thead>\n",
       "    <tr>\n",
       "      <th></th>\n",
       "      <th></th>\n",
       "      <th colspan=\"4\" halign=\"left\">Value1</th>\n",
       "      <th colspan=\"4\" halign=\"left\">Value2</th>\n",
       "    </tr>\n",
       "    <tr>\n",
       "      <th></th>\n",
       "      <th>Set</th>\n",
       "      <th colspan=\"2\" halign=\"left\">Set A</th>\n",
       "      <th>Set B</th>\n",
       "      <th>total</th>\n",
       "      <th colspan=\"2\" halign=\"left\">Set A</th>\n",
       "      <th>Set B</th>\n",
       "      <th>total</th>\n",
       "    </tr>\n",
       "    <tr>\n",
       "      <th></th>\n",
       "      <th>Test</th>\n",
       "      <th>Test A</th>\n",
       "      <th>Test B</th>\n",
       "      <th>Test B</th>\n",
       "      <th></th>\n",
       "      <th>Test A</th>\n",
       "      <th>Test B</th>\n",
       "      <th>Test B</th>\n",
       "      <th></th>\n",
       "    </tr>\n",
       "    <tr>\n",
       "      <th>Category</th>\n",
       "      <th>Category1</th>\n",
       "      <th></th>\n",
       "      <th></th>\n",
       "      <th></th>\n",
       "      <th></th>\n",
       "      <th></th>\n",
       "      <th></th>\n",
       "      <th></th>\n",
       "      <th></th>\n",
       "    </tr>\n",
       "  </thead>\n",
       "  <tbody>\n",
       "    <tr>\n",
       "      <th rowspan=\"2\" valign=\"top\">A</th>\n",
       "      <th>AA</th>\n",
       "      <td>10.0</td>\n",
       "      <td>NaN</td>\n",
       "      <td>NaN</td>\n",
       "      <td>10</td>\n",
       "      <td>5.0</td>\n",
       "      <td>NaN</td>\n",
       "      <td>NaN</td>\n",
       "      <td>5</td>\n",
       "    </tr>\n",
       "    <tr>\n",
       "      <th>AB</th>\n",
       "      <td>20.0</td>\n",
       "      <td>NaN</td>\n",
       "      <td>NaN</td>\n",
       "      <td>20</td>\n",
       "      <td>15.0</td>\n",
       "      <td>NaN</td>\n",
       "      <td>NaN</td>\n",
       "      <td>15</td>\n",
       "    </tr>\n",
       "    <tr>\n",
       "      <th>B</th>\n",
       "      <th>BB</th>\n",
       "      <td>NaN</td>\n",
       "      <td>30.0</td>\n",
       "      <td>40.0</td>\n",
       "      <td>70</td>\n",
       "      <td>NaN</td>\n",
       "      <td>25.0</td>\n",
       "      <td>35.0</td>\n",
       "      <td>60</td>\n",
       "    </tr>\n",
       "    <tr>\n",
       "      <th>C</th>\n",
       "      <th>AC</th>\n",
       "      <td>NaN</td>\n",
       "      <td>NaN</td>\n",
       "      <td>50.0</td>\n",
       "      <td>50</td>\n",
       "      <td>NaN</td>\n",
       "      <td>NaN</td>\n",
       "      <td>45.0</td>\n",
       "      <td>45</td>\n",
       "    </tr>\n",
       "    <tr>\n",
       "      <th>total</th>\n",
       "      <th></th>\n",
       "      <td>30.0</td>\n",
       "      <td>30.0</td>\n",
       "      <td>90.0</td>\n",
       "      <td>150</td>\n",
       "      <td>20.0</td>\n",
       "      <td>25.0</td>\n",
       "      <td>80.0</td>\n",
       "      <td>125</td>\n",
       "    </tr>\n",
       "  </tbody>\n",
       "</table>\n",
       "</div>"
      ],
      "text/plain": [
       "                   Value1                     Value2                    \n",
       "Set                 Set A         Set B total  Set A         Set B total\n",
       "Test               Test A Test B Test B       Test A Test B Test B      \n",
       "Category Category1                                                      \n",
       "A        AA          10.0    NaN    NaN    10    5.0    NaN    NaN     5\n",
       "         AB          20.0    NaN    NaN    20   15.0    NaN    NaN    15\n",
       "B        BB           NaN   30.0   40.0    70    NaN   25.0   35.0    60\n",
       "C        AC           NaN    NaN   50.0    50    NaN    NaN   45.0    45\n",
       "total                30.0   30.0   90.0   150   20.0   25.0   80.0   125"
      ]
     },
     "execution_count": 32,
     "metadata": {},
     "output_type": "execute_result"
    }
   ],
   "source": [
    "pivot_table"
   ]
  },
  {
   "cell_type": "code",
   "execution_count": 35,
   "metadata": {},
   "outputs": [
    {
     "data": {
      "text/plain": [
       "'<table border=\"1\" class=\"dataframe\">\\n  <thead>\\n    <tr>\\n      <th></th>\\n      <th></th>\\n      <th colspan=\"4\" halign=\"left\">Value1</th>\\n      <th colspan=\"4\" halign=\"left\">Value2</th>\\n    </tr>\\n    <tr>\\n      <th></th>\\n      <th>Set</th>\\n      <th colspan=\"2\" halign=\"left\">Set A</th>\\n      <th>Set B</th>\\n      <th>total</th>\\n      <th colspan=\"2\" halign=\"left\">Set A</th>\\n      <th>Set B</th>\\n      <th>total</th>\\n    </tr>\\n    <tr>\\n      <th></th>\\n      <th>Test</th>\\n      <th>Test A</th>\\n      <th>Test B</th>\\n      <th>Test B</th>\\n      <th></th>\\n      <th>Test A</th>\\n      <th>Test B</th>\\n      <th>Test B</th>\\n      <th></th>\\n    </tr>\\n    <tr>\\n      <th>Category</th>\\n      <th>Category1</th>\\n      <th></th>\\n      <th></th>\\n      <th></th>\\n      <th></th>\\n      <th></th>\\n      <th></th>\\n      <th></th>\\n      <th></th>\\n    </tr>\\n  </thead>\\n  <tbody>\\n    <tr>\\n      <th rowspan=\"2\" valign=\"top\">A</th>\\n      <th>AA</th>\\n      <td>10.0</td>\\n      <td>NaN</td>\\n      <td>NaN</td>\\n      <td>10</td>\\n      <td>5.0</td>\\n      <td>NaN</td>\\n      <td>NaN</td>\\n      <td>5</td>\\n    </tr>\\n    <tr>\\n      <th>AB</th>\\n      <td>20.0</td>\\n      <td>NaN</td>\\n      <td>NaN</td>\\n      <td>20</td>\\n      <td>15.0</td>\\n      <td>NaN</td>\\n      <td>NaN</td>\\n      <td>15</td>\\n    </tr>\\n    <tr>\\n      <th>B</th>\\n      <th>BB</th>\\n      <td>NaN</td>\\n      <td>30.0</td>\\n      <td>40.0</td>\\n      <td>70</td>\\n      <td>NaN</td>\\n      <td>25.0</td>\\n      <td>35.0</td>\\n      <td>60</td>\\n    </tr>\\n    <tr>\\n      <th>C</th>\\n      <th>AC</th>\\n      <td>NaN</td>\\n      <td>NaN</td>\\n      <td>50.0</td>\\n      <td>50</td>\\n      <td>NaN</td>\\n      <td>NaN</td>\\n      <td>45.0</td>\\n      <td>45</td>\\n    </tr>\\n    <tr>\\n      <th>total</th>\\n      <th></th>\\n      <td>30.0</td>\\n      <td>30.0</td>\\n      <td>90.0</td>\\n      <td>150</td>\\n      <td>20.0</td>\\n      <td>25.0</td>\\n      <td>80.0</td>\\n      <td>125</td>\\n    </tr>\\n  </tbody>\\n</table>'"
      ]
     },
     "execution_count": 35,
     "metadata": {},
     "output_type": "execute_result"
    }
   ],
   "source": [
    "pivot_table.to_html()\n"
   ]
  },
  {
   "cell_type": "code",
   "execution_count": 10,
   "metadata": {},
   "outputs": [
    {
     "name": "stdout",
     "output_type": "stream",
     "text": [
      "An error occurred: The name None occurs multiple times, use a level number\n"
     ]
    }
   ],
   "source": [
    "import pandas as pd\n",
    "\n",
    "# Sample DataFrame\n",
    "data = {\n",
    "    'Category': ['A', 'A', 'B', 'B', 'C'],\n",
    "    'Value1': [10, 20, 30, 40, 50],\n",
    "    'Value2': [5, 15, 25, 35, 45]\n",
    "}\n",
    "\n",
    "df = pd.DataFrame(data)\n",
    "\n",
    "# Check for duplicate column names (optional safeguard)\n",
    "if df.columns.duplicated().any():\n",
    "    raise ValueError(\"Duplicate column names found.\")\n",
    "\n",
    "df.reset_index(drop=True, inplace=True)  # Resetting the index\n",
    "\n",
    "# Define aggregation functions\n",
    "aggfunc = {\n",
    "    'Value1': ['sum', 'mean'],  # Sum and mean for Value1\n",
    "    'Value2': ['min', 'max']     # Min and max for Value2\n",
    "}\n",
    "\n",
    "# Create the pivot table\n",
    "try:\n",
    "    pivot_table = pd.pivot_table(\n",
    "        data=df,\n",
    "        index='Category',\n",
    "        values=['Value1', 'Value2'],\n",
    "        aggfunc=aggfunc,\n",
    "        fill_value=0,  # Replace missing values with 0\n",
    "        margins=True,  # Include row/column totals\n",
    "        margins_name='Total'  # Custom name for totals\n",
    "    )\n",
    "    print(pivot_table)\n",
    "except Exception as e:\n",
    "    print(\"An error occurred:\", e)\n"
   ]
  },
  {
   "cell_type": "code",
   "execution_count": 11,
   "metadata": {},
   "outputs": [
    {
     "name": "stdout",
     "output_type": "stream",
     "text": [
      "  Category  Value1_sum  Value1_mean  Value2_min  Value2_max\n",
      "0        A        30.0         15.0         5.0        15.0\n",
      "1        B        70.0         35.0        25.0        35.0\n",
      "2        C        50.0         50.0        45.0        45.0\n",
      "3    Total       150.0        100.0        75.0        95.0\n"
     ]
    }
   ],
   "source": [
    "import pandas as pd\n",
    "\n",
    "# Sample DataFrame\n",
    "data = {\n",
    "    'Category': ['A', 'A', 'B', 'B', 'C'],\n",
    "    'Value1': [10, 20, 30, 40, 50],\n",
    "    'Value2': [5, 15, 25, 35, 45]\n",
    "}\n",
    "\n",
    "df = pd.DataFrame(data)\n",
    "\n",
    "# Group by 'Category' and manually aggregate\n",
    "grouped = df.groupby('Category').agg({\n",
    "    'Value1': ['sum', 'mean'],   # Sum and mean for Value1\n",
    "    'Value2': ['min', 'max']     # Min and max for Value2\n",
    "})\n",
    "\n",
    "# Flatten the MultiIndex columns for better readability\n",
    "grouped.columns = ['_'.join(col) for col in grouped.columns]\n",
    "\n",
    "# Reset the index to make 'Category' a column again\n",
    "grouped = grouped.reset_index()\n",
    "\n",
    "# Add a 'Total' row (margins)\n",
    "total_row = pd.DataFrame(grouped.iloc[:, 1:].sum()).T  # Sum of numeric columns\n",
    "total_row.insert(0, 'Category', 'Total')  # Add 'Total' in Category column\n",
    "\n",
    "# Concatenate the total row with the grouped data\n",
    "pivot_manual = pd.concat([grouped, total_row], ignore_index=True)\n",
    "\n",
    "print(pivot_manual)\n"
   ]
  },
  {
   "cell_type": "code",
   "execution_count": 12,
   "metadata": {},
   "outputs": [
    {
     "name": "stdout",
     "output_type": "stream",
     "text": [
      "  Category  Value1_sum  Value1_mean  Value2_min  Value2_max\n",
      "0        A        30.0         15.0         5.0        15.0\n",
      "1        B        70.0         35.0        25.0        35.0\n",
      "2        C        50.0         50.0        45.0        45.0\n",
      "3    Total       150.0        100.0        75.0        95.0\n"
     ]
    }
   ],
   "source": [
    "import pandas as pd\n",
    "\n",
    "# Sample DataFrame\n",
    "data = {\n",
    "    'Category': ['A', 'A', 'B', 'B', 'C'],\n",
    "    'Value1': [10, 20, 30, 40, 50],\n",
    "    'Value2': [5, 15, 25, 35, 45]\n",
    "}\n",
    "\n",
    "df = pd.DataFrame(data)\n",
    "\n",
    "# Check for duplicate columns\n",
    "if df.columns.duplicated().any():\n",
    "    raise ValueError(\"Duplicate column names found.\")\n",
    "\n",
    "# Reset index if necessary\n",
    "df.reset_index(drop=True, inplace=True)\n",
    "\n",
    "# Define rows, values, and aggfuncs\n",
    "rows_list = ['Category']\n",
    "values_list = ['Value1', 'Value2']\n",
    "\n",
    "# Define custom aggregation functions\n",
    "aggfunc = {\n",
    "    'Value1': ['sum', 'mean'],  # Sum and mean for Value1\n",
    "    'Value2': ['min', 'max']    # Min and max for Value2\n",
    "}\n",
    "\n",
    "# Step 1: Group by 'Category' and apply aggregation functions\n",
    "grouped = df.groupby(rows_list).agg(aggfunc)\n",
    "\n",
    "# Step 2: Flatten the MultiIndex columns for readability\n",
    "grouped.columns = ['_'.join(col) for col in grouped.columns]\n",
    "\n",
    "# Step 3: Reset the index to make 'Category' a column again\n",
    "grouped = grouped.reset_index()\n",
    "\n",
    "# Step 4: Add a 'Total' row (margins)\n",
    "total_row = pd.DataFrame(grouped.iloc[:, 1:].sum()).T  # Sum all numeric columns\n",
    "total_row.insert(0, 'Category', 'Total')  # Add 'Total' label to 'Category' column\n",
    "\n",
    "# Step 5: Concatenate the total row with the grouped data\n",
    "pivot_manual = pd.concat([grouped, total_row], ignore_index=True)\n",
    "\n",
    "# Display the manual pivot table\n",
    "print(pivot_manual)"
   ]
  },
  {
   "cell_type": "code",
   "execution_count": 50,
   "metadata": {},
   "outputs": [
    {
     "name": "stdout",
     "output_type": "stream",
     "text": [
      "********pivot==                          MRP     DMRP                      \n",
      "                          sum     mean       min     max    \n",
      "Type                        X   Y    X     Y   X   Y   X   Y\n",
      "Department Sub-Department                                   \n",
      "A          A               10   0  5.0   0.0   5   0   5   0\n",
      "           AA               0  20  0.0  15.0   0  15   0  15\n",
      "     Department Sub-Department MRP     DMRP                        \\\n",
      "                               sum     mean       min     max       \n",
      "Type                             X   Y    X     Y   X   Y   X   Y   \n",
      "0             A              A  10   0  5.0   0.0   5   0   5   0   \n",
      "1             A             AA   0  20  0.0  15.0   0  15   0  15   \n",
      "\n",
      "     Total of DMRP Total of MRP  \n",
      "                                 \n",
      "Type                             \n",
      "0             15.0           10  \n",
      "1             45.0           20  \n"
     ]
    }
   ],
   "source": [
    "import pandas as pd\n",
    "\n",
    "# Sample DataFrame\n",
    "data = {\n",
    "    'Department': ['A', 'A', 'B', 'B', 'C'],\n",
    "    'Sub-Department': ['A', 'AA', 'AB', 'BB', 'cC'],\n",
    "    'Type': ['X', 'Y', 'X', 'Y', 'X'],\n",
    "    'MRP': [10, 20, 30, 40, 50],\n",
    "    'DMRP': [5, 15, 25, 35, 45]\n",
    "}\n",
    "\n",
    "df = pd.DataFrame(data)\n",
    "\n",
    "# Define pivot components\n",
    "rows_list = ['Department', 'Sub-Department']         # Rows to group by\n",
    "columns_list = ['Type']           # Columns to pivot\n",
    "filters_list = {'Department':'A'}    \n",
    "values_list = {'MRP','DMRP'}# Filters (e.g., {'Value1': 30})\n",
    "aggfunc_list = {'MRP': ['sum'], 'DMRP': ['mean', 'min', 'max']}  # Aggregation functions\n",
    "\n",
    "# Step 1: Apply filters if any\n",
    "if filters_list:\n",
    "    for col, val in filters_list.items():\n",
    "        df = df[df[col] == val]\n",
    "grouped = df.groupby(rows_list + columns_list).agg(aggfunc_list)\n",
    "pivot = grouped.unstack(columns_list, fill_value=0)\n",
    "print(f\"********pivot=={pivot}\")\n",
    "# pivot.columns = ['_'.join(map(str, col)).strip() for col in pivot.columns]\n",
    "\n",
    "pivot = pivot.reset_index()\n",
    "\n",
    "# # Step 6: Optionally add a 'Total' row for margins\n",
    "\n",
    "\n",
    "# total_col = pd.DataFrame(pivot.columns.get_level_values(0))\n",
    "new_pivot = pd.DataFrame()\n",
    "for total in values_list:\n",
    "    new_df = pivot[total]\n",
    "    pivot['Total of ' + total] = new_df.sum(axis=1)\n",
    "    # new_pivot = pd.concat([new_pivot, new_df], axis=1)\n",
    "\n",
    "print(pivot)\n",
    "\n",
    "\n",
    "for cols in columns_list:\n",
    "    new_row[cols] = pivot[cols].sum()\n",
    "    \n",
    "    # new_pivot = pd.concat([new_pivot, new_df], axis=1)\n",
    "    \n",
    "\n",
    "# # Display the manual pivot table\n",
    "# print(pivot_manual)\n"
   ]
  },
  {
   "cell_type": "code",
   "execution_count": 14,
   "metadata": {},
   "outputs": [
    {
     "name": "stdout",
     "output_type": "stream",
     "text": [
      "Grouped DataFrame (MultiIndex):\n",
      "               Value1\n",
      "Category Type        \n",
      "A        X         10\n",
      "         Y         20\n",
      "B        X         30\n",
      "         Y         40\n",
      "C        X         50\n",
      "\n",
      "Unstacked DataFrame (Pivoted):\n",
      "         Value1      \n",
      "Type          X     Y\n",
      "Category             \n",
      "A          10.0  20.0\n",
      "B          30.0  40.0\n",
      "C          50.0   NaN\n"
     ]
    }
   ],
   "source": [
    "import pandas as pd\n",
    "\n",
    "# Sample DataFrame\n",
    "data = {\n",
    "    'Category': ['A', 'A', 'B', 'B', 'C'],\n",
    "    'Type': ['X', 'Y', 'X', 'Y', 'X'],\n",
    "    'Value1': [10, 20, 30, 40, 50],\n",
    "    'Value2': [5, 15, 25, 35, 45]\n",
    "}\n",
    "\n",
    "df = pd.DataFrame(data)\n",
    "\n",
    "# Group by 'Category' and 'Type' and calculate sum of 'Value1'\n",
    "grouped = df.groupby(['Department', 'Type']).agg({'Value1': 'sum'})\n",
    "\n",
    "print(\"Grouped DataFrame (MultiIndex):\")\n",
    "print(grouped)\n",
    "\n",
    "# Use unstack to pivot the 'Type' level into columns\n",
    "pivot = grouped.unstack()\n",
    "\n",
    "print(\"\\nUnstacked DataFrame (Pivoted):\")\n",
    "print(pivot)\n"
   ]
  }
 ],
 "metadata": {
  "kernelspec": {
   "display_name": "base",
   "language": "python",
   "name": "python3"
  },
  "language_info": {
   "codemirror_mode": {
    "name": "ipython",
    "version": 3
   },
   "file_extension": ".py",
   "mimetype": "text/x-python",
   "name": "python",
   "nbconvert_exporter": "python",
   "pygments_lexer": "ipython3",
   "version": "3.11.7"
  }
 },
 "nbformat": 4,
 "nbformat_minor": 2
}
