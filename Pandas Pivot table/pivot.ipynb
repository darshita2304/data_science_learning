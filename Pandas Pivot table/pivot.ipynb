{
 "cells": [
  {
   "cell_type": "code",
   "execution_count": 2,
   "metadata": {},
   "outputs": [],
   "source": [
    "import pandas as pd"
   ]
  },
  {
   "cell_type": "code",
   "execution_count": 27,
   "metadata": {},
   "outputs": [],
   "source": [
    "df = pd.read_csv('Forwards.csv')"
   ]
  },
  {
   "cell_type": "code",
   "execution_count": 28,
   "metadata": {},
   "outputs": [
    {
     "data": {
      "text/html": [
       "<div>\n",
       "<style scoped>\n",
       "    .dataframe tbody tr th:only-of-type {\n",
       "        vertical-align: middle;\n",
       "    }\n",
       "\n",
       "    .dataframe tbody tr th {\n",
       "        vertical-align: top;\n",
       "    }\n",
       "\n",
       "    .dataframe thead th {\n",
       "        text-align: right;\n",
       "    }\n",
       "</style>\n",
       "<table border=\"1\" class=\"dataframe\">\n",
       "  <thead>\n",
       "    <tr style=\"text-align: right;\">\n",
       "      <th></th>\n",
       "      <th>India Id</th>\n",
       "      <th>Trade Id</th>\n",
       "      <th>Product Description</th>\n",
       "      <th>Trade Date</th>\n",
       "      <th>Start Date</th>\n",
       "      <th>MR_MATURITY_DATE</th>\n",
       "      <th>Entered Date</th>\n",
       "      <th>CounterParty (F)</th>\n",
       "      <th>Book</th>\n",
       "      <th>Buy/Sell</th>\n",
       "      <th>Currency Pair</th>\n",
       "      <th>Prim Cur</th>\n",
       "      <th>Prim Amt</th>\n",
       "      <th>Trade Price</th>\n",
       "      <th>Sec Cur</th>\n",
       "      <th>Sec Amt</th>\n",
       "      <th>TradeStatus</th>\n",
       "    </tr>\n",
       "  </thead>\n",
       "  <tbody>\n",
       "    <tr>\n",
       "      <th>0</th>\n",
       "      <td>26997</td>\n",
       "      <td>13782015.0</td>\n",
       "      <td>2199667/FXFlexiForward/MerchantFX/RETAIL/USD/I...</td>\n",
       "      <td>01-03-21 0:00</td>\n",
       "      <td>01-09-21</td>\n",
       "      <td>07-03-24</td>\n",
       "      <td>01-03-21 0:00</td>\n",
       "      <td>Counterparty 1</td>\n",
       "      <td>TB.IND.TRADING.TIMEOPT</td>\n",
       "      <td>Buy</td>\n",
       "      <td>USD/INR</td>\n",
       "      <td>USD</td>\n",
       "      <td>450000</td>\n",
       "      <td>75.38</td>\n",
       "      <td>INR</td>\n",
       "      <td>-33921000.00</td>\n",
       "      <td>VERIFIED</td>\n",
       "    </tr>\n",
       "    <tr>\n",
       "      <th>1</th>\n",
       "      <td>27966</td>\n",
       "      <td>14734932.0</td>\n",
       "      <td>2219298/FXFlexiForward/MerchantFX/RETAIL/USD/I...</td>\n",
       "      <td>12-03-21 0:00</td>\n",
       "      <td>30-07-21</td>\n",
       "      <td>23-03-25</td>\n",
       "      <td>12-03-21 0:00</td>\n",
       "      <td>Counterparty 2</td>\n",
       "      <td>TB.IND.TRADING.TIMEOPT</td>\n",
       "      <td>Buy</td>\n",
       "      <td>USD/INR</td>\n",
       "      <td>USD</td>\n",
       "      <td>83395.63</td>\n",
       "      <td>74.21</td>\n",
       "      <td>INR</td>\n",
       "      <td>-6188581.22</td>\n",
       "      <td>VERIFIED</td>\n",
       "    </tr>\n",
       "  </tbody>\n",
       "</table>\n",
       "</div>"
      ],
      "text/plain": [
       "   India Id    Trade Id                                Product Description  \\\n",
       "0     26997  13782015.0  2199667/FXFlexiForward/MerchantFX/RETAIL/USD/I...   \n",
       "1     27966  14734932.0  2219298/FXFlexiForward/MerchantFX/RETAIL/USD/I...   \n",
       "\n",
       "      Trade Date Start Date MR_MATURITY_DATE   Entered Date CounterParty (F)  \\\n",
       "0  01-03-21 0:00   01-09-21         07-03-24  01-03-21 0:00   Counterparty 1   \n",
       "1  12-03-21 0:00   30-07-21         23-03-25  12-03-21 0:00   Counterparty 2   \n",
       "\n",
       "                     Book Buy/Sell Currency Pair Prim Cur  Prim Amt  \\\n",
       "0  TB.IND.TRADING.TIMEOPT      Buy       USD/INR      USD    450000   \n",
       "1  TB.IND.TRADING.TIMEOPT      Buy       USD/INR      USD  83395.63   \n",
       "\n",
       "  Trade Price Sec Cur      Sec Amt TradeStatus  \n",
       "0       75.38     INR -33921000.00    VERIFIED  \n",
       "1       74.21     INR  -6188581.22    VERIFIED  "
      ]
     },
     "execution_count": 28,
     "metadata": {},
     "output_type": "execute_result"
    }
   ],
   "source": [
    "df.head(2)"
   ]
  },
  {
   "cell_type": "code",
   "execution_count": 35,
   "metadata": {},
   "outputs": [],
   "source": [
    "table = pd.pivot_table(df, values='Sec Amt', index=['CounterParty (F)', 'Book'],\n",
    "                       columns=['Buy/Sell','Prim Cur'], aggfunc=\"sum\")"
   ]
  },
  {
   "cell_type": "code",
   "execution_count": 37,
   "metadata": {},
   "outputs": [
    {
     "data": {
      "text/html": [
       "<div>\n",
       "<style scoped>\n",
       "    .dataframe tbody tr th:only-of-type {\n",
       "        vertical-align: middle;\n",
       "    }\n",
       "\n",
       "    .dataframe tbody tr th {\n",
       "        vertical-align: top;\n",
       "    }\n",
       "\n",
       "    .dataframe thead tr th {\n",
       "        text-align: left;\n",
       "    }\n",
       "\n",
       "    .dataframe thead tr:last-of-type th {\n",
       "        text-align: right;\n",
       "    }\n",
       "</style>\n",
       "<table border=\"1\" class=\"dataframe\">\n",
       "  <thead>\n",
       "    <tr>\n",
       "      <th></th>\n",
       "      <th>Buy/Sell</th>\n",
       "      <th>Buy</th>\n",
       "      <th>Sell</th>\n",
       "    </tr>\n",
       "    <tr>\n",
       "      <th></th>\n",
       "      <th>Prim Cur</th>\n",
       "      <th>USD</th>\n",
       "      <th>USD</th>\n",
       "    </tr>\n",
       "    <tr>\n",
       "      <th>CounterParty (F)</th>\n",
       "      <th>Book</th>\n",
       "      <th></th>\n",
       "      <th></th>\n",
       "    </tr>\n",
       "  </thead>\n",
       "  <tbody>\n",
       "    <tr>\n",
       "      <th>Counterparty 1</th>\n",
       "      <th>TB.IND.TRADING.TIMEOPT</th>\n",
       "      <td>-33921000.0</td>\n",
       "      <td>NaN</td>\n",
       "    </tr>\n",
       "    <tr>\n",
       "      <th>Counterparty 10</th>\n",
       "      <th>TB.IND.TRADING.TIMEOPT</th>\n",
       "      <td>NaN</td>\n",
       "      <td>18716269.43</td>\n",
       "    </tr>\n",
       "    <tr>\n",
       "      <th>Counterparty 11</th>\n",
       "      <th>TB.IND.TRADING.TIMEOPT</th>\n",
       "      <td>NaN</td>\n",
       "      <td>23284669.84</td>\n",
       "    </tr>\n",
       "  </tbody>\n",
       "</table>\n",
       "</div>"
      ],
      "text/plain": [
       "Buy/Sell                                        Buy         Sell\n",
       "Prim Cur                                        USD          USD\n",
       "CounterParty (F) Book                                           \n",
       "Counterparty 1   TB.IND.TRADING.TIMEOPT -33921000.0          NaN\n",
       "Counterparty 10  TB.IND.TRADING.TIMEOPT         NaN  18716269.43\n",
       "Counterparty 11  TB.IND.TRADING.TIMEOPT         NaN  23284669.84"
      ]
     },
     "execution_count": 37,
     "metadata": {},
     "output_type": "execute_result"
    }
   ],
   "source": [
    "table.head(3)"
   ]
  },
  {
   "cell_type": "code",
   "execution_count": 39,
   "metadata": {},
   "outputs": [
    {
     "data": {
      "text/plain": [
       "'{\"(\\'Buy\\', \\'USD\\')\":{\"(\\'Counterparty 1\\', \\'TB.IND.TRADING.TIMEOPT\\')\":-33921000.0,\"(\\'Counterparty 10\\', \\'TB.IND.TRADING.TIMEOPT\\')\":null,\"(\\'Counterparty 11\\', \\'TB.IND.TRADING.TIMEOPT\\')\":null,\"(\\'Counterparty 12\\', \\'TB.IND.TRADING.TIMEOPT\\')\":null,\"(\\'Counterparty 13\\', \\'TB.IND.TRADING.TIMEOPT\\')\":null,\"(\\'Counterparty 14\\', \\'TB.IND.TRADING.TIMEOPT\\')\":null,\"(\\'Counterparty 15\\', \\'TB.IND.TRADING.TIMEOPT\\')\":null,\"(\\'Counterparty 16\\', \\'TB.IND.TRADING.TIMEOPT\\')\":null,\"(\\'Counterparty 17\\', \\'TB.IND.TRADING.TIMEOPT\\')\":null,\"(\\'Counterparty 18\\', \\'TB.IND.TRADING.TIMEOPT\\')\":null,\"(\\'Counterparty 19\\', \\'TB.IND.TRADING.TIMEOPT\\')\":null,\"(\\'Counterparty 2\\', \\'TB.IND.TRADING.TIMEOPT\\')\":-6188581.2199999997,\"(\\'Counterparty 20\\', \\'TB.IND.TRADING.TIMEOPT\\')\":null,\"(\\'Counterparty 21\\', \\'TB.IND.TRADING.TIMEOPT\\')\":null,\"(\\'Counterparty 22\\', \\'TB.IND.TRADING.TIMEOPT\\')\":null,\"(\\'Counterparty 23\\', \\'TB.IND.TRADING.TIMEOPT\\')\":null,\"(\\'Counterparty 24\\', \\'TB.IND.TRADING.TIMEOPT\\')\":null,\"(\\'Counterparty 25\\', \\'TB.IND.TRADING.TIMEOPT\\')\":null,\"(\\'Counterparty 26\\', \\'TB.IND.TRADING.TIMEOPT\\')\":null,\"(\\'Counterparty 27\\', \\'TB.IND.TRADING.TIMEOPT\\')\":null,\"(\\'Counterparty 3\\', \\'TB.IND.TRADING.TIMEOPT\\')\":-74635000.0,\"(\\'Counterparty 4\\', \\'TB.IND.TRADING.TIMEOPT\\')\":-71162125.0,\"(\\'Counterparty 5\\', \\'TB.IND.TRADING.TIMEOPT\\')\":-71409125.0,\"(\\'Counterparty 6\\', \\'TB.IND.TRADING.TIMEOPT\\')\":0.0,\"(\\'Counterparty 7\\', \\'TB.IND.TRADING.TIMEOPT\\')\":-149902600.0,\"(\\'Counterparty 8\\', \\'TB.IND.TRADING.TIMEOPT\\')\":-75205000.0,\"(\\'Counterparty 9\\', \\'TB.IND.TRADING.TIMEOPT\\')\":-75745000.0},\"(\\'Sell\\', \\'USD\\')\":{\"(\\'Counterparty 1\\', \\'TB.IND.TRADING.TIMEOPT\\')\":null,\"(\\'Counterparty 10\\', \\'TB.IND.TRADING.TIMEOPT\\')\":18716269.4299999997,\"(\\'Counterparty 11\\', \\'TB.IND.TRADING.TIMEOPT\\')\":23284669.8399999999,\"(\\'Counterparty 12\\', \\'TB.IND.TRADING.TIMEOPT\\')\":1331773.0,\"(\\'Counterparty 13\\', \\'TB.IND.TRADING.TIMEOPT\\')\":13081414.5,\"(\\'Counterparty 14\\', \\'TB.IND.TRADING.TIMEOPT\\')\":18075676.5,\"(\\'Counterparty 15\\', \\'TB.IND.TRADING.TIMEOPT\\')\":369562500.0,\"(\\'Counterparty 16\\', \\'TB.IND.TRADING.TIMEOPT\\')\":736200000.0,\"(\\'Counterparty 17\\', \\'TB.IND.TRADING.TIMEOPT\\')\":0.0,\"(\\'Counterparty 18\\', \\'TB.IND.TRADING.TIMEOPT\\')\":765579.62,\"(\\'Counterparty 19\\', \\'TB.IND.TRADING.TIMEOPT\\')\":73091302.0100000054,\"(\\'Counterparty 2\\', \\'TB.IND.TRADING.TIMEOPT\\')\":null,\"(\\'Counterparty 20\\', \\'TB.IND.TRADING.TIMEOPT\\')\":0.0,\"(\\'Counterparty 21\\', \\'TB.IND.TRADING.TIMEOPT\\')\":63692625.0,\"(\\'Counterparty 22\\', \\'TB.IND.TRADING.TIMEOPT\\')\":70471800.0,\"(\\'Counterparty 23\\', \\'TB.IND.TRADING.TIMEOPT\\')\":206222500.0,\"(\\'Counterparty 24\\', \\'TB.IND.TRADING.TIMEOPT\\')\":210097345.3000000119,\"(\\'Counterparty 25\\', \\'TB.IND.TRADING.TIMEOPT\\')\":68735004.3799999952,\"(\\'Counterparty 26\\', \\'TB.IND.TRADING.TIMEOPT\\')\":374750000.0,\"(\\'Counterparty 27\\', \\'TB.IND.TRADING.TIMEOPT\\')\":299480000.0,\"(\\'Counterparty 3\\', \\'TB.IND.TRADING.TIMEOPT\\')\":null,\"(\\'Counterparty 4\\', \\'TB.IND.TRADING.TIMEOPT\\')\":null,\"(\\'Counterparty 5\\', \\'TB.IND.TRADING.TIMEOPT\\')\":null,\"(\\'Counterparty 6\\', \\'TB.IND.TRADING.TIMEOPT\\')\":null,\"(\\'Counterparty 7\\', \\'TB.IND.TRADING.TIMEOPT\\')\":null,\"(\\'Counterparty 8\\', \\'TB.IND.TRADING.TIMEOPT\\')\":null,\"(\\'Counterparty 9\\', \\'TB.IND.TRADING.TIMEOPT\\')\":null}}'"
      ]
     },
     "execution_count": 39,
     "metadata": {},
     "output_type": "execute_result"
    }
   ],
   "source": [
    "table.to_json(orient='columns')"
   ]
  },
  {
   "cell_type": "code",
   "execution_count": 18,
   "metadata": {},
   "outputs": [
    {
     "data": {
      "text/plain": [
       "pandas.core.frame.DataFrame"
      ]
     },
     "execution_count": 18,
     "metadata": {},
     "output_type": "execute_result"
    }
   ],
   "source": [
    "type(table)"
   ]
  },
  {
   "cell_type": "code",
   "execution_count": 20,
   "metadata": {},
   "outputs": [
    {
     "name": "stdout",
     "output_type": "stream",
     "text": [
      "JSON Records:\n",
      " [{\"Category\":\"A\",\"Values\":30},{\"Category\":\"B\",\"Values\":70},{\"Category\":\"C\",\"Values\":110}]\n",
      "JSON Index:\n",
      " {\"0\":{\"Category\":\"A\",\"Values\":30},\"1\":{\"Category\":\"B\",\"Values\":70},\"2\":{\"Category\":\"C\",\"Values\":110}}\n",
      "JSON Columns:\n",
      " {\"Category\":{\"0\":\"A\",\"1\":\"B\",\"2\":\"C\"},\"Values\":{\"0\":30,\"1\":70,\"2\":110}}\n"
     ]
    }
   ],
   "source": [
    "data = {\n",
    "    'Category': ['A', 'A', 'B', 'B', 'C', 'C'],\n",
    "    'Values': [10, 20, 30, 40, 50, 60]\n",
    "}\n",
    "df = pd.DataFrame(data)\n",
    "\n",
    "pivot_table = pd.pivot_table(df, values='Values', index='Category', aggfunc='sum')\n",
    "pivot_df = pivot_table.reset_index()\n",
    "json_records = pivot_df.to_json(orient='records')\n",
    "json_index = pivot_df.to_json(orient='index')\n",
    "json_columns = pivot_df.to_json(orient='columns')\n",
    "\n",
    "print(\"JSON Records:\\n\", json_records)\n",
    "print(\"JSON Index:\\n\", json_index)\n",
    "print(\"JSON Columns:\\n\", json_columns)"
   ]
  },
  {
   "cell_type": "code",
   "execution_count": 21,
   "metadata": {},
   "outputs": [
    {
     "data": {
      "text/html": [
       "<div>\n",
       "<style scoped>\n",
       "    .dataframe tbody tr th:only-of-type {\n",
       "        vertical-align: middle;\n",
       "    }\n",
       "\n",
       "    .dataframe tbody tr th {\n",
       "        vertical-align: top;\n",
       "    }\n",
       "\n",
       "    .dataframe thead th {\n",
       "        text-align: right;\n",
       "    }\n",
       "</style>\n",
       "<table border=\"1\" class=\"dataframe\">\n",
       "  <thead>\n",
       "    <tr style=\"text-align: right;\">\n",
       "      <th></th>\n",
       "      <th>Values</th>\n",
       "    </tr>\n",
       "    <tr>\n",
       "      <th>Category</th>\n",
       "      <th></th>\n",
       "    </tr>\n",
       "  </thead>\n",
       "  <tbody>\n",
       "    <tr>\n",
       "      <th>A</th>\n",
       "      <td>30</td>\n",
       "    </tr>\n",
       "    <tr>\n",
       "      <th>B</th>\n",
       "      <td>70</td>\n",
       "    </tr>\n",
       "    <tr>\n",
       "      <th>C</th>\n",
       "      <td>110</td>\n",
       "    </tr>\n",
       "  </tbody>\n",
       "</table>\n",
       "</div>"
      ],
      "text/plain": [
       "          Values\n",
       "Category        \n",
       "A             30\n",
       "B             70\n",
       "C            110"
      ]
     },
     "execution_count": 21,
     "metadata": {},
     "output_type": "execute_result"
    }
   ],
   "source": [
    "pivot_table"
   ]
  },
  {
   "cell_type": "code",
   "execution_count": null,
   "metadata": {},
   "outputs": [],
   "source": []
  }
 ],
 "metadata": {
  "kernelspec": {
   "display_name": "base",
   "language": "python",
   "name": "python3"
  },
  "language_info": {
   "codemirror_mode": {
    "name": "ipython",
    "version": 3
   },
   "file_extension": ".py",
   "mimetype": "text/x-python",
   "name": "python",
   "nbconvert_exporter": "python",
   "pygments_lexer": "ipython3",
   "version": "3.11.7"
  }
 },
 "nbformat": 4,
 "nbformat_minor": 2
}
