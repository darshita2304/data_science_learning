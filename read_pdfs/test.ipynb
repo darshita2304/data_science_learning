{
 "cells": [
  {
   "cell_type": "code",
   "execution_count": 11,
   "metadata": {},
   "outputs": [],
   "source": [
    "import pandas as pd"
   ]
  },
  {
   "cell_type": "code",
   "execution_count": 12,
   "metadata": {},
   "outputs": [
    {
     "name": "stdout",
     "output_type": "stream",
     "text": [
      "Requirement already satisfied: pypdf in f:\\anaconda3\\lib\\site-packages (4.2.0)\n",
      "Requirement already satisfied: typing_extensions>=4.0 in f:\\anaconda3\\lib\\site-packages (from pypdf) (4.10.0)\n",
      "Note: you may need to restart the kernel to use updated packages.\n"
     ]
    }
   ],
   "source": [
    "pip install pypdf"
   ]
  },
  {
   "cell_type": "code",
   "execution_count": 17,
   "metadata": {},
   "outputs": [
    {
     "name": "stdout",
     "output_type": "stream",
     "text": [
      "208\n",
      "4/18/24, 12:17 PM report2.jetnetevolution.com/tempﬁles/8018_MJohanson_1_share_holder_with_aircraft_information_35_4_18_2024_3_13_6_359_PM.txt\n",
      "https://report2.jetnetevolution.com/tempﬁles/8018_MJohanson_1_share_holder_with_aircraft_information_35_4_18_2024_3_13_6_359_PM.txt 1/208COMPANY COMPALTNAME COMPEMAIL COMPWEBADDRESS COMPADDRESS1 COMPADDRESS2 COMPCITY COMPSTATE\n",
      "COMPSTATEABBR COMPPOSTALCODE COMPCOUNTRY COMPOFFICE COMPFAX COMPMOBILE CONTACTPREFIX CONTACTFIRST NAME\n",
      "CONTACTMI CONTACTLAST NAME CONTACTSUFFIX CONTACTTITLE CONTACTEMAILADDRESS CONTACTOFFICE CONTACTFAX\n",
      "CONTACTMOBILE MAKETYPE MAKE MODEL SERIALNBR REGNBR PERCENTOWNED PURCHASEDATE EXPIRESDATE\n",
      "PROGRAMHOLDER\n",
      "100% Soaring, LLC Texas TX United States\n",
      "Dr. Jason Helfrich Manager J EMBRAER PHENOM 300 50500639\n",
      "N387FX 12.5% 11/23/2021 11/23/2026 Flexjet, LLC\n",
      "100% Soaring, LLC Texas TX United States\n",
      "Dr. Vanessa Helfrich Manager J EMBRAER PHENOM 300 50500639\n",
      "N387FX 12.5% 11/23/2021 11/23/2026 Flexjet, LLC\n",
      "1055 Ferndale, LLC 493 Bovey Road Wazata Minnesota MN 55391 United \n",
      "States Mr. Michael E. Dougherty Manager 612-376-4000 J\n",
      "CHALLENGER 3500 20953 N509FX 6.25% 6/8/2023 6/8/2028 Flexjet, LLC\n",
      "10P, LLC ewesterhausen@chotin.com 5675 DTC Boulevard, Suite 200 Greenwood Village\n",
      "Colorado CO 80111 United States 303-741-0100 303-741-6944\n",
      "J GULFSTREAM G450 4277 N481FX 6.25% 10/24/2023 10/24/2028 Flexjet, LLC\n",
      "10P, LLC ewesterhausen@chotin.com 5675 DTC Boulevard, Suite 200 Greenwood Village\n",
      "Colorado CO 80111 United States 303-741-0100 303-741-6944 Mr. Eric\n",
      "Westerhausen Manager ewesterhausen@chotin.com J GULFSTREAM G450 4277\n",
      "N481FX 6.25% 10/24/2023 10/24/2028 Flexjet, LLC\n",
      "10th Street Ventures, LLC kurt.long@gmail.com 1909 Illinois Avenue NE St. Petersburg\n",
      "Florida FL 33703 United States Mr. Kurt J. Long Manager\n",
      "kurt.long@gmail.com J CHALLENGER 350 20865 N577FX 6.25% 1/13/2021 1/13/2026\n",
      "Flexjet, LLC\n",
      "119JR Air, LLC psperanza@oppc.com 8130 LeHigh Avenue Morton Grove Illinois IL\n",
      "60053 United States Mr. Peter A. Speranza psperanza@oppc.com\n",
      "J EMBRAER PRAETOR 500 55010065 N427FX 12.5% 12/30/2020 12/30/2025 Flexjet, LLC\n",
      "1265 Flying Point Road, LLC 61 5th Avenue, #3 New York New York NY\n",
      "10003 United States Mr. Jeffrey L. Horing Member 212-230-9200\n",
      "J EMBRAER PRAETOR 500 55010041 N421FX 6.25% 7/14/2020 7/14/2025 Flexjet, LLC\n",
      "1265 Flying Point Road, LLC 61 5th Avenue, #3 New York New York NY\n",
      "10003 United States Mr. Patricia Horing Member\n",
      "J EMBRAER PRAETOR 500 55010041 N421FX 6.25% 7/14/2020 7/14/2025 Flexjet, LLC\n",
      "12N Aero, LLC sachinpatel@12n.com 8701 Collins Avenue, Unit 902 Miami Beach Florida FL\n",
      "33154 United States Mr. Sachin J. Patel Member sachinpatel@12n.com\n",
      "973-954-3665J EMBRAER PRAETOR 600 55020164 N601FX 6.25% 12/15/2022 12/15/2027 Flexjet, LLC\n",
      "12N Aero, LLC sachinpatel@12n.com 8701 Collins Avenue, Unit 902 Miami Beach Florida FL\n",
      "33154 United States Ms. Jayden Patel Member J\n",
      "EMBRAER PRAETOR 600 55020164 N601FX 6.25% 12/15/2022 12/15/2027 Flexjet, LLC\n",
      "150 South Road, LLC P.O. Box 5001, One Park Circle Westfield Center Ohio OH\n",
      "44251 United States 330-887-0101 330-887-0840 Mr. Edward J. Largent III\n",
      "330-887-0101 J EMBRAER PRAETOR 500 55010070 N431FX 12.5% 9/22/2020 9/22/2025\n",
      "Flexjet, LLC\n",
      "18 Aviation, LLC C/O Passion Growers jaime@passiongrowers.com 7499 NW 31 Street\n",
      "Miami Florida FL 33122 United States 305-935-6657 Mr. Jaime Peisach\n",
      "Manager jaime@passiongrowers.com 305-468-8449 J EMBRAER PRAETOR 600 55020171 N602FX\n",
      "6.25% 8/1/2023 8/1/2028 Flexjet, LLC\n"
     ]
    }
   ],
   "source": [
    "#  importing required classes \n",
    "from pypdf import PdfReader \n",
    "  \n",
    "# creating a pdf reader object \n",
    "reader = PdfReader('2.pdf') \n",
    "  \n",
    "# printing number of pages in pdf file \n",
    "print(len(reader.pages)) \n",
    "  \n",
    "# creating a page object \n",
    "page = reader.pages[0] \n",
    "  \n",
    "# extracting text from page \n",
    "print(page.extract_text()) "
   ]
  },
  {
   "cell_type": "code",
   "execution_count": 16,
   "metadata": {},
   "outputs": [
    {
     "data": {
      "text/plain": [
       "str"
      ]
     },
     "execution_count": 16,
     "metadata": {},
     "output_type": "execute_result"
    }
   ],
   "source": [
    "type(page.extract_text())"
   ]
  },
  {
   "cell_type": "code",
   "execution_count": 5,
   "metadata": {},
   "outputs": [
    {
     "name": "stdout",
     "output_type": "stream",
     "text": [
      "Requirement already satisfied: tabula-py in f:\\anaconda3\\lib\\site-packages (2.9.0)\n",
      "Requirement already satisfied: distro in f:\\anaconda3\\lib\\site-packages (from tabula-py) (1.8.0)\n",
      "Requirement already satisfied: pandas>=0.25.3 in f:\\anaconda3\\lib\\site-packages (from tabula-py) (1.4.4)\n",
      "Requirement already satisfied: numpy in f:\\anaconda3\\lib\\site-packages (from tabula-py) (1.23.5)\n",
      "Requirement already satisfied: python-dateutil>=2.8.1 in f:\\anaconda3\\lib\\site-packages (from pandas>=0.25.3->tabula-py) (2.8.2)\n",
      "Requirement already satisfied: pytz>=2020.1 in f:\\anaconda3\\lib\\site-packages (from pandas>=0.25.3->tabula-py) (2023.3.post1)\n",
      "Requirement already satisfied: six>=1.5 in f:\\anaconda3\\lib\\site-packages (from python-dateutil>=2.8.1->pandas>=0.25.3->tabula-py) (1.16.0)\n",
      "Note: you may need to restart the kernel to use updated packages.\n"
     ]
    }
   ],
   "source": [
    "pip install tabula-py"
   ]
  },
  {
   "cell_type": "code",
   "execution_count": 22,
   "metadata": {},
   "outputs": [],
   "source": [
    "import tabula\n",
    "import pandas as pd\n",
    "\n",
    "\n",
    "def pdf_to_excel(pdf_file_path, excel_file_path):\n",
    "    # Read PDF file\n",
    "    tables = tabula.read_pdf(pdf_file_path, pages='all')\n",
    "\n",
    "    # Write each table to a separate sheet in the Excel file\n",
    "    with pd.ExcelWriter(excel_file_path) as writer:\n",
    "        for i, table in enumerate(tables):\n",
    "            table.to_excel(writer, sheet_name=f'Sheet{i+1}')\n",
    "\n",
    "\n",
    "pdf_to_excel('2.pdf', '2.xlsx')"
   ]
  },
  {
   "cell_type": "code",
   "execution_count": 2,
   "metadata": {},
   "outputs": [
    {
     "name": "stdout",
     "output_type": "stream",
     "text": [
      "Requirement already satisfied: pdfquery in f:\\anaconda3\\lib\\site-packages (0.4.3)\n",
      "Requirement already satisfied: chardet in f:\\anaconda3\\lib\\site-packages (from pdfquery) (4.0.0)\n",
      "Requirement already satisfied: roman>=1.4.0 in f:\\anaconda3\\lib\\site-packages (from pdfquery) (4.1)\n",
      "Requirement already satisfied: pdfminer.six in f:\\anaconda3\\lib\\site-packages (from pdfquery) (20231228)\n",
      "Requirement already satisfied: lxml>=3.0 in f:\\anaconda3\\lib\\site-packages (from pdfquery) (4.9.1)\n",
      "Requirement already satisfied: cssselect>=0.7.1 in f:\\anaconda3\\lib\\site-packages (from pdfquery) (1.2.0)\n",
      "Requirement already satisfied: pyquery>=1.2.2 in f:\\anaconda3\\lib\\site-packages (from pdfquery) (2.0.0)\n",
      "Requirement already satisfied: charset-normalizer>=2.0.0 in f:\\anaconda3\\lib\\site-packages (from pdfminer.six->pdfquery) (2.0.4)\n",
      "Requirement already satisfied: cryptography>=36.0.0 in f:\\anaconda3\\lib\\site-packages (from pdfminer.six->pdfquery) (37.0.1)\n",
      "Requirement already satisfied: cffi>=1.12 in f:\\anaconda3\\lib\\site-packages (from cryptography>=36.0.0->pdfminer.six->pdfquery) (1.15.1)\n",
      "Requirement already satisfied: pycparser in f:\\anaconda3\\lib\\site-packages (from cffi>=1.12->cryptography>=36.0.0->pdfminer.six->pdfquery) (2.21)\n",
      "Note: you may need to restart the kernel to use updated packages.\n"
     ]
    }
   ],
   "source": [
    "pip install pdfquery"
   ]
  },
  {
   "cell_type": "code",
   "execution_count": 4,
   "metadata": {},
   "outputs": [
    {
     "ename": "NameError",
     "evalue": "name 'pdfquery' is not defined",
     "output_type": "error",
     "traceback": [
      "\u001b[1;31m---------------------------------------------------------------------------\u001b[0m",
      "\u001b[1;31mNameError\u001b[0m                                 Traceback (most recent call last)",
      "\u001b[1;32m~\\AppData\\Local\\Temp\\ipykernel_17036\\2777822164.py\u001b[0m in \u001b[0;36m<module>\u001b[1;34m\u001b[0m\n\u001b[1;32m----> 1\u001b[1;33m \u001b[0mpdf\u001b[0m \u001b[1;33m=\u001b[0m \u001b[0mpdfquery\u001b[0m\u001b[1;33m.\u001b[0m\u001b[0mPDFQuery\u001b[0m\u001b[1;33m(\u001b[0m\u001b[1;34m'2.pdf'\u001b[0m\u001b[1;33m)\u001b[0m\u001b[1;33m\u001b[0m\u001b[1;33m\u001b[0m\u001b[0m\n\u001b[0m\u001b[0;32m      2\u001b[0m \u001b[0mpdf\u001b[0m\u001b[1;33m.\u001b[0m\u001b[0mload\u001b[0m\u001b[1;33m(\u001b[0m\u001b[1;33m)\u001b[0m\u001b[1;33m\u001b[0m\u001b[1;33m\u001b[0m\u001b[0m\n\u001b[0;32m      3\u001b[0m \u001b[1;33m\u001b[0m\u001b[0m\n\u001b[0;32m      4\u001b[0m \u001b[1;33m\u001b[0m\u001b[0m\n\u001b[0;32m      5\u001b[0m \u001b[1;31m# convert the pdf to XML\u001b[0m\u001b[1;33m\u001b[0m\u001b[1;33m\u001b[0m\u001b[0m\n",
      "\u001b[1;31mNameError\u001b[0m: name 'pdfquery' is not defined"
     ]
    }
   ],
   "source": [
    "pdf = pdfquery.PDFQuery('2.pdf')\n",
    "pdf.load()\n",
    "\n",
    "\n",
    "# convert the pdf to XML\n",
    "pdf.tree.write('2.xml', pretty_print=True)\n",
    "pdf"
   ]
  },
  {
   "cell_type": "code",
   "execution_count": null,
   "metadata": {},
   "outputs": [],
   "source": []
  }
 ],
 "metadata": {
  "kernelspec": {
   "display_name": "base",
   "language": "python",
   "name": "python3"
  },
  "language_info": {
   "codemirror_mode": {
    "name": "ipython",
    "version": 3
   },
   "file_extension": ".py",
   "mimetype": "text/x-python",
   "name": "python",
   "nbconvert_exporter": "python",
   "pygments_lexer": "ipython3",
   "version": "3.9.13"
  }
 },
 "nbformat": 4,
 "nbformat_minor": 2
}
